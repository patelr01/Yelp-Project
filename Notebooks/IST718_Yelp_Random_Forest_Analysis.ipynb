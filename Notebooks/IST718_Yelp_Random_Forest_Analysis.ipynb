{
 "cells": [
  {
   "cell_type": "markdown",
   "metadata": {},
   "source": [
    "# Random Forest Analysis on Yelp Dataset"
   ]
  },
  {
   "cell_type": "markdown",
   "metadata": {},
   "source": [
    "# Step: Initiating Spark Session"
   ]
  },
  {
   "cell_type": "code",
   "execution_count": 1,
   "metadata": {
    "collapsed": true
   },
   "outputs": [],
   "source": [
    "#importing spark session\n",
    "import findspark\n",
    "\n",
    "findspark.init()"
   ]
  },
  {
   "cell_type": "code",
   "execution_count": 2,
   "metadata": {
    "collapsed": true
   },
   "outputs": [],
   "source": [
    "#importing library\n",
    "import pyspark\n",
    "from pyspark.sql import SparkSession"
   ]
  },
  {
   "cell_type": "code",
   "execution_count": 3,
   "metadata": {
    "collapsed": true
   },
   "outputs": [],
   "source": [
    "#unified entry point to the cluster\n",
    "spark = SparkSession.builder.getOrCreate()"
   ]
  },
  {
   "cell_type": "code",
   "execution_count": 4,
   "metadata": {
    "collapsed": true
   },
   "outputs": [],
   "source": [
    "#SparkContext and SQLContext\n",
    "sc = spark.sparkContext\n",
    "sqlContext = spark"
   ]
  },
  {
   "cell_type": "code",
   "execution_count": 5,
   "metadata": {
    "collapsed": true
   },
   "outputs": [],
   "source": [
    "#import functions package\n",
    "from pyspark.sql import functions as fn"
   ]
  },
  {
   "cell_type": "code",
   "execution_count": 6,
   "metadata": {
    "collapsed": true
   },
   "outputs": [],
   "source": [
    "#import models\n",
    "from pyspark.ml import feature\n",
    "from pyspark.ml import regression\n",
    "from pyspark.ml import Pipeline, PipelineModel\n",
    "import os"
   ]
  },
  {
   "cell_type": "markdown",
   "metadata": {},
   "source": [
    "## Step: Import the Dataset and clean the dataframe"
   ]
  },
  {
   "cell_type": "code",
   "execution_count": 157,
   "metadata": {
    "collapsed": true
   },
   "outputs": [],
   "source": [
    "#Load user reviews data\n",
    "df_all = spark.read\\\n",
    "    .format('com.databricks.spark.csv')\\\n",
    "    .option('header','true')\\\n",
    "    .option('charset', 'UTF-8')\\\n",
    "    .csv('df_all.csv')"
   ]
  },
  {
   "cell_type": "code",
   "execution_count": 158,
   "metadata": {
    "collapsed": true
   },
   "outputs": [],
   "source": [
    "df_all = df_all.na.drop(subset=['review_id','business_id','user_id','review_rating','review_rating_f','user_avg_rating','business_rating','useful','cool','funny','compliment_profile','compliment_cool','compliment_funny','compliment_plain','compliment_writer','compliment_more','compliment_photos','compliment_note','compliment_cute','compliment_list','compliment_hot'])                   \n",
    "# Remove rows with NULL in column 'content\n",
    "df_ratings = df_all.select('review_id','business_id','user_id','review_rating','review_rating_f','user_avg_rating',\\\n",
    "              'business_rating','useful','cool','funny',\\\n",
    "             ((fn.col('compliment_profile')+fn.col('compliment_cool')+fn.col('compliment_funny')+fn.col('compliment_plain')+\\\n",
    "               fn.col('compliment_writer')+fn.col('compliment_more')+fn.col('compliment_photos')+fn.col('compliment_note')+\\\n",
    "               fn.col('compliment_cute')+fn.col('compliment_list')+fn.col('compliment_hot'))/11).alias('compliment_average'))\n",
    "#Select all the relevant columns"
   ]
  },
  {
   "cell_type": "code",
   "execution_count": 159,
   "metadata": {
    "collapsed": false
   },
   "outputs": [
    {
     "name": "stdout",
     "output_type": "stream",
     "text": [
      "root\n",
      " |-- review_id: string (nullable = true)\n",
      " |-- business_id: string (nullable = true)\n",
      " |-- user_id: string (nullable = true)\n",
      " |-- review_rating: string (nullable = true)\n",
      " |-- review_rating_f: string (nullable = true)\n",
      " |-- user_avg_rating: string (nullable = true)\n",
      " |-- business_rating: string (nullable = true)\n",
      " |-- useful: string (nullable = true)\n",
      " |-- cool: string (nullable = true)\n",
      " |-- funny: string (nullable = true)\n",
      " |-- compliment_average: double (nullable = true)\n",
      "\n",
      "+--------------------+--------------------+--------------------+--------------------+--------------------+--------------------+-----------------+--------------------+--------------------+------------------+-------------------+\n",
      "|           review_id|         business_id|             user_id|       review_rating|     review_rating_f|     user_avg_rating|  business_rating|              useful|                cool|             funny| compliment_average|\n",
      "+--------------------+--------------------+--------------------+--------------------+--------------------+--------------------+-----------------+--------------------+--------------------+------------------+-------------------+\n",
      "| 'RestaurantsPric...|0DI8Dt2PJp07XkVvI...| 'DogsAllowed: Fa...|                  17|                 0.0|                 1.0|      'lot': True|   Innovative Vapors|                 4.5| 'valet': False}\"\"|               null|\n",
      "| 'GoodForKids: True'|FXPJSDOEu-AbyQOui...| 'ByAppointmentOn...| 'BikeParking: Tr...|                 0.0|                 0.0|      'lot': True|                  28|    Escape Adventure| 'valet': False}\"\"|               null|\n",
      "|     'trendy': False|B7lWxgPmJPJJ7Mz2O...|   'touristy': False|   'casual': True}\"\"|   'valet': False}\"\"| \"\"BusinessParkin...| 'hipster': False| 'BYOBCorkage: ye...| \"\"BestNights: {'...|    'divey': False|               null|\n",
      "|     'trendy': False|oi_jhCtPLj6NULrCe...|   'touristy': False|   'casual': True}\"\"|       'lunch': True| 'DogsAllowed: Fa...| 'hipster': False|   'BYOBCorkage: no'| 'BikeParking: True'|    'divey': False|               null|\n",
      "| 'WheelchairAcces...|Nw96innm3adw0prGQ...| 'RestaurantsPric...|        Vapor Vortex|                 0.0|                 0.0|      'lot': True|                 3.5|                   2| 'valet': False}\"\"|               null|\n",
      "|     'trendy': False|teTQU7TIPE0O_B1zN...|   'touristy': False|   'casual': True}\"\"|   'brunch': True}\"\"|  'latenight': False| 'hipster': False| 'BikeParking: True'| 'BusinessAccepts...|    'divey': False|               null|\n",
      "|     'trendy': False|UlGwSAqsPzi-al84U...|   'touristy': False|  'casual': False}\"\"|  'brunch': False}\"\"|  'latenight': False| 'hipster': False| 'BikeParking: True'| 'BusinessAccepts...|     'divey': True|               null|\n",
      "| 'RestaurantsPric...|0DI8Dt2PJp07XkVvI...| 'DogsAllowed: Fa...|                  17|                 0.0|                 0.0|      'lot': True|   Innovative Vapors|                 4.5| 'valet': False}\"\"|               null|\n",
      "| 'RestaurantsPric...|0DI8Dt2PJp07XkVvI...| 'DogsAllowed: Fa...|                  17|                 0.0|                 5.0|      'lot': True|   Innovative Vapors|                 4.5| 'valet': False}\"\"|               null|\n",
      "|xqFpx6FkEpjow6JAh...|XqDeiaPSG0-fBbOXD...|efaUGV60LFI4v6bWP...|                 5.0|                   1|                4.08|              3.5|                   1|                   1|                 1|                0.0|\n",
      "| 'RestaurantsPric...|Ec8fKdO0oxZNOCeG2...| 'DogsAllowed: True'|                  63|                 0.0|                 0.0|     'lot': False|       Butt Out Mill|                 5.0| 'valet': False}\"\"|               null|\n",
      "|     'trendy': False|sHsjBV5_kuuC2aU2P...|   'touristy': False|   'casual': True}\"\"|     'dinner': False| 'GoodForKids: True'| 'hipster': False| 'BikeParking: True'| 'BusinessAccepts...|    'divey': False|               null|\n",
      "|     'trendy': False|5Ks4F3IOvSLi0KePl...|   'touristy': False|   'casual': True}\"\"|  'CoatCheck: False'|     'street': False| 'hipster': False| \"\"BestNights: {'...|    'tuesday': False|    'divey': False|               null|\n",
      "| 'RestaurantsPric...|wKxvqWGx9N0wB4Fg7...| 'ByAppointmentOn...|Cliff's Barber Co...|                 0.0|                 0.0|      'lot': True|                 4.5|                   0| 'valet': False}\"\"|               null|\n",
      "|fpq7iwxvRdG9vssv0...|zC7ldegnDoXg-Wln5...|efaUGV60LFI4v6bWP...|                 5.0|                   1|                4.08|              5.0|                   0|                   0|                 0|                0.0|\n",
      "| 'RestaurantsPric...|9bL_qA2gV9qbQyiYK...| 'DogsAllowed: True'|                  13|                 0.0|                 0.0|      'lot': True|    Furniture Market|                 3.5| 'valet': False}\"\"|               null|\n",
      "|jDOVgU7ICogRtpLrX...|O7RMINvCcGVNTMlD7...|efaUGV60LFI4v6bWP...|                 5.0|                   1|                4.08|              4.5|                   0|                   0|                 0|                0.0|\n",
      "|     'trendy': False|BYtGiZr3dbxa2qAhg...|   'touristy': False|   'casual': True}\"\"|   'valet': False}\"\"| \"\"BusinessParkin...| 'hipster': False| \"\"BestNights: {'...|    'tuesday': False|    'divey': False|               null|\n",
      "|CUDZ55_npDuGY-2qj...|JjAGbRSHwcfOeEgly...|efaUGV60LFI4v6bWP...| then I would hat...|                 0.0|                 0.0|              2.5|                 1.0|                   1|                 0| 0.3709090909090909|\n",
      "| 'RestaurantsPric...|0DI8Dt2PJp07XkVvI...| 'DogsAllowed: Fa...|                  17|                 0.0|                 0.0|      'lot': True|   Innovative Vapors|                 4.5| 'valet': False}\"\"|               null|\n",
      "| 'RestaurantsPric...|0DI8Dt2PJp07XkVvI...| 'DogsAllowed: Fa...|                  17|                 0.0|          ect... A+\"|      'lot': True|   Innovative Vapors|                 4.5| 'valet': False}\"\"|               null|\n",
      "|     'trendy': False|-FLnsWAa4AGEW4NgE...|   'touristy': False|   'casual': True}\"\"|      'lunch': False|    'Corkage: False'| 'hipster': False|       'BYOB: False'| 'BYOBCorkage: ye...|    'divey': False|               null|\n",
      "| 'RestaurantsPric...|b6tHCNjygsQVVqM-z...| 'ByAppointmentOn...|                  64|                 0.0|                 0.0|      'lot': True|             Verizon|                 2.5| 'valet': False}\"\"|               null|\n",
      "|     'trendy': False|cPEo3-TmIqCwHLFGK...|   'touristy': False|   'casual': True}\"\"|  'brunch': False}\"\"|  'latenight': False| 'hipster': False| 'BikeParking: True'| 'BusinessAccepts...|    'divey': False|               null|\n",
      "| 'RestaurantsTake...|SOwXfqwUr6NWmbBS0...| 'RestaurantsPric...|                 141|                 0.0|                 0.0|      'lot': True|        Trader Joe's|                 4.5| 'valet': False}\"\"|               null|\n",
      "| 'RestaurantsPric...|AJYEZrML6QXTGqqu1...| 'DogsAllowed: True'|                  31|                 0.0|                 0.0|      'lot': True|  Synergy Vapor Labs|                 4.0| 'valet': False}\"\"|               null|\n",
      "|     'trendy': False|fXqlzAM6PTXUGrU4y...|   'touristy': False|   'casual': True}\"\"|      'HasTV: False'|       'lunch': True| 'hipster': False| 'BikeParking: True'| 'BusinessAccepts...|    'divey': False|               null|\n",
      "| 'RestaurantsPric...|p7G52FVg45LF2YCES...| 'ByAppointmentOn...|                  91|                 0.0|                   0|      'lot': True|Floyd's 99 Barber...|                 4.0| 'valet': False}\"\"|               null|\n",
      "|     'trendy': False|ogy9bGt9KT5apjKEZ...|   'touristy': False|   'casual': True}\"\"|  'brunch': False}\"\"|  'latenight': False| 'hipster': False| 'BikeParking: True'| 'BusinessAccepts...|    'divey': False|               null|\n",
      "| 'RestaurantsPric...|1McThtjwSjBE3WOs6...| 'DogsAllowed: True'|                  23|                 0.0|                 0.0|      'lot': True|E-Cig City Scotts...|                 4.5| 'valet': False}\"\"|               null|\n",
      "| \"\"GoodForMeal: {...|Zmm5ksQu39aKkFiBx...| 'GoodForKids: True'|       'lunch': True|                  40| 'RestaurantsRese...|      'lot': True|     'dinner': False|  'breakfast': False| 'valet': False}\"\"|               null|\n",
      "| 'RestaurantsPric...|0DI8Dt2PJp07XkVvI...| 'DogsAllowed: Fa...|                  17|                 0.0|                 0.0|      'lot': True|   Innovative Vapors|                 4.5| 'valet': False}\"\"|               null|\n",
      "|     'trendy': False|muefnimyq_3KIdEou...|   'touristy': False|   'casual': True}\"\"|  'breakfast': False| \"\"GoodForMeal: {...| 'hipster': False| 'BikeParking: True'| 'BusinessAccepts...|    'divey': False|               null|\n",
      "|     'trendy': False|sKy8HkP6X-8dCKq_S...|   'touristy': False|   'casual': True}\"\"|  'breakfast': False| \"\"GoodForMeal: {...| 'hipster': False| 'BikeParking: True'| 'BusinessAccepts...|    'divey': False|               null|\n",
      "| 'RestaurantsPric...|0DI8Dt2PJp07XkVvI...| 'DogsAllowed: Fa...|                  17|                 0.0|                 0.0|      'lot': True|   Innovative Vapors|                 4.5| 'valet': False}\"\"|               null|\n",
      "| 'RestaurantsPric...|0DI8Dt2PJp07XkVvI...| 'DogsAllowed: Fa...|                  17|                 0.0|                 0.0|      'lot': True|   Innovative Vapors|                 4.5| 'valet': False}\"\"|               null|\n",
      "| 'WheelchairAcces...|9xmtIrWMq8MwiLZWI...| 'RestaurantsPric...|        Vapor Vortex|                 0.0|                 0.0|     'lot': False|                 4.5|                   1| 'valet': False}\"\"|               null|\n",
      "| 'WheelchairAcces...|dlsTOxPYoYzSviQWS...| 'RestaurantsPric...|     9th World Vapor|                 0.0|                 0.0|      'lot': True|                 5.0|                   0| 'valet': False}\"\"|               null|\n",
      "|     'trendy': False|V_jxQeTY-HU0KnSp2...|   'touristy': False|   'casual': True}\"\"|     'Caters: False'|     'street': False| 'hipster': False| \"\"BestNights: {'...|     'tuesday': True|    'divey': False|               null|\n",
      "|     'trendy': False|vsdc5yC1kJ29CCjCM...|   'touristy': False|   'casual': True}\"\"| 'background_musi...| 'GoodForKids: True'| 'hipster': False| 'BikeParking: True'| 'BusinessAccepts...|    'divey': False|               null|\n",
      "|NEP1fCrzA7i50c875...|oYwLxROH5RihyFxrd...|hPHsKqUwO_RKJNxkB...|                 4.0|                   1|                3.33|              4.5|                   0|                   0|                 0|0.09090909090909091|\n",
      "| 'RestaurantsPric...|0DI8Dt2PJp07XkVvI...| 'DogsAllowed: Fa...|                  17|                 0.0|                 0.0|      'lot': True|   Innovative Vapors|                 4.5| 'valet': False}\"\"|               null|\n",
      "| 'RestaurantsPric...|0DI8Dt2PJp07XkVvI...| 'DogsAllowed: Fa...|                  17|                 5.0|                18.0|      'lot': True|   Innovative Vapors|                 4.5| 'valet': False}\"\"|               null|\n",
      "|     'trendy': False|YPavuOh2XsnRbLfl0...|   'touristy': False|   'casual': True}\"\"|  'latenight': False|    'Corkage: False'| 'hipster': False|       'BYOB: False'| 'BYOBCorkage: ye...|    'divey': False|               null|\n",
      "| 'RestaurantsPric...|hINfDEJ2sAp19-Ebp...| 'OutdoorSeating:...|        'WiFi: no']\"|                 0.0|                 0.0|      'lot': True|                 131|  Tea, Snow & Coffee| 'valet': False}\"\"|               null|\n",
      "|     'trendy': False|Xg5qEQiB-7L6kGJ5F...|   'touristy': False|   'casual': True}\"\"|  'brunch': False}\"\"|  'latenight': False| 'hipster': False| 'BikeParking: True'| 'BusinessAccepts...|    'divey': False|               null|\n",
      "|     'trendy': False|cTZmf7B-4yciMc1WK...|   'touristy': False|  'casual': False}\"\"|        'lot': False| 'BusinessAccepts...|  'hipster': True|       'BYOB: False'| 'BYOBCorkage: ye...|    'divey': False|               null|\n",
      "|     'trendy': False|LIw4HP5XwJ1nSlcSx...|   'touristy': False|   'casual': True}\"\"|  'brunch': False}\"\"|  'latenight': False| 'hipster': False| 'BikeParking: True'| 'BusinessAccepts...|    'divey': False|               null|\n",
      "|2bk0aJ_6Tq87K8WaZ...|MCX_cBs_LUqzuUzd-...|YEiJOtOBBRKEpRuvZ...|                 4.0|                   1|                4.22|              5.0|                   0|                   1|                 0| 13.818181818181818|\n",
      "|     'trendy': False|5euk5_UKqnAWcrbOP...|   'touristy': False|   'casual': True}\"\"|  'brunch': False}\"\"|  'latenight': False| 'hipster': False| 'BikeParking: Fa...| 'BusinessAccepts...|    'divey': False|               null|\n",
      "| 'RestaurantsTake...|T1tvWywCdTv8YiK-r...| 'RestaurantsPric...|      'WiFi: free']\"|                 0.0|                 0.0|      'lot': True|                 216|        Aloha Yogurt| 'valet': False}\"\"|               null|\n",
      "|SNSNuk3Wj7YDSXLQi...|zOqJqDlWT0CF986D0...|YEiJOtOBBRKEpRuvZ...|                 5.0|                   1|                4.22|              4.0|                   0|                   0|                 1| 13.818181818181818|\n",
      "|     'trendy': False|I_a74zmgR-X03LsKI...|   'touristy': False|   'casual': True}\"\"|  'breakfast': False| \"\"GoodForMeal: {...| 'hipster': False| 'BikeParking: Fa...| 'BusinessAccepts...|    'divey': False|               null|\n",
      "|     'trendy': False|7MeMGh0SUlF-GuTyr...|   'touristy': False|   'casual': True}\"\"|      'Caters: True'|     'street': False| 'hipster': False| \"\"BestNights: {'...|    'tuesday': False|    'divey': False|               null|\n",
      "| 'RestaurantsPric...|p_xIP8gXFhAVCjftc...| 'OutdoorSeating:...|        'WiFi: no']\"|                 0.0|                 0.0|      'lot': True|                 136|       Arizona Donut| 'valet': False}\"\"|               null|\n",
      "|     'trendy': False|zpf-9NlOGSGGIIbJL...|   'touristy': False|   'casual': True}\"\"|  'breakfast': False| \"\"GoodForMeal: {...| 'hipster': False| 'BikeParking: True'| 'BusinessAccepts...|    'divey': False|               null|\n",
      "|     'trendy': False|tWiFat101ID5w_wgA...|   'touristy': False|   'casual': True}\"\"|      'kosher': True|    'Corkage: False'| 'hipster': False|       'BYOB: False'|   'BYOBCorkage: no'|    'divey': False|               null|\n",
      "|u8o4tuv7o7nnrwWyi...|po-05-AGCVxEme-Sb...|YEiJOtOBBRKEpRuvZ...|                 5.0|                   1|                4.22|              5.0|                   1|                   0|                 1| 13.818181818181818|\n",
      "|     'trendy': False|R-sEoZXf37pGzLnid...|   'touristy': False|   'casual': True}\"\"|  'brunch': False}\"\"|  'latenight': False| 'hipster': False| 'BikeParking: True'| 'BusinessAccepts...|    'divey': False|               null|\n",
      "|mry4Y8tz87Guv-M1Y...|Lh03t7LM7R8uKpgyv...|YEiJOtOBBRKEpRuvZ...|                 5.0|                   1|                4.22|              5.0|                   1|                   1|                 1| 13.818181818181818|\n",
      "|     'trendy': False|JzOp695tclcNCNMuB...|   'touristy': False|   'casual': True}\"\"|   'valet': False}\"\"| \"\"BusinessParkin...| 'hipster': False| 'BYOBCorkage: ye...| \"\"BestNights: {'...|    'divey': False|               null|\n",
      "|     'trendy': False|-8QlV3b_9H4BAh6Lg...|   'touristy': False|   'casual': True}\"\"|  'brunch': False}\"\"|  'latenight': False| 'hipster': False| 'BikeParking: True'| 'BusinessAccepts...|    'divey': False|               null|\n",
      "|     'trendy': False|zDQZZZhb8VOk8EaoN...|   'touristy': False|   'casual': True}\"\"|  'brunch': False}\"\"|  'latenight': False| 'hipster': False| 'BikeParking: True'| 'BusinessAccepts...|    'divey': False|               null|\n",
      "|     'trendy': False|5cE4IXLzN4-MmQ4NH...|   'touristy': False|   'casual': True}\"\"|  'brunch': False}\"\"|  'latenight': False| 'hipster': False| 'BikeParking: True'| 'BusinessAccepts...|    'divey': False|               null|\n",
      "|     'trendy': False|13KW8P5n1jAxxHB7B...|   'touristy': False|   'casual': True}\"\"|      'dinner': True| 'GoodForKids: True'| 'hipster': False| 'BikeParking: Fa...| 'BusinessAccepts...|    'divey': False|               null|\n",
      "|     'trendy': False|5KgZD0CDNpUjbdV7O...|   'touristy': False|   'casual': True}\"\"|   'brunch': True}\"\"|  'latenight': False| 'hipster': False| 'BikeParking: True'| 'BusinessAccepts...|    'divey': False|               null|\n",
      "|     'trendy': False|gcNC4k7TZJVX_1YHd...|   'touristy': False|   'casual': True}\"\"|  'brunch': False}\"\"|  'latenight': False| 'hipster': False| 'BikeParking: True'| 'BusinessAccepts...|    'divey': False|               null|\n",
      "|     'trendy': False|OjnRf8yDGEBCoUDdc...|   'touristy': False|   'casual': True}\"\"|  'breakfast': False| \"\"GoodForMeal: {...| 'hipster': False| 'BikeParking: True'| 'BusinessAccepts...|    'divey': False|               null|\n",
      "| 'RestaurantsPric...|0DI8Dt2PJp07XkVvI...| 'DogsAllowed: Fa...|                  17|                 0.0|                 0.0|      'lot': True|   Innovative Vapors|                 4.5| 'valet': False}\"\"|               null|\n",
      "| 'GoodForKids: Tr...|YeECyPbDJLTnr1Bm5...| 'ByAppointmentOn...|   Life Time Fitness|                 0.0|                 0.0|      'lot': True|                 3.5|                   0| 'valet': False}\"\"|               null|\n",
      "| 'GoodForKids: True'|10GxV6JOKPoR1w5KC...|      'Caters: True'| 'OutdoorSeating:...|   'touristy': False|   'intimate': False|      'lot': True| 'RestaurantsAtti...| 'RestaurantsDeli...| 'valet': False}\"\"|               null|\n",
      "|     'trendy': False|fgooEaAjIuF6cCCa4...|   'touristy': False|   'casual': True}\"\"|      'Caters: True'|      'street': True| 'hipster': False| \"\"BestNights: {'...|    'tuesday': False|    'divey': False|               null|\n",
      "|     'trendy': False|6Z3lZEEIKv6opbyav...|   'touristy': False|  'casual': False}\"\"|         'lot': True| 'BusinessAccepts...| 'hipster': False|       'BYOB: False'|   'BYOBCorkage: no'|     'divey': True|               null|\n",
      "|Pb_Nlwj5syGswT1Yf...|PycR_Mr5jA9jB4Xg3...|QtXXRBbj3TfTzAR5d...|                 1.0|                   0|                 3.0|              1.0|                   0|                   0|                 0|0.09090909090909091|\n",
      "|tkNIA7b2dctAdqIMZ...|_V6HvKxaFcOF5BpVC...|QtXXRBbj3TfTzAR5d...|                 1.0|                   0|                 3.0|              1.0|                   1|                   0|                 0|0.09090909090909091|\n",
      "| 'RestaurantsPric...|0DI8Dt2PJp07XkVvI...| 'DogsAllowed: Fa...|                  17|                 0.0|                 0.0|      'lot': True|   Innovative Vapors|                 4.5| 'valet': False}\"\"|               null|\n",
      "|      'trendy': True|wZukjLaf1V2dLRQap...|   'touristy': False|  'casual': False}\"\"|   'valet': False}\"\"| \"\"BusinessParkin...| 'hipster': False| \"\"BestNights: {'...|     'tuesday': True|    'divey': False|               null|\n",
      "|     'trendy': False|fKlr9qNoV37WQJwQ8...|   'touristy': False|  'casual': False}\"\"|      'dinner': True| 'GoodForKids: True'| 'hipster': False| 'BikeParking: Fa...| 'BusinessAccepts...|    'divey': False|               null|\n",
      "|     'trendy': False|5VXsbrqyJx0a4iaa4...|   'touristy': False|   'casual': True}\"\"|   'brunch': True}\"\"|  'latenight': False| 'hipster': False| 'BikeParking: True'| 'BusinessAccepts...|    'divey': False|               null|\n",
      "|     'trendy': False|Ue6-WhXvI-_1xUIua...|   'touristy': False|   'casual': True}\"\"|  'breakfast': False| \"\"GoodForMeal: {...| 'hipster': False| 'BikeParking: True'| 'BusinessAccepts...|    'divey': False|               null|\n",
      "| 'RestaurantsPric...|datlmcgEXNA_YsMSG...|      'Caters: True'|  Gilbert Food Court|                 0.0|                 0.0|     'lot': False|                 4.0|                   0| 'valet': False}\"\"|               null|\n",
      "|     'trendy': False|aow8T0EAFdYDXmVAU...|   'touristy': False|   'casual': True}\"\"|  'breakfast': False| \"\"GoodForMeal: {...| 'hipster': False| 'BikeParking: True'| 'BusinessAccepts...|    'divey': False|               null|\n",
      "| 'RestaurantsPric...|0DI8Dt2PJp07XkVvI...| 'DogsAllowed: Fa...|                  17|                 0.0|                 0.0|      'lot': True|   Innovative Vapors|                 4.5| 'valet': False}\"\"|               null|\n",
      "| 'RestaurantsPric...|0DI8Dt2PJp07XkVvI...| 'DogsAllowed: Fa...|                  17|                 1.0|                 1.0|      'lot': True|   Innovative Vapors|                 4.5| 'valet': False}\"\"|               null|\n",
      "|     'trendy': False|tu7cmFBfKVFKtJvRP...|   'touristy': False|   'casual': True}\"\"|  'brunch': False}\"\"|  'latenight': False| 'hipster': False| 'BikeParking: True'| 'BusinessAccepts...|    'divey': False|               null|\n",
      "|     'trendy': False|xDHuJaOQ5HqaLP0zg...|   'touristy': False|  'casual': False}\"\"|  'breakfast': False| \"\"GoodForMeal: {...| 'hipster': False| 'BikeParking: True'| 'BusinessAccepts...|    'divey': False|               null|\n",
      "|     'trendy': False|gUXrEXgInUBDaXLbo...|   'touristy': False|  'casual': False}\"\"|  'brunch': False}\"\"|  'latenight': False| 'hipster': False| 'BikeParking: True'| 'BusinessAccepts...|    'divey': False|               null|\n",
      "|     'trendy': False|SotrpltgrAJBqNGZl...|   'touristy': False|   'casual': True}\"\"|     'dinner': False| 'GoodForKids: True'| 'hipster': False| 'BYOBCorkage: ye...| 'BikeParking: True'|    'divey': False|               null|\n",
      "|     'trendy': False|TH6mQqMfKATGjuW9S...|   'touristy': False|   'casual': True}\"\"| 'RestaurantsGood...| 'NoiseLevel: ave...| 'hipster': False| 'BikeParking: True'| 'BusinessAccepts...|    'divey': False|               null|\n",
      "|                   4|FWk6wrvwTDXlj5bBt...| 'RestaurantsPric...|                 2.0|                 0.0|                 0.0|     'lot': False|                   1|naGxl2OkYoCgvhuq3...| 'valet': False}\"\"|               null|\n",
      "| 'RestaurantsTake...|DlS2X40L4KywtwO4Y...| 'RestaurantsPric...|                  13|                 1.0|                 1.0|     'lot': False|       Water and Ice|                 5.0| 'valet': False}\"\"|               null|\n",
      "|     'trendy': False|voZnDQs6Hs3YpNcS-...|   'touristy': False|   'casual': True}\"\"|  'brunch': False}\"\"|  'latenight': False| 'hipster': False| 'BikeParking: True'| 'BusinessAccepts...|    'divey': False|               null|\n",
      "|     'trendy': False|hDlDKfFpUCW47lifc...|   'touristy': False|   'casual': True}\"\"|  'brunch': False}\"\"|  'latenight': False| 'hipster': False| 'BikeParking: True'| 'BusinessAccepts...|    'divey': False|               null|\n",
      "|     'trendy': False|AUp7fTAH7PwxecdSO...|   'touristy': False|   'casual': True}\"\"|  'brunch': False}\"\"|  'latenight': False| 'hipster': False| 'BikeParking: True'| 'BusinessAccepts...|    'divey': False|               null|\n",
      "|     'trendy': False|hyzsCj9xMpf_FFlpU...|   'touristy': False|   'casual': True}\"\"|  'breakfast': False| \"\"GoodForMeal: {...| 'hipster': False| 'BikeParking: True'| 'BusinessAccepts...|    'divey': False|               null|\n",
      "|     'trendy': False|LBBp51YHui5gvXNSy...|   'touristy': False|   'casual': True}\"\"|  'breakfast': False| \"\"GoodForMeal: {...| 'hipster': False|   'BYOBCorkage: no'| 'BikeParking: True'|    'divey': False|               null|\n",
      "|     'trendy': False|IqBoGCKUJdzBOmzjU...|   'touristy': False|   'casual': True}\"\"|  'latenight': False|    'Corkage: False'| 'hipster': False|       'BYOB: False'| 'BYOBCorkage: ye...|    'divey': False|               null|\n",
      "|     'trendy': False|HPfcEJh3ivdX_QehR...|   'touristy': False|   'casual': True}\"\"|      'Caters: True'|     'street': False| 'hipster': False| \"\"BestNights: {'...|    'tuesday': False|    'divey': False|               null|\n",
      "| 'RestaurantsPric...|0DI8Dt2PJp07XkVvI...| 'DogsAllowed: Fa...|                  17|                 0.0|                 0.0|      'lot': True|   Innovative Vapors|                 4.5| 'valet': False}\"\"|               null|\n",
      "| 'RestaurantsPric...|0DI8Dt2PJp07XkVvI...| 'DogsAllowed: Fa...|                  17|                 0.0|                 0.0|      'lot': True|   Innovative Vapors|                 4.5| 'valet': False}\"\"|               null|\n",
      "+--------------------+--------------------+--------------------+--------------------+--------------------+--------------------+-----------------+--------------------+--------------------+------------------+-------------------+\n",
      "only showing top 100 rows\n",
      "\n"
     ]
    }
   ],
   "source": [
    "df_ratings.printSchema()\n",
    "df_ratings.show(100)\n",
    "#Check Dataset schema and columns after cleaning"
   ]
  },
  {
   "cell_type": "code",
   "execution_count": 160,
   "metadata": {
    "collapsed": false
   },
   "outputs": [],
   "source": [
    "#changing the data type to double\n",
    "df_ratings = df_ratings.withColumn('review_rating',fn.col('review_rating').cast('double'))\n",
    "df_ratings = df_ratings.withColumn('review_rating_f',fn.col('review_rating_f').cast('double'))\n",
    "df_ratings = df_ratings.withColumn('user_avg_rating',fn.col('user_avg_rating').cast('double'))\n",
    "df_ratings = df_ratings.withColumn('business_rating',fn.col('business_rating').cast('double'))\n",
    "df_ratings = df_ratings.withColumn('useful',fn.col('useful').cast('double'))\n",
    "df_ratings = df_ratings.withColumn('cool',fn.col('cool').cast('double'))\n",
    "df_ratings = df_ratings.withColumn('funny',fn.col('funny').cast('double'))\n"
   ]
  },
  {
   "cell_type": "code",
   "execution_count": 161,
   "metadata": {
    "collapsed": false
   },
   "outputs": [
    {
     "name": "stdout",
     "output_type": "stream",
     "text": [
      "root\n",
      " |-- review_id: string (nullable = true)\n",
      " |-- business_id: string (nullable = true)\n",
      " |-- user_id: string (nullable = true)\n",
      " |-- review_rating: double (nullable = true)\n",
      " |-- review_rating_f: double (nullable = true)\n",
      " |-- user_avg_rating: double (nullable = true)\n",
      " |-- business_rating: double (nullable = true)\n",
      " |-- useful: double (nullable = true)\n",
      " |-- cool: double (nullable = true)\n",
      " |-- funny: double (nullable = true)\n",
      " |-- compliment_average: double (nullable = true)\n",
      "\n"
     ]
    }
   ],
   "source": [
    "df_ratings = df_ratings.na.drop(subset=['review_id','business_id','user_id','review_rating','user_avg_rating','business_rating','useful','cool','funny','compliment_average']) \n",
    "df_ratings.printSchema()\n",
    "#Dropping unnecessary columns from dataset"
   ]
  },
  {
   "cell_type": "code",
   "execution_count": 162,
   "metadata": {
    "collapsed": true
   },
   "outputs": [],
   "source": [
    "#Changing the dependent variable name to 'label'\n",
    "df_ratings = df_ratings.withColumnRenamed('review_rating_f','label')"
   ]
  },
  {
   "cell_type": "code",
   "execution_count": 163,
   "metadata": {
    "collapsed": false,
    "scrolled": true
   },
   "outputs": [
    {
     "name": "stdout",
     "output_type": "stream",
     "text": [
      "root\n",
      " |-- review_id: string (nullable = true)\n",
      " |-- business_id: string (nullable = true)\n",
      " |-- user_id: string (nullable = true)\n",
      " |-- review_rating: double (nullable = true)\n",
      " |-- label: double (nullable = true)\n",
      " |-- user_avg_rating: double (nullable = true)\n",
      " |-- business_rating: double (nullable = true)\n",
      " |-- useful: double (nullable = true)\n",
      " |-- cool: double (nullable = true)\n",
      " |-- funny: double (nullable = true)\n",
      " |-- compliment_average: double (nullable = true)\n",
      "\n"
     ]
    }
   ],
   "source": [
    "df_ratings.printSchema()"
   ]
  },
  {
   "cell_type": "code",
   "execution_count": 164,
   "metadata": {
    "collapsed": false,
    "scrolled": true
   },
   "outputs": [
    {
     "name": "stdout",
     "output_type": "stream",
     "text": [
      "+--------------------+--------------------+--------------------+-------------+-----+---------------+---------------+------+----+-----+-------------------+\n",
      "|           review_id|         business_id|             user_id|review_rating|label|user_avg_rating|business_rating|useful|cool|funny| compliment_average|\n",
      "+--------------------+--------------------+--------------------+-------------+-----+---------------+---------------+------+----+-----+-------------------+\n",
      "|xqFpx6FkEpjow6JAh...|XqDeiaPSG0-fBbOXD...|efaUGV60LFI4v6bWP...|          5.0|  1.0|           4.08|            3.5|   1.0| 1.0|  1.0|                0.0|\n",
      "|fpq7iwxvRdG9vssv0...|zC7ldegnDoXg-Wln5...|efaUGV60LFI4v6bWP...|          5.0|  1.0|           4.08|            5.0|   0.0| 0.0|  0.0|                0.0|\n",
      "|jDOVgU7ICogRtpLrX...|O7RMINvCcGVNTMlD7...|efaUGV60LFI4v6bWP...|          5.0|  1.0|           4.08|            4.5|   0.0| 0.0|  0.0|                0.0|\n",
      "|NEP1fCrzA7i50c875...|oYwLxROH5RihyFxrd...|hPHsKqUwO_RKJNxkB...|          4.0|  1.0|           3.33|            4.5|   0.0| 0.0|  0.0|0.09090909090909091|\n",
      "|2bk0aJ_6Tq87K8WaZ...|MCX_cBs_LUqzuUzd-...|YEiJOtOBBRKEpRuvZ...|          4.0|  1.0|           4.22|            5.0|   0.0| 1.0|  0.0| 13.818181818181818|\n",
      "|SNSNuk3Wj7YDSXLQi...|zOqJqDlWT0CF986D0...|YEiJOtOBBRKEpRuvZ...|          5.0|  1.0|           4.22|            4.0|   0.0| 0.0|  1.0| 13.818181818181818|\n",
      "|u8o4tuv7o7nnrwWyi...|po-05-AGCVxEme-Sb...|YEiJOtOBBRKEpRuvZ...|          5.0|  1.0|           4.22|            5.0|   1.0| 0.0|  1.0| 13.818181818181818|\n",
      "|mry4Y8tz87Guv-M1Y...|Lh03t7LM7R8uKpgyv...|YEiJOtOBBRKEpRuvZ...|          5.0|  1.0|           4.22|            5.0|   1.0| 1.0|  1.0| 13.818181818181818|\n",
      "|Pb_Nlwj5syGswT1Yf...|PycR_Mr5jA9jB4Xg3...|QtXXRBbj3TfTzAR5d...|          1.0|  0.0|            3.0|            1.0|   0.0| 0.0|  0.0|0.09090909090909091|\n",
      "|tkNIA7b2dctAdqIMZ...|_V6HvKxaFcOF5BpVC...|QtXXRBbj3TfTzAR5d...|          1.0|  0.0|            3.0|            1.0|   1.0| 0.0|  0.0|0.09090909090909091|\n",
      "|DVvLxskv7drqo3I1a...|Sbv16xQcM_DFLv3eh...|1-eTooyYzRvnSrfwL...|          5.0|  1.0|            4.0|            4.5|   0.0| 0.0|  0.0| 0.2727272727272727|\n",
      "|5vBAkJY8eR5-oZpE6...|wMsy-LOjrpSg-tbnl...|1-eTooyYzRvnSrfwL...|          5.0|  1.0|            4.0|            4.5|   2.0| 0.0|  0.0| 0.2727272727272727|\n",
      "|ruRxwd4Eojt_pmj3z...|px2ZZOPzA8-xG_VhE...|e3fjKwDvt7Owq4neD...|          1.0|  0.0|           3.25|            1.5|   0.0| 0.0|  0.0|0.18181818181818182|\n",
      "|A8qfpn5a5nPcIuE26...|LTlCaCGZE14GuaUXU...|OELlLQMDC3xk0hw5d...|          5.0|  1.0|            4.2|            5.0|   0.0| 0.0|  0.0|                0.0|\n",
      "|ASoPsQffOVdEoXOgd...|nCrAPCA_8T82iKgIW...|OELlLQMDC3xk0hw5d...|          1.0|  0.0|            4.2|            4.5|   1.0| 0.0|  0.0|                0.0|\n",
      "|7q7_bruxMeP4fhNOx...|3SYfJHV7EEY1BYJtp...|OELlLQMDC3xk0hw5d...|          1.0|  0.0|            4.2|            1.5|   1.0| 0.0|  0.0|                0.0|\n",
      "|tWaJ7k7Zw_mWUUnrg...|IVKVk7ZAPdQi6S40U...|OELlLQMDC3xk0hw5d...|          5.0|  1.0|            4.2|            4.5|   0.0| 0.0|  0.0|                0.0|\n",
      "|0Xw0xqgYJNBpI9Ln2...|HZrvNH7VTHUDcYqwF...|OELlLQMDC3xk0hw5d...|          5.0|  1.0|            4.2|            4.0|   3.0| 1.0|  1.0|                0.0|\n",
      "|X1SXw2-MFA9rdLVg2...|LTlCaCGZE14GuaUXU...|lNJaqRXRpHuOHPgPi...|          5.0|  1.0|            5.0|            5.0|   2.0| 0.0|  0.0|                0.0|\n",
      "|7w2wpLM3qb9A2MVl2...|LTlCaCGZE14GuaUXU...|Nt_jTjBiwf_SzULAl...|          5.0|  1.0|            5.0|            5.0|   0.0| 1.0|  0.0|                0.0|\n",
      "|SWz5RI4XaPCYOovc2...|RCmF00iDVG2yOOXFe...|Nt_jTjBiwf_SzULAl...|          5.0|  1.0|            5.0|            5.0|   0.0| 0.0|  0.0|                0.0|\n",
      "|Vg9eiXqoXQOevMKBM...|1uwlVWxwGU248Jayv...|Nt_jTjBiwf_SzULAl...|          5.0|  1.0|            5.0|            4.5|   0.0| 0.0|  0.0|                0.0|\n",
      "|GQ1jLKw8VAoTr5YTE...|LTlCaCGZE14GuaUXU...|Aw_UhDd-3IDCPu9yb...|          5.0|  1.0|            5.0|            5.0|   0.0| 0.0|  0.0|0.36363636363636365|\n",
      "|XdVCSC7u-ySsUl4JQ...|2PA6vbWPOdKyBvz8U...|Aw_UhDd-3IDCPu9yb...|          5.0|  1.0|            5.0|            5.0|   0.0| 0.0|  0.0|0.36363636363636365|\n",
      "|XxxJ7_ksL1FxcAIkE...|LTlCaCGZE14GuaUXU...|PlMY05d3AGDb42qar...|          5.0|  1.0|            5.0|            5.0|   1.0| 0.0|  0.0|                0.0|\n",
      "|TSLP7yh_laNyIsNBB...|LTlCaCGZE14GuaUXU...|Cq0FaaEEIJgPjKbGd...|          5.0|  1.0|            5.0|            5.0|   0.0| 0.0|  0.0|                0.0|\n",
      "|llnSTHnXQ-qGpnUuX...|LTlCaCGZE14GuaUXU...|XnuuGtEl7E8syck0Q...|          5.0|  1.0|           4.52|            5.0|   3.0| 2.0|  2.0|               10.0|\n",
      "|b1IoFNSsHrwCyGESS...|zoODlH40edpJYLPLk...|XnuuGtEl7E8syck0Q...|          5.0|  1.0|           4.52|            4.5|   1.0| 1.0|  0.0|               10.0|\n",
      "|mx4ZhbccKNdAluev8...|jt9O4tqBb-a7encP9...|XnuuGtEl7E8syck0Q...|          5.0|  1.0|           4.52|            5.0|   2.0| 1.0|  0.0|               10.0|\n",
      "|zAc3osvGWdMxxwzoh...|5LNZ67Yw9RD6nf4_U...|XnuuGtEl7E8syck0Q...|          5.0|  1.0|           4.52|            4.0|   8.0| 6.0|  5.0|               10.0|\n",
      "|blSnU7Ov-Zj4MwBzP...|LTlCaCGZE14GuaUXU...|NZBNE3pjlJDibe_LJ...|          5.0|  1.0|           3.58|            5.0|   0.0| 0.0|  0.0| 0.2727272727272727|\n",
      "|sVilaekark0_jlT75...|qh5dTNXritViyuqd_...|NZBNE3pjlJDibe_LJ...|          5.0|  1.0|           3.58|            5.0|   5.0| 0.0|  0.0| 0.2727272727272727|\n",
      "|ooVqZTbrD_BOuOZxL...|LTlCaCGZE14GuaUXU...|WKzh-RxI1wdZX-Nuf...|          5.0|  1.0|           4.27|            5.0|   1.0| 0.0|  0.0|0.09090909090909091|\n",
      "|st5nk11UD4M_YyY7x...|FTRuQkWwQqtf9J_TT...|8bKpyXdiYF3ZKIB3Q...|          4.0|  1.0|           3.49|            3.0|   1.0| 1.0|  1.0| 17.181818181818183|\n",
      "|IkL85pSR8FsZ86mGB...|TDtggQc6j_HjmQXS5...|lnFEQ0QNucQEd1n76...|          4.0|  1.0|           3.68|            3.5|   0.0| 0.0|  1.0|0.18181818181818182|\n",
      "|vv0oXYlKAZRVFyMCO...|3HVxkz03TS_ssJ7j3...|Q9mA60HnY87C1TW5k...|          5.0|  1.0|           4.02|            4.0|   1.0| 3.0|  4.0| 424.72727272727275|\n",
      "|DfB8wKX6gO_gpQLrc...|98YzjvO45DRRvqrNv...|Q9mA60HnY87C1TW5k...|          3.0|  0.0|           4.02|            2.5|   1.0| 1.0|  0.0| 424.72727272727275|\n",
      "|jW-pcPmYu4q-SFs2z...|4vHm-szf4WUn77MbJ...|Q9mA60HnY87C1TW5k...|          5.0|  1.0|           4.02|            3.5|   8.0| 4.0|  2.0| 424.72727272727275|\n",
      "|4dWUkdEYotjAbR1IQ...|TKJkLEWe53iNYwl-B...|Q9mA60HnY87C1TW5k...|          4.0|  1.0|           4.02|            3.5|   6.0| 9.0|  5.0| 424.72727272727275|\n",
      "|6bk48m8wQCwZvAq2d...|whF3fiWey-GJLzmX3...|Q9mA60HnY87C1TW5k...|          5.0|  1.0|           4.02|            4.5|   2.0| 3.0|  7.0| 424.72727272727275|\n",
      "|9u_itIe877VSNO-89...|Y7oOB-c1CpgaN_3vY...|Q9mA60HnY87C1TW5k...|          5.0|  1.0|           4.02|            5.0|   5.0| 5.0|  1.0| 424.72727272727275|\n",
      "|W8dhwaWzulRmOJfSj...|J0O7KtzHsEiApzXBQ...|Q9mA60HnY87C1TW5k...|          3.0|  0.0|           4.02|            3.0|   6.0| 5.0|  5.0| 424.72727272727275|\n",
      "|kQ5qY6GzLgaIHDXNx...|C-JdFdmF130R53GOJ...|Q9mA60HnY87C1TW5k...|          4.0|  1.0|           4.02|            4.0|   7.0| 8.0|  1.0| 424.72727272727275|\n",
      "|-HIM6nPD8EW20fJhi...|druYY2REuf5_0Rd82...|Q9mA60HnY87C1TW5k...|          5.0|  1.0|           4.02|            4.5|   5.0| 5.0|  2.0| 424.72727272727275|\n",
      "|ZHLEJt-H2sYO7FI4u...|f_rkKVZAGBLp5zYl2...|Q9mA60HnY87C1TW5k...|          2.0|  0.0|           4.02|            2.5|   3.0| 2.0|  5.0| 424.72727272727275|\n",
      "|vZ83BaBWji3YodUZW...|imhibWA4C4M7drQSe...|Q9mA60HnY87C1TW5k...|          5.0|  1.0|           4.02|            4.0|   4.0| 7.0|  2.0| 424.72727272727275|\n",
      "|Izz62hGbRx7FsTJ7u...|iOER_Xnsz_X3WWRd0...|Q9mA60HnY87C1TW5k...|          3.0|  0.0|           4.02|            1.5|   1.0| 2.0|  3.0| 424.72727272727275|\n",
      "|K_ifHNdDOFw34Qjk5...|ZgGg7frEjgmNMdIrR...|Q9mA60HnY87C1TW5k...|          4.0|  1.0|           4.02|            3.5|  14.0|18.0|  5.0| 424.72727272727275|\n",
      "|0JnpbdEBQQBsmiSow...|9NSu4CVgcE7CStD57...|Q9mA60HnY87C1TW5k...|          3.0|  0.0|           4.02|            3.5|   1.0| 1.0|  3.0| 424.72727272727275|\n",
      "|_Hs5-gaQ9kyPiNcxy...|qjR2GVxWnRAHcam6D...|Q9mA60HnY87C1TW5k...|          3.0|  0.0|           4.02|            3.0|   3.0| 6.0|  4.0| 424.72727272727275|\n",
      "|n_Z6jf4m33XU1An1p...|QJ89UIx2lhDiiEz7R...|Q9mA60HnY87C1TW5k...|          2.0|  0.0|           4.02|            1.5|   3.0| 0.0|  3.0| 424.72727272727275|\n",
      "|_PNfczihPJnZI6s96...|c0mqmFUNQKE0APAF1...|Q9mA60HnY87C1TW5k...|          5.0|  1.0|           4.02|            3.5|   2.0| 2.0|  5.0| 424.72727272727275|\n",
      "|HUsE8uJh6x6fOnhbU...|bxwZrJ58a0NoNI4ch...|Q9mA60HnY87C1TW5k...|          3.0|  0.0|           4.02|            3.0|   4.0| 5.0|  1.0| 424.72727272727275|\n",
      "|h4TAD6XdMezDg0jQO...|C46F7dUN4V8ihdlSO...|Q9mA60HnY87C1TW5k...|          5.0|  1.0|           4.02|            4.5|   9.0|11.0|  3.0| 424.72727272727275|\n",
      "|AcUn6QvV3QnqO9ond...|KEY-gRZBoj8eO9jPY...|Q9mA60HnY87C1TW5k...|          5.0|  1.0|           4.02|            4.0|   3.0| 2.0|  2.0| 424.72727272727275|\n",
      "|yArjfzDd55xO0vTwJ...|xLifcMUnjA8cVB8AN...|Q9mA60HnY87C1TW5k...|          4.0|  1.0|           4.02|            3.5|   5.0| 4.0|  4.0| 424.72727272727275|\n",
      "|0PiwfyWN5WODpgQuk...|LYuY6kXhZzFtxR51e...|Q9mA60HnY87C1TW5k...|          5.0|  1.0|           4.02|            4.5|   5.0| 6.0|  0.0| 424.72727272727275|\n",
      "|B8_IXOMexkbdyIF7J...|zsDR8jQrBFonhXPYa...|Q9mA60HnY87C1TW5k...|          5.0|  1.0|           4.02|            4.5|   0.0| 2.0|  0.0| 424.72727272727275|\n",
      "|xY1VJaXhiObbFcRRR...|M7FOXsuEuRbwEfxUr...|Q9mA60HnY87C1TW5k...|          3.0|  0.0|           4.02|            3.0|   2.0| 3.0|  0.0| 424.72727272727275|\n",
      "|lv5wOd59CjaiToWKJ...|VgBaojouH9sJThnyy...|Q9mA60HnY87C1TW5k...|          5.0|  1.0|           4.02|            5.0|   0.0| 1.0|  1.0| 424.72727272727275|\n",
      "|XyO_NNWlnJINaK2fs...|0c7p8fyiZP31gJJgd...|Q9mA60HnY87C1TW5k...|          5.0|  1.0|           4.02|            4.0|   6.0| 3.0|  5.0| 424.72727272727275|\n",
      "|dnp3V7ARnB9B8iHlX...|oPkfgVr_gNczmZMFr...|Q9mA60HnY87C1TW5k...|          5.0|  1.0|           4.02|            4.5|  11.0|10.0|  4.0| 424.72727272727275|\n",
      "|htI0U7c5T_jLtvkX7...|KMRN-gUi2A42GHvsF...|Q9mA60HnY87C1TW5k...|          5.0|  1.0|           4.02|            3.0|   7.0|12.0|  5.0| 424.72727272727275|\n",
      "|bOmxZtQNPoeZi34Gl...|9fIGm1QupHl2NdekQ...|Q9mA60HnY87C1TW5k...|          4.0|  1.0|           4.02|            4.0|  11.0|15.0|  7.0| 424.72727272727275|\n",
      "|T2bEd5OxxTGNR9p5G...|1tZzp8_UcB-h38RtG...|Q9mA60HnY87C1TW5k...|          5.0|  1.0|           4.02|            3.0|   0.0| 0.0|  0.0| 424.72727272727275|\n",
      "|4OrTslmClsUsQ8Psv...|HToSpEtu0pxzcRuaI...|Q9mA60HnY87C1TW5k...|          5.0|  1.0|           4.02|            4.5|  10.0| 8.0|  2.0| 424.72727272727275|\n",
      "|HYIp9ZQ5vOl3VlM3r...|d1NqodSwHT9loXeS7...|Q9mA60HnY87C1TW5k...|          3.0|  0.0|           4.02|            4.0|   2.0| 2.0|  2.0| 424.72727272727275|\n",
      "|KOJX6EcnxMw_emNCb...|lR048uWXUYOhk2iPe...|Q9mA60HnY87C1TW5k...|          2.0|  0.0|           4.02|            2.5|   3.0| 3.0|  7.0| 424.72727272727275|\n",
      "|XBRuQstX7FPbhvddO...|UIwXivZKMxdQwG7l_...|Q9mA60HnY87C1TW5k...|          1.0|  0.0|           4.02|            2.0|   0.0| 0.0|  9.0| 424.72727272727275|\n",
      "|lgzxdXThcSxlH5UVa...|l9ABoPi9j_pH9588t...|Q9mA60HnY87C1TW5k...|          5.0|  1.0|           4.02|            4.0|   5.0| 5.0|  3.0| 424.72727272727275|\n",
      "|QiQlUN1Y51aG_gtuI...|5ZQmIhBVOelUScK9U...|Q9mA60HnY87C1TW5k...|          4.0|  1.0|           4.02|            2.5|   0.0| 0.0|  3.0| 424.72727272727275|\n",
      "|Jl7jutZuj7l4HRvWo...|ZjivUlBDO-LblMIdQ...|Q9mA60HnY87C1TW5k...|          4.0|  1.0|           4.02|            3.5|   5.0| 3.0|  1.0| 424.72727272727275|\n",
      "|mCFuZ744BUVe0vbre...|WdkbR9X-xWX3e1COX...|Q9mA60HnY87C1TW5k...|          5.0|  1.0|           4.02|            4.5|   6.0| 6.0|  4.0| 424.72727272727275|\n",
      "|x7np-6-5rBEPr7Ifx...|PNiH-BJRo2STl6bd5...|Q9mA60HnY87C1TW5k...|          4.0|  1.0|           4.02|            3.0|   5.0| 4.0|  4.0| 424.72727272727275|\n",
      "|9_lq1_Z9cmc37YuZq...|ZVSGswtLoZLAH9gzR...|Q9mA60HnY87C1TW5k...|          3.0|  0.0|           4.02|            3.0|   8.0| 3.0|  1.0| 424.72727272727275|\n",
      "|m8Eucy3ZZH-MpKvuW...|7PHMqeH3ypMtmYVV9...|Q9mA60HnY87C1TW5k...|          2.0|  0.0|           4.02|            1.5|   5.0| 5.0|  4.0| 424.72727272727275|\n",
      "|4eo56QQIWOmqxbZZQ...|B7crzLt3Cmq2Uy3JO...|Q9mA60HnY87C1TW5k...|          4.0|  1.0|           4.02|            3.5|  12.0|13.0|  6.0| 424.72727272727275|\n",
      "|JaM7PFYOCd8EgeiTP...|4nct8XhcC1Px7En-O...|Q9mA60HnY87C1TW5k...|          4.0|  1.0|           4.02|            2.5|   1.0| 0.0|  0.0| 424.72727272727275|\n",
      "|wev7tyn6K_GC4I50Y...|OFJssYP5-HpAfujsS...|Q9mA60HnY87C1TW5k...|          1.0|  0.0|           4.02|            2.5|   6.0| 6.0|  7.0| 424.72727272727275|\n",
      "|Ixf13Kl3P3VHvR_cs...|QV-01NzTQk3LfI2tP...|Q9mA60HnY87C1TW5k...|          5.0|  1.0|           4.02|            5.0|   2.0| 6.0|  0.0| 424.72727272727275|\n",
      "|pXSRLuedT7lZHVIh5...|jSm10odmxWoEs0l2C...|Q9mA60HnY87C1TW5k...|          5.0|  1.0|           4.02|            2.5|   1.0| 2.0|  4.0| 424.72727272727275|\n",
      "|Xfl_KpAKtvbWSXPb3...|nKcBd-ninGXMDCBQ3...|Q9mA60HnY87C1TW5k...|          3.0|  0.0|           4.02|            3.5|   2.0| 2.0|  0.0| 424.72727272727275|\n",
      "|jybPDIrV6qPw-C6iq...|-9dmhyBvepc08KPEH...|Q9mA60HnY87C1TW5k...|          4.0|  1.0|           4.02|            4.0|   6.0| 6.0|  5.0| 424.72727272727275|\n",
      "|ayZwzkM13ow6ogl_6...|7jEs2CVAKu6AhTGi0...|Q9mA60HnY87C1TW5k...|          5.0|  1.0|           4.02|            3.5|   2.0| 2.0|  0.0| 424.72727272727275|\n",
      "|CTxaQ2-84H94F3BjW...|maS4-kCcNIhBG3EZc...|Q9mA60HnY87C1TW5k...|          5.0|  1.0|           4.02|            4.0|   4.0| 3.0|  1.0| 424.72727272727275|\n",
      "|9XeO4-lBcZIvFYw5h...|15tpk1N3mU9iyjsFp...|Q9mA60HnY87C1TW5k...|          5.0|  1.0|           4.02|            4.0|   6.0| 4.0|  2.0| 424.72727272727275|\n",
      "|iUqaGHj7qmqwPYvnK...|Sg2l7S_huzkRLmk2N...|Q9mA60HnY87C1TW5k...|          4.0|  1.0|           4.02|            3.5|   4.0| 0.0|  2.0| 424.72727272727275|\n",
      "|Rm73LnqqzECdKw56Q...|IIzeaav_cM8wivult...|Q9mA60HnY87C1TW5k...|          3.0|  0.0|           4.02|            2.5|   2.0| 0.0|  4.0| 424.72727272727275|\n",
      "|-QmuIQAr1gMgWIiCX...|e2r5_zNwNu4kVBnpF...|Q9mA60HnY87C1TW5k...|          4.0|  1.0|           4.02|            3.5|   8.0| 8.0|  3.0| 424.72727272727275|\n",
      "|u-xcFpdqQ2GB2fB6H...|0C2rCyby1NpNVyhTV...|Q9mA60HnY87C1TW5k...|          4.0|  1.0|           4.02|            2.5|   1.0| 1.0|  1.0| 424.72727272727275|\n",
      "|s62lQ91qIrOfC-VRX...|2sslQMFDlzk2yMcRG...|Q9mA60HnY87C1TW5k...|          5.0|  1.0|           4.02|            3.0|   7.0| 7.0|  2.0| 424.72727272727275|\n",
      "|sDAD-Hg59iGCXEjyX...|vaA4LvE8N18KLYLag...|Q9mA60HnY87C1TW5k...|          4.0|  1.0|           4.02|            3.5|   2.0| 1.0|  1.0| 424.72727272727275|\n",
      "|B42DLushwdPckYGaq...|0cG8w7jxNAnkX8duZ...|Q9mA60HnY87C1TW5k...|          4.0|  1.0|           4.02|            4.0|   4.0| 4.0|  1.0| 424.72727272727275|\n",
      "|HsEmefIJoZsBr0AAF...|-SlPWO0rh7mOUtAWo...|Q9mA60HnY87C1TW5k...|          4.0|  1.0|           4.02|            4.5|   7.0| 8.0|  3.0| 424.72727272727275|\n",
      "|gj-eBYpqFfSBoVTnP...|-kG0N8sBhBotMbu0K...|Q9mA60HnY87C1TW5k...|          3.0|  0.0|           4.02|            3.0|   5.0| 5.0|  6.0| 424.72727272727275|\n",
      "|gev3kbl5sHUIJjF-s...|I6suYpV7mM39v_M65...|Q9mA60HnY87C1TW5k...|          5.0|  1.0|           4.02|            4.5|   8.0| 3.0|  3.0| 424.72727272727275|\n",
      "|fX0GTrpzNhE_1G8BS...|yGgpH8mY8INpGLq9a...|Q9mA60HnY87C1TW5k...|          4.0|  1.0|           4.02|            4.0|   0.0| 1.0|  4.0| 424.72727272727275|\n",
      "|Ops9fIMy7_0q5yL82...|EwjOe8ITjL71_xG6v...|Q9mA60HnY87C1TW5k...|          5.0|  1.0|           4.02|            4.5|   3.0| 4.0|  3.0| 424.72727272727275|\n",
      "|i0z7CZmQ6Xb4ub176...|1L_bnL4xm-Z05k_kx...|Q9mA60HnY87C1TW5k...|          5.0|  1.0|           4.02|            4.5|   9.0| 5.0|  1.0| 424.72727272727275|\n",
      "|E-4NB2G0f1JpMVBPu...|a5MPO6tqRSynOgbNK...|Q9mA60HnY87C1TW5k...|          3.0|  0.0|           4.02|            3.5|   2.0| 3.0|  3.0| 424.72727272727275|\n",
      "+--------------------+--------------------+--------------------+-------------+-----+---------------+---------------+------+----+-----+-------------------+\n",
      "only showing top 100 rows\n",
      "\n"
     ]
    }
   ],
   "source": [
    "df_ratings.show(100)"
   ]
  },
  {
   "cell_type": "code",
   "execution_count": 165,
   "metadata": {
    "collapsed": false,
    "scrolled": false
   },
   "outputs": [
    {
     "name": "stdout",
     "output_type": "stream",
     "text": [
      "+-----+--------+\n",
      "|label|count(1)|\n",
      "+-----+--------+\n",
      "|  0.0|  210674|\n",
      "|  1.0|  444808|\n",
      "+-----+--------+\n",
      "\n"
     ]
    }
   ],
   "source": [
    "df_ratings.groupby('label').agg(fn.count('*')).show()\n",
    "#Check the count of 0/1 in the label column"
   ]
  },
  {
   "cell_type": "markdown",
   "metadata": {},
   "source": [
    "## Step: Split  the dataframe and apply Random Forest Classifier Algorithms"
   ]
  },
  {
   "cell_type": "code",
   "execution_count": 166,
   "metadata": {
    "collapsed": true
   },
   "outputs": [],
   "source": [
    "training_df, validation_df, testing_df = df_ratings.randomSplit([0.6, 0.3, 0.1])\n",
    "# Split the dataset into Training, Validation and Testing"
   ]
  },
  {
   "cell_type": "code",
   "execution_count": 167,
   "metadata": {
    "collapsed": true
   },
   "outputs": [],
   "source": [
    "from pyspark.ml.feature import VectorAssembler\n",
    "# Import Vector Assembler"
   ]
  },
  {
   "cell_type": "code",
   "execution_count": 168,
   "metadata": {
    "collapsed": false
   },
   "outputs": [],
   "source": [
    "# build a pipeline for analysis\n",
    "va = VectorAssembler().setInputCols(training_df.columns[5:11]).setOutputCol('features')"
   ]
  },
  {
   "cell_type": "code",
   "execution_count": 169,
   "metadata": {
    "collapsed": true
   },
   "outputs": [],
   "source": [
    "from pyspark.ml.classification import LogisticRegression, RandomForestClassifier\n",
    "from pyspark.ml import Pipeline\n",
    "#Import logistic regression and random forest classifier models"
   ]
  },
  {
   "cell_type": "code",
   "execution_count": 170,
   "metadata": {
    "collapsed": true
   },
   "outputs": [],
   "source": [
    "lr = LogisticRegression(regParam=0.1)\n",
    "# Create lr model for logistic regression"
   ]
  },
  {
   "cell_type": "code",
   "execution_count": 171,
   "metadata": {
    "collapsed": false,
    "scrolled": true
   },
   "outputs": [
    {
     "data": {
      "text/plain": [
       "['user_avg_rating',\n",
       " 'business_rating',\n",
       " 'useful',\n",
       " 'cool',\n",
       " 'funny',\n",
       " 'compliment_average']"
      ]
     },
     "execution_count": 171,
     "metadata": {},
     "output_type": "execute_result"
    }
   ],
   "source": [
    "training_df.columns[5:11]\n",
    "# Subsetting the training_df dataset in relevant weight columns "
   ]
  },
  {
   "cell_type": "code",
   "execution_count": 172,
   "metadata": {
    "collapsed": false
   },
   "outputs": [],
   "source": [
    "lr_pipeline = Pipeline(stages=[va, lr]).fit(training_df)\n",
    "# Fitting the logistic regression model for training dataset "
   ]
  },
  {
   "cell_type": "code",
   "execution_count": 173,
   "metadata": {
    "collapsed": true
   },
   "outputs": [],
   "source": [
    "rf = RandomForestClassifier()\n",
    "#Creating the random forest classifier model"
   ]
  },
  {
   "cell_type": "code",
   "execution_count": 174,
   "metadata": {
    "collapsed": false
   },
   "outputs": [],
   "source": [
    "rf_pipeline = Pipeline(stages=[va, rf]).fit(training_df)\n",
    "#Creating a pipeline for vector assembler and random forest and applying it on Training dataset"
   ]
  },
  {
   "cell_type": "code",
   "execution_count": 175,
   "metadata": {
    "collapsed": true
   },
   "outputs": [],
   "source": [
    "from pyspark.ml.evaluation import BinaryClassificationEvaluator\n",
    "# Applying Binary Classification Evaluator"
   ]
  },
  {
   "cell_type": "code",
   "execution_count": 176,
   "metadata": {
    "collapsed": true
   },
   "outputs": [],
   "source": [
    "bce = BinaryClassificationEvaluator()"
   ]
  },
  {
   "cell_type": "code",
   "execution_count": 177,
   "metadata": {
    "collapsed": false
   },
   "outputs": [
    {
     "data": {
      "text/plain": [
       "0.9021520576134945"
      ]
     },
     "execution_count": 177,
     "metadata": {},
     "output_type": "execute_result"
    }
   ],
   "source": [
    "bce.evaluate(rf_pipeline.transform(validation_df))"
   ]
  },
  {
   "cell_type": "code",
   "execution_count": 178,
   "metadata": {
    "collapsed": true
   },
   "outputs": [],
   "source": [
    "lr_model = lr_pipeline.stages[-1]"
   ]
  },
  {
   "cell_type": "markdown",
   "metadata": {},
   "source": [
    "## Step: Calcuate the weights of individual features"
   ]
  },
  {
   "cell_type": "code",
   "execution_count": 179,
   "metadata": {
    "collapsed": true
   },
   "outputs": [],
   "source": [
    "import pandas as pd"
   ]
  },
  {
   "cell_type": "code",
   "execution_count": 186,
   "metadata": {
    "collapsed": false,
    "scrolled": true
   },
   "outputs": [
    {
     "data": {
      "text/html": [
       "<div>\n",
       "<table border=\"1\" class=\"dataframe\">\n",
       "  <thead>\n",
       "    <tr style=\"text-align: right;\">\n",
       "      <th></th>\n",
       "      <th>column</th>\n",
       "      <th>weight</th>\n",
       "    </tr>\n",
       "  </thead>\n",
       "  <tbody>\n",
       "    <tr>\n",
       "      <th>2</th>\n",
       "      <td>useful</td>\n",
       "      <td>-0.079718</td>\n",
       "    </tr>\n",
       "    <tr>\n",
       "      <th>4</th>\n",
       "      <td>funny</td>\n",
       "      <td>-0.054745</td>\n",
       "    </tr>\n",
       "    <tr>\n",
       "      <th>5</th>\n",
       "      <td>compliment_average</td>\n",
       "      <td>0.000047</td>\n",
       "    </tr>\n",
       "    <tr>\n",
       "      <th>3</th>\n",
       "      <td>cool</td>\n",
       "      <td>0.103749</td>\n",
       "    </tr>\n",
       "    <tr>\n",
       "      <th>1</th>\n",
       "      <td>business_rating</td>\n",
       "      <td>0.733010</td>\n",
       "    </tr>\n",
       "    <tr>\n",
       "      <th>0</th>\n",
       "      <td>user_avg_rating</td>\n",
       "      <td>0.745241</td>\n",
       "    </tr>\n",
       "  </tbody>\n",
       "</table>\n",
       "</div>"
      ],
      "text/plain": [
       "               column    weight\n",
       "2              useful -0.079718\n",
       "4               funny -0.054745\n",
       "5  compliment_average  0.000047\n",
       "3                cool  0.103749\n",
       "1     business_rating  0.733010\n",
       "0     user_avg_rating  0.745241"
      ]
     },
     "execution_count": 186,
     "metadata": {},
     "output_type": "execute_result"
    }
   ],
   "source": [
    "pd.DataFrame(list(zip(df_ratings.columns[5:11], lr_model.coefficients.toArray())),\n",
    "            columns = ['column', 'weight']).sort_values('weight')\n",
    "#Checking the weights of individual features"
   ]
  },
  {
   "cell_type": "code",
   "execution_count": 187,
   "metadata": {
    "collapsed": true
   },
   "outputs": [],
   "source": [
    "rf_model = rf_pipeline.stages[-1]"
   ]
  },
  {
   "cell_type": "code",
   "execution_count": 188,
   "metadata": {
    "collapsed": false
   },
   "outputs": [
    {
     "data": {
      "text/html": [
       "<div>\n",
       "<table border=\"1\" class=\"dataframe\">\n",
       "  <thead>\n",
       "    <tr style=\"text-align: right;\">\n",
       "      <th></th>\n",
       "      <th>column</th>\n",
       "      <th>weight</th>\n",
       "    </tr>\n",
       "  </thead>\n",
       "  <tbody>\n",
       "    <tr>\n",
       "      <th>4</th>\n",
       "      <td>funny</td>\n",
       "      <td>0.008764</td>\n",
       "    </tr>\n",
       "    <tr>\n",
       "      <th>5</th>\n",
       "      <td>compliment_average</td>\n",
       "      <td>0.009043</td>\n",
       "    </tr>\n",
       "    <tr>\n",
       "      <th>3</th>\n",
       "      <td>cool</td>\n",
       "      <td>0.022607</td>\n",
       "    </tr>\n",
       "    <tr>\n",
       "      <th>2</th>\n",
       "      <td>useful</td>\n",
       "      <td>0.030870</td>\n",
       "    </tr>\n",
       "    <tr>\n",
       "      <th>0</th>\n",
       "      <td>user_avg_rating</td>\n",
       "      <td>0.405500</td>\n",
       "    </tr>\n",
       "    <tr>\n",
       "      <th>1</th>\n",
       "      <td>business_rating</td>\n",
       "      <td>0.523215</td>\n",
       "    </tr>\n",
       "  </tbody>\n",
       "</table>\n",
       "</div>"
      ],
      "text/plain": [
       "               column    weight\n",
       "4               funny  0.008764\n",
       "5  compliment_average  0.009043\n",
       "3                cool  0.022607\n",
       "2              useful  0.030870\n",
       "0     user_avg_rating  0.405500\n",
       "1     business_rating  0.523215"
      ]
     },
     "execution_count": 188,
     "metadata": {},
     "output_type": "execute_result"
    }
   ],
   "source": [
    "pd.DataFrame(list(zip(df_ratings.columns[5:11], rf_model.featureImportances.toArray())),\n",
    "            columns = ['column', 'weight']).sort_values('weight')\n",
    "#Checking the weights of individual features using Random Forest Classifier"
   ]
  },
  {
   "cell_type": "code",
   "execution_count": 189,
   "metadata": {
    "collapsed": false
   },
   "outputs": [
    {
     "data": {
      "text/plain": [
       "20"
      ]
     },
     "execution_count": 189,
     "metadata": {},
     "output_type": "execute_result"
    }
   ],
   "source": [
    "len(rf_model.trees)"
   ]
  },
  {
   "cell_type": "code",
   "execution_count": 190,
   "metadata": {
    "collapsed": false
   },
   "outputs": [
    {
     "name": "stdout",
     "output_type": "stream",
     "text": [
      "DecisionTreeClassificationModel (uid=dtc_4beee059f92a) of depth 5 with 63 nodes\n",
      "  If (feature 0 <= 3.55)\n",
      "   If (feature 2 <= 1.0)\n",
      "    If (feature 0 <= 2.15)\n",
      "     If (feature 1 <= 4.5)\n",
      "      If (feature 0 <= 1.0)\n",
      "       Predict: 0.0\n",
      "      Else (feature 0 > 1.0)\n",
      "       Predict: 0.0\n",
      "     Else (feature 1 > 4.5)\n",
      "      If (feature 4 <= 0.0)\n",
      "       Predict: 1.0\n",
      "      Else (feature 4 > 0.0)\n",
      "       Predict: 0.0\n",
      "    Else (feature 0 > 2.15)\n",
      "     If (feature 1 <= 3.5)\n",
      "      If (feature 1 <= 2.5)\n",
      "       Predict: 0.0\n",
      "      Else (feature 1 > 2.5)\n",
      "       Predict: 0.0\n",
      "     Else (feature 1 > 3.5)\n",
      "      If (feature 4 <= 0.0)\n",
      "       Predict: 1.0\n",
      "      Else (feature 4 > 0.0)\n",
      "       Predict: 1.0\n",
      "   Else (feature 2 > 1.0)\n",
      "    If (feature 0 <= 3.09)\n",
      "     If (feature 3 <= 0.0)\n",
      "      If (feature 0 <= 2.15)\n",
      "       Predict: 0.0\n",
      "      Else (feature 0 > 2.15)\n",
      "       Predict: 0.0\n",
      "     Else (feature 3 > 0.0)\n",
      "      If (feature 4 <= 0.0)\n",
      "       Predict: 0.0\n",
      "      Else (feature 4 > 0.0)\n",
      "       Predict: 0.0\n",
      "    Else (feature 0 > 3.09)\n",
      "     If (feature 1 <= 3.5)\n",
      "      If (feature 1 <= 2.5)\n",
      "       Predict: 0.0\n",
      "      Else (feature 1 > 2.5)\n",
      "       Predict: 0.0\n",
      "     Else (feature 1 > 3.5)\n",
      "      If (feature 3 <= 0.0)\n",
      "       Predict: 1.0\n",
      "      Else (feature 3 > 0.0)\n",
      "       Predict: 1.0\n",
      "  Else (feature 0 > 3.55)\n",
      "   If (feature 1 <= 3.0)\n",
      "    If (feature 0 <= 4.49)\n",
      "     If (feature 2 <= 0.0)\n",
      "      If (feature 1 <= 1.5)\n",
      "       Predict: 0.0\n",
      "      Else (feature 1 > 1.5)\n",
      "       Predict: 1.0\n",
      "     Else (feature 2 > 0.0)\n",
      "      If (feature 5 <= 0.36363636363636365)\n",
      "       Predict: 0.0\n",
      "      Else (feature 5 > 0.36363636363636365)\n",
      "       Predict: 0.0\n",
      "    Else (feature 0 > 4.49)\n",
      "     If (feature 2 <= 1.0)\n",
      "      If (feature 1 <= 1.5)\n",
      "       Predict: 1.0\n",
      "      Else (feature 1 > 1.5)\n",
      "       Predict: 1.0\n",
      "     Else (feature 2 > 1.0)\n",
      "      If (feature 3 <= 0.0)\n",
      "       Predict: 1.0\n",
      "      Else (feature 3 > 0.0)\n",
      "       Predict: 1.0\n",
      "   Else (feature 1 > 3.0)\n",
      "    If (feature 5 <= 0.2727272727272727)\n",
      "     If (feature 1 <= 4.0)\n",
      "      If (feature 1 <= 3.5)\n",
      "       Predict: 1.0\n",
      "      Else (feature 1 > 3.5)\n",
      "       Predict: 1.0\n",
      "     Else (feature 1 > 4.0)\n",
      "      If (feature 2 <= 2.0)\n",
      "       Predict: 1.0\n",
      "      Else (feature 2 > 2.0)\n",
      "       Predict: 1.0\n",
      "    Else (feature 5 > 0.2727272727272727)\n",
      "     If (feature 1 <= 3.5)\n",
      "      If (feature 3 <= 0.0)\n",
      "       Predict: 1.0\n",
      "      Else (feature 3 > 0.0)\n",
      "       Predict: 1.0\n",
      "     Else (feature 1 > 3.5)\n",
      "      If (feature 1 <= 4.0)\n",
      "       Predict: 1.0\n",
      "      Else (feature 1 > 4.0)\n",
      "       Predict: 1.0\n",
      "\n"
     ]
    }
   ],
   "source": [
    "print(rf_model.trees[0].toDebugString)"
   ]
  }
 ],
 "metadata": {
  "anaconda-cloud": {},
  "kernelspec": {
   "display_name": "Python 3",
   "language": "python",
   "name": "python3"
  },
  "language_info": {
   "codemirror_mode": {
    "name": "ipython",
    "version": 3
   },
   "file_extension": ".py",
   "mimetype": "text/x-python",
   "name": "python",
   "nbconvert_exporter": "python",
   "pygments_lexer": "ipython3",
   "version": "3.5.2"
  }
 },
 "nbformat": 4,
 "nbformat_minor": 2
}
