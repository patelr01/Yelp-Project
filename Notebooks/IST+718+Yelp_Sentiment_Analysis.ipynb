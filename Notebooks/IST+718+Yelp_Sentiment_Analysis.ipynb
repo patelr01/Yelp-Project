{
 "cells": [
  {
   "cell_type": "markdown",
   "metadata": {},
   "source": [
    "# Yelp Reviews Sentiment Analysis"
   ]
  },
  {
   "cell_type": "markdown",
   "metadata": {},
   "source": [
    "## Step: Loading packages and connecting to Spark cluster"
   ]
  },
  {
   "cell_type": "code",
   "execution_count": 1,
   "metadata": {
    "collapsed": false
   },
   "outputs": [],
   "source": [
    "# Run this cell below only once:\n",
    "import findspark\n",
    "findspark.init()\n",
    "\n",
    "# import the library\n",
    "import pyspark\n",
    "from pyspark.sql import SparkSession\n",
    "# for Spark 2.0, we have a unified entry point to the cluster\n",
    "spark = SparkSession.builder.\\\n",
    "    getOrCreate()\n",
    "#spark = SparkSession.builder.master('local[2]').getOrCreate()\n",
    "# for previous versions, we can simulate SparkContext and SQLContext\n",
    "sc = spark.sparkContext\n",
    "sqlContext = spark\n",
    "\n",
    "# Display information about current execution\n",
    "#spark.conf.get('spark.org.apache.hadoop.yarn.server.webproxy.amfilter.AmIpFilter.param.PROXY_URI_BASES')"
   ]
  },
  {
   "cell_type": "code",
   "execution_count": 2,
   "metadata": {
    "collapsed": true
   },
   "outputs": [],
   "source": [
    "import pandas as pd"
   ]
  },
  {
   "cell_type": "code",
   "execution_count": 3,
   "metadata": {
    "collapsed": true
   },
   "outputs": [],
   "source": [
    "from functools import reduce"
   ]
  },
  {
   "cell_type": "code",
   "execution_count": 117,
   "metadata": {
    "collapsed": true
   },
   "outputs": [],
   "source": [
    "from pyspark.sql import SparkSession, DataFrame, DataFrameNaFunctions\n",
    "from pyspark.sql import functions as fn\n",
    "import numpy as np"
   ]
  },
  {
   "cell_type": "code",
   "execution_count": 5,
   "metadata": {
    "collapsed": true
   },
   "outputs": [],
   "source": [
    "spark = SparkSession.builder.getOrCreate()\\"
   ]
  },
  {
   "cell_type": "code",
   "execution_count": 6,
   "metadata": {
    "collapsed": false,
    "scrolled": true
   },
   "outputs": [
    {
     "name": "stdout",
     "output_type": "stream",
     "text": [
      "<pyspark.context.SparkContext object at 0x7fc341fa68d0>\n"
     ]
    }
   ],
   "source": [
    "from pyspark.sql import SQLContext\n",
    "print (sc)"
   ]
  },
  {
   "cell_type": "markdown",
   "metadata": {},
   "source": [
    "## Step: Convert the dataset into Spark dataframe and perform data cleaning operations"
   ]
  },
  {
   "cell_type": "code",
   "execution_count": 38,
   "metadata": {
    "collapsed": false
   },
   "outputs": [],
   "source": [
    "df_all = spark.read\\\n",
    "    .format('com.databricks.spark.csv')\\\n",
    "    .option('header','true')\\\n",
    "    .option('charset', 'UTF-8')\\\n",
    "    .csv('df_all.csv')"
   ]
  },
  {
   "cell_type": "code",
   "execution_count": 39,
   "metadata": {
    "collapsed": false
   },
   "outputs": [
    {
     "name": "stdout",
     "output_type": "stream",
     "text": [
      "root\n",
      " |-- _c0: string (nullable = true)\n",
      " |-- Unnamed: 0: string (nullable = true)\n",
      " |-- business_id: string (nullable = true)\n",
      " |-- attributes: string (nullable = true)\n",
      " |-- review_count: string (nullable = true)\n",
      " |-- name: string (nullable = true)\n",
      " |-- business_rating: string (nullable = true)\n",
      " |-- funny: string (nullable = true)\n",
      " |-- user_id: string (nullable = true)\n",
      " |-- review_id: string (nullable = true)\n",
      " |-- text: string (nullable = true)\n",
      " |-- review_rating: string (nullable = true)\n",
      " |-- useful: string (nullable = true)\n",
      " |-- cool: string (nullable = true)\n",
      " |-- compliment_list: string (nullable = true)\n",
      " |-- compliment_hot: string (nullable = true)\n",
      " |-- compliment_cute: string (nullable = true)\n",
      " |-- compliment_note: string (nullable = true)\n",
      " |-- compliment_photos: string (nullable = true)\n",
      " |-- compliment_more: string (nullable = true)\n",
      " |-- compliment_writer: string (nullable = true)\n",
      " |-- compliment_plain: string (nullable = true)\n",
      " |-- user_avg_rating: string (nullable = true)\n",
      " |-- compliment_profile: string (nullable = true)\n",
      " |-- compliment_cool: string (nullable = true)\n",
      " |-- compliment_funny: string (nullable = true)\n",
      " |-- review_rating_f: string (nullable = true)\n",
      "\n"
     ]
    }
   ],
   "source": [
    "df_all.printSchema()"
   ]
  },
  {
   "cell_type": "code",
   "execution_count": 40,
   "metadata": {
    "collapsed": true
   },
   "outputs": [],
   "source": [
    "df_all = df_all.na.drop(subset=[\"text\"]) # Remove rows with NULL in column 'content"
   ]
  },
  {
   "cell_type": "code",
   "execution_count": 41,
   "metadata": {
    "collapsed": false
   },
   "outputs": [
    {
     "name": "stdout",
     "output_type": "stream",
     "text": [
      "+---------------+--------+\n",
      "|review_rating_f|count(1)|\n",
      "+---------------+--------+\n",
      "|              1|  511419|\n",
      "|              0|  666259|\n",
      "+---------------+--------+\n",
      "\n"
     ]
    }
   ],
   "source": [
    "df_all=df_all.withColumn(\"review_rating_f\", fn.col(\"review_rating_f\").cast(\"int\"))\n",
    "# Change the datatype of review_rating to integer\n",
    "\n",
    "d1=df_all.where(fn.col('review_rating_f')==1)\n",
    "d0=df_all.where(fn.col('review_rating_f')==0)\n",
    "df_all= d1.unionAll(d0)\n",
    "df_all.groupby('review_rating_f').agg(fn.count('*')).show()\n",
    "#Clen the dataframe as per required output"
   ]
  },
  {
   "cell_type": "code",
   "execution_count": 42,
   "metadata": {
    "collapsed": false
   },
   "outputs": [],
   "source": [
    "df_all = df_all.select('_c0','name','review_count','business_id','user_id','review_id',\\\n",
    "              'text','business_rating','review_rating_f','review_rating','cool','funny','useful',\\\n",
    "              ((fn.col('compliment_profile')+fn.col('compliment_cool')+fn.col('compliment_funny')+fn.col('compliment_plain')+\\\n",
    "               fn.col('compliment_writer')+fn.col('compliment_more')+fn.col('compliment_photos')+fn.col('compliment_note')+\\\n",
    "               fn.col('compliment_cute')+fn.col('compliment_list')+fn.col('compliment_hot'))/11).alias('compliment_average'))"
   ]
  },
  {
   "cell_type": "code",
   "execution_count": 43,
   "metadata": {
    "collapsed": false
   },
   "outputs": [
    {
     "name": "stdout",
     "output_type": "stream",
     "text": [
      "root\n",
      " |-- _c0: string (nullable = true)\n",
      " |-- name: string (nullable = true)\n",
      " |-- review_count: string (nullable = true)\n",
      " |-- business_id: string (nullable = true)\n",
      " |-- user_id: string (nullable = true)\n",
      " |-- review_id: string (nullable = true)\n",
      " |-- text: string (nullable = true)\n",
      " |-- business_rating: string (nullable = true)\n",
      " |-- review_rating_f: integer (nullable = true)\n",
      " |-- review_rating: string (nullable = true)\n",
      " |-- cool: string (nullable = true)\n",
      " |-- funny: string (nullable = true)\n",
      " |-- useful: string (nullable = true)\n",
      " |-- compliment_average: double (nullable = true)\n",
      "\n"
     ]
    }
   ],
   "source": [
    "df_all.printSchema()"
   ]
  },
  {
   "cell_type": "code",
   "execution_count": 35,
   "metadata": {
    "collapsed": false,
    "scrolled": true
   },
   "outputs": [
    {
     "name": "stdout",
     "output_type": "stream",
     "text": [
      "+----+--------------------+----------------+--------------------+--------------------+--------------------+--------------------+---------------+---------------+--------------------+--------------------+------------------+--------------------+-------------------+\n",
      "| _c0|                name|    review_count|         business_id|             user_id|           review_id|                text|business_rating|review_rating_f|       review_rating|                cool|             funny|              useful| compliment_average|\n",
      "+----+--------------------+----------------+--------------------+--------------------+--------------------+--------------------+---------------+---------------+--------------------+--------------------+------------------+--------------------+-------------------+\n",
      "|   9|Sting Alarm Las V...|              14|XqDeiaPSG0-fBbOXD...|efaUGV60LFI4v6bWP...|xqFpx6FkEpjow6JAh...|John the director...|            3.5|              1|                 5.0|                   1|                 1|                   1|                0.0|\n",
      "|  14| Design One Printing|              21|zC7ldegnDoXg-Wln5...|efaUGV60LFI4v6bWP...|fpq7iwxvRdG9vssv0...|Nar and all the p...|            5.0|              1|                 5.0|                   0|                 0|                   0|                0.0|\n",
      "|  17|  Oreilys Auto Parts|               3|O7RMINvCcGVNTMlD7...|efaUGV60LFI4v6bWP...|jDOVgU7ICogRtpLrX...|Thanks to Soubi w...|            4.5|              1|                 5.0|                   0|                 0|                   0|                0.0|\n",
      "|  42|Arizona Strong Be...|              13|oYwLxROH5RihyFxrd...|hPHsKqUwO_RKJNxkB...|NEP1fCrzA7i50c875...|My Wife and I hav...|            4.5|              1|                 4.0|                   0|                 0|                   0|0.09090909090909091|\n",
      "|  51|Yelp's Secret Cin...|              38|MCX_cBs_LUqzuUzd-...|YEiJOtOBBRKEpRuvZ...|2bk0aJ_6Tq87K8WaZ...|This was my first...|            5.0|              1|                 4.0|                   1|                 0|                   0| 13.818181818181818|\n",
      "|  54|Sonoran Wellness ...|               7|zOqJqDlWT0CF986D0...|YEiJOtOBBRKEpRuvZ...|SNSNuk3Wj7YDSXLQi...|I used to visit t...|            4.0|              1|                 5.0|                   0|                 1|                   0| 13.818181818181818|\n",
      "|  60|A 1 Minute Key Se...|             238|po-05-AGCVxEme-Sb...|YEiJOtOBBRKEpRuvZ...|u8o4tuv7o7nnrwWyi...|Jeff is a top-not...|            5.0|              1|                 5.0|                   0|                 1|                   1| 13.818181818181818|\n",
      "|  62|Sarang Natural Me...|               5|Lh03t7LM7R8uKpgyv...|YEiJOtOBBRKEpRuvZ...|mry4Y8tz87Guv-M1Y...|Dr. Lee is a wond...|            5.0|              1|                 5.0|                   1|                 1|                   1| 13.818181818181818|\n",
      "|  86|  'validated': False| 'street': False|0DI8Dt2PJp07XkVvI...| 'DogsAllowed: Fa...| 'RestaurantsPric...| 'WheelchairAcces...|    'lot': True|              1|                  17|                 4.5| 'valet': False}\"\"|   Innovative Vapors|               null|\n",
      "|  93|  'validated': False| 'street': False|DlS2X40L4KywtwO4Y...| 'RestaurantsPric...| 'RestaurantsTake...|        'WiFi: no']\"|   'lot': False|              1|                  13|                 5.0| 'valet': False}\"\"|       Water and Ice|               null|\n",
      "| 103|Michael W Zacher,...|               7|Sbv16xQcM_DFLv3eh...|1-eTooyYzRvnSrfwL...|DVvLxskv7drqo3I1a...|Rewind 7 years ag...|            4.5|              1|                 5.0|                   0|                 0|                   0| 0.2727272727272727|\n",
      "| 108|    Kosmo's Doghouse|              39|wMsy-LOjrpSg-tbnl...|1-eTooyYzRvnSrfwL...|5vBAkJY8eR5-oZpE6...|Recently returned...|            4.5|              1|                 5.0|                   0|                 0|                   2| 0.2727272727272727|\n",
      "| 117|       Cut and Taste|               9|LTlCaCGZE14GuaUXU...|OELlLQMDC3xk0hw5d...|A8qfpn5a5nPcIuE26...|There aren't enou...|            5.0|              1|                 5.0|                   0|                 0|                   0|                0.0|\n",
      "| 123|Barking Dogs Self...|             185|IVKVk7ZAPdQi6S40U...|OELlLQMDC3xk0hw5d...|tWaJ7k7Zw_mWUUnrg...|I just washed my ...|            4.5|              1|                 5.0|                   0|                 0|                   0|                0.0|\n",
      "| 125|Best In Show Dog ...|             133|HZrvNH7VTHUDcYqwF...|OELlLQMDC3xk0hw5d...|0Xw0xqgYJNBpI9Ln2...|Ive brought my do...|            4.0|              1|                 5.0|                   1|                 1|                   3|                0.0|\n",
      "| 126|       Cut and Taste|               9|LTlCaCGZE14GuaUXU...|lNJaqRXRpHuOHPgPi...|X1SXw2-MFA9rdLVg2...|Cut & Taste cater...|            5.0|              1|                 5.0|                   0|                 0|                   2|                0.0|\n",
      "| 127|       Cut and Taste|               9|LTlCaCGZE14GuaUXU...|Nt_jTjBiwf_SzULAl...|7w2wpLM3qb9A2MVl2...|Cut and Taste is ...|            5.0|              1|                 5.0|                   1|                 0|                   0|                0.0|\n",
      "| 128|      Liquid Courage|               8|RCmF00iDVG2yOOXFe...|Nt_jTjBiwf_SzULAl...|SWz5RI4XaPCYOovc2...|Liquid Courage pr...|            5.0|              1|                 5.0|                   0|                 0|                   0|                0.0|\n",
      "| 129|  RSVP Party Rentals|              22|1uwlVWxwGU248Jayv...|Nt_jTjBiwf_SzULAl...|Vg9eiXqoXQOevMKBM...|We needed to rent...|            4.5|              1|                 5.0|                   0|                 0|                   0|                0.0|\n",
      "| 130|       Cut and Taste|               9|LTlCaCGZE14GuaUXU...|Aw_UhDd-3IDCPu9yb...|GQ1jLKw8VAoTr5YTE...|Cut and Taste is ...|            5.0|              1|                 5.0|                   0|                 0|                   0|0.36363636363636365|\n",
      "| 131| Masterpiece Cuisine|              29|2PA6vbWPOdKyBvz8U...|Aw_UhDd-3IDCPu9yb...|XdVCSC7u-ySsUl4JQ...|I ordered a desse...|            5.0|              1|                 5.0|                   0|                 0|                   0|0.36363636363636365|\n",
      "| 134|       Cut and Taste|               9|LTlCaCGZE14GuaUXU...|PlMY05d3AGDb42qar...|XxxJ7_ksL1FxcAIkE...|First Class!  Cut...|            5.0|              1|                 5.0|                   0|                 0|                   1|                0.0|\n",
      "| 135|       Cut and Taste|               9|LTlCaCGZE14GuaUXU...|Cq0FaaEEIJgPjKbGd...|TSLP7yh_laNyIsNBB...|Cut & Taste provi...|            5.0|              1|                 5.0|                   0|                 0|                   0|                0.0|\n",
      "| 137|       Cut and Taste|               9|LTlCaCGZE14GuaUXU...|XnuuGtEl7E8syck0Q...|llnSTHnXQ-qGpnUuX...|I cannot speak hi...|            5.0|              1|                 5.0|                   2|                 2|                   3|               10.0|\n",
      "| 164|Galaxy Green Vall...|             641|zoODlH40edpJYLPLk...|XnuuGtEl7E8syck0Q...|b1IoFNSsHrwCyGESS...|OMG... Once you g...|            4.5|              1|                 5.0|                   1|                 0|                   1|               10.0|\n",
      "| 165|Aloha Automotive ...|              78|jt9O4tqBb-a7encP9...|XnuuGtEl7E8syck0Q...|mx4ZhbccKNdAluev8...|Just moved here s...|            5.0|              1|                 5.0|                   1|                 0|                   2|               10.0|\n",
      "| 175|The Cosmopolitan ...|            3400|5LNZ67Yw9RD6nf4_U...|XnuuGtEl7E8syck0Q...|zAc3osvGWdMxxwzoh...|This is my favori...|            4.0|              1|                 5.0|                   6|                 5|                   8|               10.0|\n",
      "| 201|       Cut and Taste|               9|LTlCaCGZE14GuaUXU...|NZBNE3pjlJDibe_LJ...|blSnU7Ov-Zj4MwBzP...|We hired Jeremy a...|            5.0|              1|                 5.0|                   0|                 0|                   0| 0.2727272727272727|\n",
      "| 205|    Hillcrest Dental|              38|qh5dTNXritViyuqd_...|NZBNE3pjlJDibe_LJ...|sVilaekark0_jlT75...|I recently reloca...|            5.0|              1|                 5.0|                   0|                 0|                   5| 0.2727272727272727|\n",
      "| 206|       Cut and Taste|               9|LTlCaCGZE14GuaUXU...|WKzh-RxI1wdZX-Nuf...|ooVqZTbrD_BOuOZxL...|We recently had t...|            5.0|              1|                 5.0|                   0|                 0|                   1|0.09090909090909091|\n",
      "| 209|  'validated': False| 'street': False|Q36KIIiz5M2WIdXiM...| 'ByAppointmentOn...| 'RestaurantsDeli...| 'RestaurantsPric...|    'lot': True|              1| 'RestaurantsTake...|                 175| 'valet': False}\"\"| 'WheelchairAcces...|               null|\n",
      "| 247|             Wendy's|               4|FTRuQkWwQqtf9J_TT...|8bKpyXdiYF3ZKIB3Q...|st5nk11UD4M_YyY7x...|What the hell, I'...|            3.0|              1|                 4.0|                   1|                 1|                   1| 17.181818181818183|\n",
      "| 340|Cineplex Odeon Qu...|              70|TDtggQc6j_HjmQXS5...|lnFEQ0QNucQEd1n76...|IkL85pSR8FsZ86mGB...|Nowadays I usuall...|            3.5|              1|                 4.0|                   0|                 1|                   0|0.18181818181818182|\n",
      "| 346|The Distillery Di...|             117|3HVxkz03TS_ssJ7j3...|Q9mA60HnY87C1TW5k...|vv0oXYlKAZRVFyMCO...|Be still my Disti...|            4.0|              1|                 5.0|                   3|                 4|                   1| 424.72727272727275|\n",
      "| 364|                Uber|              57|4vHm-szf4WUn77MbJ...|Q9mA60HnY87C1TW5k...|jW-pcPmYu4q-SFs2z...|Uber is still my ...|            3.5|              1|                 5.0|                   4|                 2|                   8| 424.72727272727275|\n",
      "| 407|     VIA RAIL Canada|              24|TKJkLEWe53iNYwl-B...|Q9mA60HnY87C1TW5k...|4dWUkdEYotjAbR1IQ...|Have you ever tak...|            3.5|              1|                 4.0|                   9|                 5|                   6| 424.72727272727275|\n",
      "| 410|Imagine Cinemas -...|              53|whF3fiWey-GJLzmX3...|Q9mA60HnY87C1TW5k...|6bk48m8wQCwZvAq2d...|If you do not lov...|            4.5|              1|                 5.0|                   3|                 7|                   2| 424.72727272727275|\n",
      "| 422|            DF Salon|               3|Y7oOB-c1CpgaN_3vY...|Q9mA60HnY87C1TW5k...|9u_itIe877VSNO-89...|I'm taking a mome...|            5.0|              1|                 5.0|                   5|                 1|                   5| 424.72727272727275|\n",
      "| 440|       Hôtel St-Paul|              36|C-JdFdmF130R53GOJ...|Q9mA60HnY87C1TW5k...|kQ5qY6GzLgaIHDXNx...|My little family ...|            4.0|              1|                 4.0|                   8|                 1|                   7| 424.72727272727275|\n",
      "| 444|      Alex Duff Pool|               3|druYY2REuf5_0Rd82...|Q9mA60HnY87C1TW5k...|-HIM6nPD8EW20fJhi...|Playing on water ...|            4.5|              1|                 5.0|                   5|                 2|                   5| 424.72727272727275|\n",
      "| 457|  TIFF Bell Lightbox|              60|imhibWA4C4M7drQSe...|Q9mA60HnY87C1TW5k...|vZ83BaBWji3YodUZW...|What a civilized ...|            4.0|              1|                 5.0|                   7|                 2|                   4| 424.72727272727275|\n",
      "| 460|Mount Sinai Hospital|              33|ZgGg7frEjgmNMdIrR...|Q9mA60HnY87C1TW5k...|K_ifHNdDOFw34Qjk5...|I didn't live in ...|            3.5|              1|                 4.0|                  18|                 5|                  14| 424.72727272727275|\n",
      "| 475|University of Tor...|              33|c0mqmFUNQKE0APAF1...|Q9mA60HnY87C1TW5k...|_PNfczihPJnZI6s96...|My alma mater pri...|            3.5|              1|                 5.0|                   2|                 5|                   2| 424.72727272727275|\n",
      "| 480|   Toronto Blue Jays|              31|C46F7dUN4V8ihdlSO...|Q9mA60HnY87C1TW5k...|h4TAD6XdMezDg0jQO...|2015 could be our...|            4.5|              1|                 5.0|                  11|                 3|                   9| 424.72727272727275|\n",
      "| 485|The Princess of W...|              46|KEY-gRZBoj8eO9jPY...|Q9mA60HnY87C1TW5k...|AcUn6QvV3QnqO9ond...|Last night I saw ...|            4.0|              1|                 5.0|                   2|                 2|                   3| 424.72727272727275|\n",
      "| 494|Hyatt Regency Tor...|              79|xLifcMUnjA8cVB8AN...|Q9mA60HnY87C1TW5k...|yArjfzDd55xO0vTwJ...|I stayed here one...|            3.5|              1|                 4.0|                   4|                 4|                   5| 424.72727272727275|\n",
      "| 495|Urban Acorn Catering|              10|LYuY6kXhZzFtxR51e...|Q9mA60HnY87C1TW5k...|0PiwfyWN5WODpgQuk...|My mind just near...|            4.5|              1|                 5.0|                   6|                 0|                   5| 424.72727272727275|\n",
      "| 502| Triple M Accounting|               8|zsDR8jQrBFonhXPYa...|Q9mA60HnY87C1TW5k...|B8_IXOMexkbdyIF7J...|I've needed a pro...|            4.5|              1|                 5.0|                   2|                 0|                   0| 424.72727272727275|\n",
      "| 516|Enterprise Rent-A...|               5|VgBaojouH9sJThnyy...|Q9mA60HnY87C1TW5k...|lv5wOd59CjaiToWKJ...|A pretty serious ...|            5.0|              1|                 5.0|                   1|                 1|                   0| 424.72727272727275|\n",
      "| 517|            Pet Valu|              11|0c7p8fyiZP31gJJgd...|Q9mA60HnY87C1TW5k...|XyO_NNWlnJINaK2fs...|If I were a dog t...|            4.0|              1|                 5.0|                   3|                 5|                   6| 424.72727272727275|\n",
      "| 518|           Airship37|               3|oPkfgVr_gNczmZMFr...|Q9mA60HnY87C1TW5k...|dnp3V7ARnB9B8iHlX...|I've been to two ...|            4.5|              1|                 5.0|                  10|                 4|                  11| 424.72727272727275|\n",
      "| 531|         Canada Post|               3|KMRN-gUi2A42GHvsF...|Q9mA60HnY87C1TW5k...|htI0U7c5T_jLtvkX7...|I think often tim...|            3.0|              1|                 5.0|                  12|                 5|                   7| 424.72727272727275|\n",
      "| 538|                VdeV|               3|9fIGm1QupHl2NdekQ...|Q9mA60HnY87C1TW5k...|bOmxZtQNPoeZi34Gl...|Oh hello VdeV, we...|            4.0|              1|                 4.0|                  15|                 7|                  11| 424.72727272727275|\n",
      "| 547|The Gym at 99 Sud...|              13|1tZzp8_UcB-h38RtG...|Q9mA60HnY87C1TW5k...|T2bEd5OxxTGNR9p5G...|Before I begin th...|            3.0|              1|                 5.0|                   0|                 0|                   0| 424.72727272727275|\n",
      "| 559|Trump Internation...|              55|HToSpEtu0pxzcRuaI...|Q9mA60HnY87C1TW5k...|4OrTslmClsUsQ8Psv...|Spoiled girl aler...|            4.5|              1|                 5.0|                   8|                 2|                  10| 424.72727272727275|\n",
      "| 604|  Hart House Theatre|               8|l9ABoPi9j_pH9588t...|Q9mA60HnY87C1TW5k...|lgzxdXThcSxlH5UVa...|Hart House Theatr...|            4.0|              1|                 5.0|                   5|                 3|                   5| 424.72727272727275|\n",
      "| 606|           Pizza Hut|               3|5ZQmIhBVOelUScK9U...|Q9mA60HnY87C1TW5k...|QiQlUN1Y51aG_gtuI...|This just in! Thi...|            2.5|              1|                 4.0|                   0|                 3|                   0| 424.72727272727275|\n",
      "| 608|Lowe's Toronto Ch...|              64|ZjivUlBDO-LblMIdQ...|Q9mA60HnY87C1TW5k...|Jl7jutZuj7l4HRvWo...|Alright, Santa Ba...|            3.5|              1|                 4.0|                   3|                 1|                   5| 424.72727272727275|\n",
      "| 615|              Barre3|              24|WdkbR9X-xWX3e1COX...|Q9mA60HnY87C1TW5k...|mCFuZ744BUVe0vbre...|Once upon a time ...|            4.5|              1|                 5.0|                   6|                 4|                   6| 424.72727272727275|\n",
      "| 628|Cineplex Odeon Va...|              83|PNiH-BJRo2STl6bd5...|Q9mA60HnY87C1TW5k...|x7np-6-5rBEPr7Ifx...|I love to go to t...|            3.0|              1|                 4.0|                   4|                 4|                   5| 424.72727272727275|\n",
      "| 666|  Scotiabank Theatre|             120|B7crzLt3Cmq2Uy3JO...|Q9mA60HnY87C1TW5k...|4eo56QQIWOmqxbZZQ...|I use Scotiabank ...|            3.5|              1|                 4.0|                  13|                 6|                  12| 424.72727272727275|\n",
      "| 668|  Chestnut Residence|               7|4nct8XhcC1Px7En-O...|Q9mA60HnY87C1TW5k...|JaM7PFYOCd8EgeiTP...|Formerly The Colo...|            2.5|              1|                 4.0|                   0|                 0|                   1| 424.72727272727275|\n",
      "| 685|       Anouk Jewelry|               3|QV-01NzTQk3LfI2tP...|Q9mA60HnY87C1TW5k...|Ixf13Kl3P3VHvR_cs...|If there was a ma...|            5.0|              1|                 5.0|                   6|                 0|                   2| 424.72727272727275|\n",
      "| 689|East Liberty Medi...|              37|jSm10odmxWoEs0l2C...|Q9mA60HnY87C1TW5k...|pXSRLuedT7lZHVIh5...|Apparently when y...|            2.5|              1|                 5.0|                   2|                 4|                   1| 424.72727272727275|\n",
      "| 696|            CN Tower|             460|-9dmhyBvepc08KPEH...|Q9mA60HnY87C1TW5k...|jybPDIrV6qPw-C6iq...|At the ripe age o...|            4.0|              1|                 4.0|                   6|                 5|                   6| 424.72727272727275|\n",
      "| 712|  Cloud Care Clinics|              28|7jEs2CVAKu6AhTGi0...|Q9mA60HnY87C1TW5k...|ayZwzkM13ow6ogl_6...|I found my family...|            3.5|              1|                 5.0|                   2|                 0|                   2| 424.72727272727275|\n",
      "| 719|Paul Hillier Phot...|              10|maS4-kCcNIhBG3EZc...|Q9mA60HnY87C1TW5k...|CTxaQ2-84H94F3BjW...|I've worked with ...|            4.0|              1|                 5.0|                   3|                 1|                   4| 424.72727272727275|\n",
      "| 726|  192 Airport Rocket|              15|15tpk1N3mU9iyjsFp...|Q9mA60HnY87C1TW5k...|9XeO4-lBcZIvFYw5h...|I'm giving the ai...|            4.0|              1|                 5.0|                   4|                 2|                   6| 424.72727272727275|\n",
      "| 733|       Union Station|              82|Sg2l7S_huzkRLmk2N...|Q9mA60HnY87C1TW5k...|iUqaGHj7qmqwPYvnK...|I love old city c...|            3.5|              1|                 4.0|                   0|                 2|                   4| 424.72727272727275|\n",
      "| 749|The Fairmont Roya...|             159|e2r5_zNwNu4kVBnpF...|Q9mA60HnY87C1TW5k...|-QmuIQAr1gMgWIiCX...|In years gone by,...|            3.5|              1|                 4.0|                   8|                 3|                   8| 424.72727272727275|\n",
      "| 769|Toronto Raptors B...|              12|0C2rCyby1NpNVyhTV...|Q9mA60HnY87C1TW5k...|u-xcFpdqQ2GB2fB6H...|#wethenorth\n",
      "\n",
      "OK. ...|            2.5|              1|                 4.0|                   1|                 1|                   1| 424.72727272727275|\n",
      "| 774|Rinx Entertainmen...|              17|2sslQMFDlzk2yMcRG...|Q9mA60HnY87C1TW5k...|s62lQ91qIrOfC-VRX...|I've worked with ...|            3.0|              1|                 5.0|                   7|                 2|                   7| 424.72727272727275|\n",
      "| 784|Scadding Court Co...|               6|vaA4LvE8N18KLYLag...|Q9mA60HnY87C1TW5k...|sDAD-Hg59iGCXEjyX...|I'm sitting here ...|            3.5|              1|                 4.0|                   1|                 1|                   2| 424.72727272727275|\n",
      "| 802|Orphan's Greenspa...|               4|0cG8w7jxNAnkX8duZ...|Q9mA60HnY87C1TW5k...|B42DLushwdPckYGaq...|Today was the gre...|            4.0|              1|                 4.0|                   4|                 1|                   4| 424.72727272727275|\n",
      "| 822|   Old Faithful Shop|               3|-SlPWO0rh7mOUtAWo...|Q9mA60HnY87C1TW5k...|HsEmefIJoZsBr0AAF...|Picture your favo...|            4.5|              1|                 4.0|                   8|                 3|                   7| 424.72727272727275|\n",
      "| 860|   Dentists on Bloor|              14|I6suYpV7mM39v_M65...|Q9mA60HnY87C1TW5k...|gev3kbl5sHUIJjF-s...|Today I went to t...|            4.5|              1|                 5.0|                   3|                 3|                   8| 424.72727272727275|\n",
      "| 861|    63 Ossington Bus|               9|yGgpH8mY8INpGLq9a...|Q9mA60HnY87C1TW5k...|fX0GTrpzNhE_1G8BS...|In general I will...|            4.0|              1|                 4.0|                   1|                 4|                   0| 424.72727272727275|\n",
      "| 879|       River Gambler|               8|EwjOe8ITjL71_xG6v...|Q9mA60HnY87C1TW5k...|Ops9fIMy7_0q5yL82...|Ahoy. \n",
      "\n",
      "I'm serio...|            4.5|              1|                 5.0|                   4|                 3|                   3| 424.72727272727275|\n",
      "| 904|     In & Out Moving|              63|1L_bnL4xm-Z05k_kx...|Q9mA60HnY87C1TW5k...|i0z7CZmQ6Xb4ub176...|Holy crow! I'm wi...|            4.5|              1|                 5.0|                   5|                 1|                   9| 424.72727272727275|\n",
      "| 950|Wine Rack - Hones...|               9|OIKp-6ObAd-yW-32U...|Q9mA60HnY87C1TW5k...|42neF2DgOU19I8Kmd...|This is the kinde...|            4.0|              1|                 4.0|                   5|                 3|                   3| 424.72727272727275|\n",
      "| 953|    Daniel et Daniel|              25|adhkOgwEuG_FYctq5...|Q9mA60HnY87C1TW5k...|bzxxt0Mun4wJbsdTE...|Imma fanna Danna ...|            4.0|              1|                 5.0|                   1|                 2|                   3| 424.72727272727275|\n",
      "| 956|          Bell World|               7|asetoBy9YP86ZWAcD...|Q9mA60HnY87C1TW5k...|OGFfV6gR2-B2sNF3a...|Sometimes Bell th...|            2.5|              1|                 5.0|                   1|                 3|                   1| 424.72727272727275|\n",
      "| 957|            Pet Valu|              10|KmSuAocxakOl-zkkD...|Q9mA60HnY87C1TW5k...|4lsdNZoRmGmhF9vSZ...|I know a pug who ...|            4.5|              1|                 4.0|                   3|                 4|                   4| 424.72727272727275|\n",
      "| 968|Village Family He...|              19|rhdMlNeDd5BN1Ou2E...|Q9mA60HnY87C1TW5k...|-nCNLWepIKV7yELs7...|I was cruising Ye...|            3.0|              1|                 5.0|                   6|                 2|                   3| 424.72727272727275|\n",
      "| 998|          Go Transit|              36|kVEQoRHbbmcUb0FMt...|Q9mA60HnY87C1TW5k...|m3nPuEG4Nu2FYyQ7Y...|I'm bumping my st...|            3.0|              1|                 4.0|                   3|                 1|                   5| 424.72727272727275|\n",
      "|1000|      Hôtel Nelligan|              62|spfVKWaZYdJkwHXSw...|Q9mA60HnY87C1TW5k...|bTt7px7iJNv7Q6xgQ...|I'm fresh off of ...|            4.5|              1|                 5.0|                   8|                 1|                   5| 424.72727272727275|\n",
      "|1002|        Blinds To Go|               4|daIxv4XqdmUW6SeJO...|Q9mA60HnY87C1TW5k...|E-mtJDuDztdDwniQC...|My house has fros...|            4.0|              1|                 5.0|                  11|                 5|                   8| 424.72727272727275|\n",
      "|1005|  504 King Streetcar|              20|eEp7GR7EcUt6XCs8K...|Q9mA60HnY87C1TW5k...|ctJsGVtX1XidJGKZh...|I spend way more ...|            3.0|              1|                 4.0|                   2|                 1|                   0| 424.72727272727275|\n",
      "|1008|Billy Bishop Toro...|             145|p_KC8_d_MQnfJwgzm...|Q9mA60HnY87C1TW5k...|qXHthXeq5dTlniKXa...|Flying out of Bil...|            4.0|              1|                 4.0|                   1|                 0|                   3| 424.72727272727275|\n",
      "|1034|Woodbine Hotel An...|              14|fJO7rAAd_81a6LAqj...|Q9mA60HnY87C1TW5k...|bJNOzE1wpe26mPmtK...|Oh man guys. \n",
      "\n",
      "So...|            2.5|              1|                 4.0|                   7|                 7|                   6| 424.72727272727275|\n",
      "|1041|Omni William Penn...|             198|TAB_NFD7pjjouJUlC...|Q9mA60HnY87C1TW5k...|KPsa80PiA-lKaTyEZ...|After paying a li...|            4.0|              1|                 4.0|                   1|                 3|                   2| 424.72727272727275|\n",
      "|1048|      ServiceOntario|              28|tj5U7HPhndTKMvHbb...|Q9mA60HnY87C1TW5k...|zveIFDUwZy4FdezIt...|I'm not a life ha...|            4.0|              1|                 4.0|                   1|                 1|                   1| 424.72727272727275|\n",
      "|1051|Cabbagetown Pet C...|              10|PV1oXOI6U30D0DRaD...|Q9mA60HnY87C1TW5k...|X1uTogM6lwbK4_RGv...|I just returned f...|            4.0|              1|                 5.0|                   2|                 1|                   2| 424.72727272727275|\n",
      "|1055|              Lhotel|              36|vgVQFufjuqDaHj19n...|Q9mA60HnY87C1TW5k...|1LhdFwRUAKDMM2zZT...|Bonjour mes amies...|            4.5|              1|                 4.0|                   3|                 1|                   1| 424.72727272727275|\n",
      "|1094|  'validated': False| 'street': False|dGu3jGAYoxG1fIZrY...| 'GoodForKids: True'| \"\"GoodForMeal: {...|  'latenight': False|   'lot': False|              1|      'lunch': False|  'breakfast': False| 'valet': False}\"\"|     'dinner': False|               null|\n",
      "|1126|Nortown Meats & S...|               4|MuDmP50gdV_NYSP2T...|MbBhClrXyu8-Mk5wW...|UsOnw2jh-p5ymm4w6...|Great fresh meat....|            3.5|              1|                 4.0|                   1|                 0|                   1|  16.09090909090909|\n",
      "|1147|     Extreme Fitness|              11|NgkIOCNwgEuF740lf...|MbBhClrXyu8-Mk5wW...|l99Kiaa6v9oJM0BCc...|I was a member he...|            2.5|              1|                 4.0|                   2|                 2|                   2|  16.09090909090909|\n",
      "|1157|  'validated': False| 'street': False|WLEZLUDR8IbSHFBOk...|      'Caters: True'| 'GoodForKids: True'| 'OutdoorSeating:...|   'lot': False|              1| 'RestaurantsAtti...| 'RestaurantsGood...| 'valet': False}\"\"| 'RestaurantsDeli...|               null|\n",
      "|1200|         Heinz Field|             120|4RNBXjX2kTwpawbmD...|MbBhClrXyu8-Mk5wW...|r8NtFAMzpK56rHL9U...|New stadium. Outd...|            4.5|              1|                 5.0|                   1|                 0|                   1|  16.09090909090909|\n",
      "|1209|   Bridge and Bardot|               3|XlhTovG_AP59XLGBm...|Zk95TMXDx0zMUhYq5...|FZ4rOGUGv2PoWM7Hf...|Cute stuff at aff...|            3.5|              1|                 4.0|                   0|                 0|                   1|  4.636363636363637|\n",
      "+----+--------------------+----------------+--------------------+--------------------+--------------------+--------------------+---------------+---------------+--------------------+--------------------+------------------+--------------------+-------------------+\n",
      "only showing top 100 rows\n",
      "\n"
     ]
    }
   ],
   "source": [
    "df_all.show(100)"
   ]
  },
  {
   "cell_type": "code",
   "execution_count": 122,
   "metadata": {
    "collapsed": false
   },
   "outputs": [
    {
     "data": {
      "text/plain": [
       "1177678"
      ]
     },
     "execution_count": 122,
     "metadata": {},
     "output_type": "execute_result"
    }
   ],
   "source": [
    "df_all.count()"
   ]
  },
  {
   "cell_type": "markdown",
   "metadata": {},
   "source": [
    "## Step: Tokenize the reviews text"
   ]
  },
  {
   "cell_type": "code",
   "execution_count": 15,
   "metadata": {
    "collapsed": true
   },
   "outputs": [],
   "source": [
    "from pyspark.ml.feature import Tokenizer"
   ]
  },
  {
   "cell_type": "code",
   "execution_count": 16,
   "metadata": {
    "collapsed": true
   },
   "outputs": [],
   "source": [
    "df_token=tokenizer = Tokenizer().setInputCol('text').setOutputCol('words')"
   ]
  },
  {
   "cell_type": "code",
   "execution_count": 17,
   "metadata": {
    "collapsed": true
   },
   "outputs": [],
   "source": [
    "df_token = df_all.na.drop(subset=[\"text\"]) # Remove rows with NULL in column 'content'\n",
    "df_token=tokenizer.transform(df_token)"
   ]
  },
  {
   "cell_type": "code",
   "execution_count": 18,
   "metadata": {
    "collapsed": false,
    "scrolled": true
   },
   "outputs": [
    {
     "name": "stdout",
     "output_type": "stream",
     "text": [
      "root\n",
      " |-- _c0: string (nullable = true)\n",
      " |-- name: string (nullable = true)\n",
      " |-- review_count: string (nullable = true)\n",
      " |-- business_id: string (nullable = true)\n",
      " |-- user_id: string (nullable = true)\n",
      " |-- review_id: string (nullable = true)\n",
      " |-- text: string (nullable = true)\n",
      " |-- business_rating: string (nullable = true)\n",
      " |-- review_rating_f: integer (nullable = true)\n",
      " |-- review_rating: string (nullable = true)\n",
      " |-- cool: string (nullable = true)\n",
      " |-- funny: string (nullable = true)\n",
      " |-- useful: string (nullable = true)\n",
      " |-- compliment_average: double (nullable = true)\n",
      " |-- words: array (nullable = true)\n",
      " |    |-- element: string (containsNull = true)\n",
      "\n"
     ]
    }
   ],
   "source": [
    "df_token.printSchema()"
   ]
  },
  {
   "cell_type": "markdown",
   "metadata": {},
   "source": [
    "## Step: Vectorize the review tokens/words"
   ]
  },
  {
   "cell_type": "code",
   "execution_count": 19,
   "metadata": {
    "collapsed": true
   },
   "outputs": [],
   "source": [
    "from pyspark.ml.feature import CountVectorizer"
   ]
  },
  {
   "cell_type": "code",
   "execution_count": 20,
   "metadata": {
    "collapsed": true
   },
   "outputs": [],
   "source": [
    "count_vectorizer_estimator = CountVectorizer(inputCol='words', outputCol='features')"
   ]
  },
  {
   "cell_type": "code",
   "execution_count": 21,
   "metadata": {
    "collapsed": true
   },
   "outputs": [],
   "source": [
    "count_vectorizer_transformer = count_vectorizer_estimator.fit(df_token)"
   ]
  },
  {
   "cell_type": "code",
   "execution_count": 22,
   "metadata": {
    "collapsed": false,
    "scrolled": true
   },
   "outputs": [
    {
     "name": "stdout",
     "output_type": "stream",
     "text": [
      "+---+--------------------+----------------+--------------------+--------------------+--------------------+--------------------+---------------+---------------+-------------+----+------------------+-----------------+-------------------+--------------------+--------------------+\n",
      "|_c0|                name|    review_count|         business_id|             user_id|           review_id|                text|business_rating|review_rating_f|review_rating|cool|             funny|           useful| compliment_average|               words|            features|\n",
      "+---+--------------------+----------------+--------------------+--------------------+--------------------+--------------------+---------------+---------------+-------------+----+------------------+-----------------+-------------------+--------------------+--------------------+\n",
      "|  9|Sting Alarm Las V...|              14|XqDeiaPSG0-fBbOXD...|efaUGV60LFI4v6bWP...|xqFpx6FkEpjow6JAh...|John the director...|            3.5|              1|          5.0|   1|                 1|                1|                0.0|[john, the, direc...|(262144,[0,3,7,11...|\n",
      "| 14| Design One Printing|              21|zC7ldegnDoXg-Wln5...|efaUGV60LFI4v6bWP...|fpq7iwxvRdG9vssv0...|Nar and all the p...|            5.0|              1|          5.0|   0|                 0|                0|                0.0|[nar, and, all, t...|(262144,[0,1,3,4,...|\n",
      "| 17|  Oreilys Auto Parts|               3|O7RMINvCcGVNTMlD7...|efaUGV60LFI4v6bWP...|jDOVgU7ICogRtpLrX...|Thanks to Soubi w...|            4.5|              1|          5.0|   0|                 0|                0|                0.0|[thanks, to, soub...|(262144,[1,3,8,10...|\n",
      "| 42|Arizona Strong Be...|              13|oYwLxROH5RihyFxrd...|hPHsKqUwO_RKJNxkB...|NEP1fCrzA7i50c875...|My Wife and I hav...|            4.5|              1|          4.0|   0|                 0|                0|0.09090909090909091|[my, wife, and, i...|(262144,[0,1,2,3,...|\n",
      "| 51|Yelp's Secret Cin...|              38|MCX_cBs_LUqzuUzd-...|YEiJOtOBBRKEpRuvZ...|2bk0aJ_6Tq87K8WaZ...|This was my first...|            5.0|              1|          4.0|   1|                 0|                0| 13.818181818181818|[this, was, my, f...|(262144,[0,1,2,3,...|\n",
      "| 54|Sonoran Wellness ...|               7|zOqJqDlWT0CF986D0...|YEiJOtOBBRKEpRuvZ...|SNSNuk3Wj7YDSXLQi...|I used to visit t...|            4.0|              1|          5.0|   0|                 1|                0| 13.818181818181818|[i, used, to, vis...|(262144,[0,1,2,3,...|\n",
      "| 60|A 1 Minute Key Se...|             238|po-05-AGCVxEme-Sb...|YEiJOtOBBRKEpRuvZ...|u8o4tuv7o7nnrwWyi...|Jeff is a top-not...|            5.0|              1|          5.0|   0|                 1|                1| 13.818181818181818|[jeff, is, a, top...|(262144,[0,1,2,3,...|\n",
      "| 62|Sarang Natural Me...|               5|Lh03t7LM7R8uKpgyv...|YEiJOtOBBRKEpRuvZ...|mry4Y8tz87Guv-M1Y...|Dr. Lee is a wond...|            5.0|              1|          5.0|   1|                 1|                1| 13.818181818181818|[dr., lee, is, a,...|(262144,[1,2,3,5,...|\n",
      "| 86|  'validated': False| 'street': False|0DI8Dt2PJp07XkVvI...| 'DogsAllowed: Fa...| 'RestaurantsPric...| 'WheelchairAcces...|    'lot': True|              1|           17| 4.5| 'valet': False}\"\"|Innovative Vapors|               null|[, 'wheelchairacc...|(262144,[2,68,83]...|\n",
      "| 93|  'validated': False| 'street': False|DlS2X40L4KywtwO4Y...| 'RestaurantsPric...| 'RestaurantsTake...|        'WiFi: no']\"|   'lot': False|              1|           13| 5.0| 'valet': False}\"\"|    Water and Ice|               null|   [, 'wifi:, no']\"]|(262144,[2,534,98...|\n",
      "|103|Michael W Zacher,...|               7|Sbv16xQcM_DFLv3eh...|1-eTooyYzRvnSrfwL...|DVvLxskv7drqo3I1a...|Rewind 7 years ag...|            4.5|              1|          5.0|   0|                 0|                0| 0.2727272727272727|[rewind, 7, years...|(262144,[0,1,2,3,...|\n",
      "|108|    Kosmo's Doghouse|              39|wMsy-LOjrpSg-tbnl...|1-eTooyYzRvnSrfwL...|5vBAkJY8eR5-oZpE6...|Recently returned...|            4.5|              1|          5.0|   0|                 0|                2| 0.2727272727272727|[recently, return...|(262144,[0,1,2,3,...|\n",
      "|117|       Cut and Taste|               9|LTlCaCGZE14GuaUXU...|OELlLQMDC3xk0hw5d...|A8qfpn5a5nPcIuE26...|There aren't enou...|            5.0|              1|          5.0|   0|                 0|                0|                0.0|[there, aren't, e...|(262144,[0,1,3,5,...|\n",
      "|123|Barking Dogs Self...|             185|IVKVk7ZAPdQi6S40U...|OELlLQMDC3xk0hw5d...|tWaJ7k7Zw_mWUUnrg...|I just washed my ...|            4.5|              1|          5.0|   0|                 0|                0|                0.0|[i, just, washed,...|(262144,[0,1,3,4,...|\n",
      "|125|Best In Show Dog ...|             133|HZrvNH7VTHUDcYqwF...|OELlLQMDC3xk0hw5d...|0Xw0xqgYJNBpI9Ln2...|Ive brought my do...|            4.0|              1|          5.0|   1|                 1|                3|                0.0|[ive, brought, my...|(262144,[0,1,3,4,...|\n",
      "|126|       Cut and Taste|               9|LTlCaCGZE14GuaUXU...|lNJaqRXRpHuOHPgPi...|X1SXw2-MFA9rdLVg2...|Cut & Taste cater...|            5.0|              1|          5.0|   0|                 0|                2|                0.0|[cut, &, taste, c...|(262144,[0,1,3,5,...|\n",
      "|127|       Cut and Taste|               9|LTlCaCGZE14GuaUXU...|Nt_jTjBiwf_SzULAl...|7w2wpLM3qb9A2MVl2...|Cut and Taste is ...|            5.0|              1|          5.0|   1|                 0|                0|                0.0|[cut, and, taste,...|(262144,[0,1,2,3,...|\n",
      "|128|      Liquid Courage|               8|RCmF00iDVG2yOOXFe...|Nt_jTjBiwf_SzULAl...|SWz5RI4XaPCYOovc2...|Liquid Courage pr...|            5.0|              1|          5.0|   0|                 0|                0|                0.0|[liquid, courage,...|(262144,[0,1,2,3,...|\n",
      "|129|  RSVP Party Rentals|              22|1uwlVWxwGU248Jayv...|Nt_jTjBiwf_SzULAl...|Vg9eiXqoXQOevMKBM...|We needed to rent...|            4.5|              1|          5.0|   0|                 0|                0|                0.0|[we, needed, to, ...|(262144,[0,1,2,3,...|\n",
      "|130|       Cut and Taste|               9|LTlCaCGZE14GuaUXU...|Aw_UhDd-3IDCPu9yb...|GQ1jLKw8VAoTr5YTE...|Cut and Taste is ...|            5.0|              1|          5.0|   0|                 0|                0|0.36363636363636365|[cut, and, taste,...|(262144,[0,1,2,3,...|\n",
      "+---+--------------------+----------------+--------------------+--------------------+--------------------+--------------------+---------------+---------------+-------------+----+------------------+-----------------+-------------------+--------------------+--------------------+\n",
      "only showing top 20 rows\n",
      "\n"
     ]
    }
   ],
   "source": [
    "count_vectorizer_transformer.transform(df_token).show()"
   ]
  },
  {
   "cell_type": "code",
   "execution_count": 23,
   "metadata": {
    "collapsed": true
   },
   "outputs": [
    {
     "data": {
      "text/plain": [
       "['the',\n",
       " 'and',\n",
       " '',\n",
       " 'to',\n",
       " 'i',\n",
       " 'a',\n",
       " 'was',\n",
       " 'of',\n",
       " 'in',\n",
       " 'for',\n",
       " 'my',\n",
       " 'is',\n",
       " 'they',\n",
       " 'it',\n",
       " 'that',\n",
       " 'with',\n",
       " 'you',\n",
       " 'this',\n",
       " 'we',\n",
       " 'on',\n",
       " 'have',\n",
       " 'at',\n",
       " 'but',\n",
       " 'not',\n",
       " 'had',\n",
       " 'are',\n",
       " 'me',\n",
       " 'so',\n",
       " 'were',\n",
       " 'very',\n",
       " 'be',\n",
       " 'he',\n",
       " 'as',\n",
       " 'all',\n",
       " 'if',\n",
       " 'from',\n",
       " 'our',\n",
       " 'would',\n",
       " 'there',\n",
       " 'get',\n",
       " 'an',\n",
       " 'when',\n",
       " 'out',\n",
       " 'great',\n",
       " 'up',\n",
       " 'just',\n",
       " 'about',\n",
       " 'one',\n",
       " 'time',\n",
       " 'will',\n",
       " 'their',\n",
       " 'or',\n",
       " 'no',\n",
       " 'like',\n",
       " 'your',\n",
       " 'been',\n",
       " 'what',\n",
       " 'them',\n",
       " 'she',\n",
       " 'do',\n",
       " 'service',\n",
       " 'here',\n",
       " 'place',\n",
       " 'only',\n",
       " \"it's\",\n",
       " 'back',\n",
       " 'even',\n",
       " 'good',\n",
       " \"'wheelchairaccessible:\",\n",
       " 'car',\n",
       " 'after',\n",
       " 'go',\n",
       " 'by',\n",
       " 'can',\n",
       " 'did',\n",
       " 'really',\n",
       " 'room',\n",
       " 'because',\n",
       " 'has',\n",
       " 'other',\n",
       " 'got',\n",
       " 'some',\n",
       " 'which',\n",
       " 'true\\']\"',\n",
       " 'us',\n",
       " 'more',\n",
       " 'his',\n",
       " 'also',\n",
       " \"don't\",\n",
       " 'never',\n",
       " 'staff',\n",
       " 'could',\n",
       " 'her',\n",
       " 'than',\n",
       " \"didn't\",\n",
       " 'recommend',\n",
       " 'always',\n",
       " '-',\n",
       " 'went',\n",
       " 'who',\n",
       " 'over',\n",
       " 'first',\n",
       " 'nice',\n",
       " 'new',\n",
       " 'work',\n",
       " 'any',\n",
       " 'hotel',\n",
       " 'told',\n",
       " \"i'm\",\n",
       " 'going',\n",
       " 'called',\n",
       " 'how',\n",
       " 'then',\n",
       " 'see',\n",
       " 'people',\n",
       " \"i've\",\n",
       " 'am',\n",
       " 'take',\n",
       " 'took',\n",
       " 'make',\n",
       " 'best',\n",
       " 'came',\n",
       " 'much',\n",
       " 'said',\n",
       " 'know',\n",
       " 'made',\n",
       " 'day',\n",
       " 'come',\n",
       " 'two',\n",
       " 'him',\n",
       " 'before',\n",
       " 'definitely',\n",
       " 'love',\n",
       " 'stay',\n",
       " 'off',\n",
       " 'well',\n",
       " 'customer',\n",
       " 'little',\n",
       " 'few',\n",
       " 'every',\n",
       " 'it.',\n",
       " 'need',\n",
       " 'call',\n",
       " 'experience',\n",
       " '2',\n",
       " 'into',\n",
       " 'another',\n",
       " 'next',\n",
       " 'still',\n",
       " 'way',\n",
       " 'right',\n",
       " 'friendly',\n",
       " \"'restaurantspricerange2:\",\n",
       " '&',\n",
       " 'want',\n",
       " 'give',\n",
       " 'care',\n",
       " 'since',\n",
       " \"true'\",\n",
       " 'sure',\n",
       " 'now',\n",
       " 'most',\n",
       " 'being',\n",
       " 'everything',\n",
       " 'around',\n",
       " 'check',\n",
       " 'say',\n",
       " 'these',\n",
       " 'where',\n",
       " 'while',\n",
       " 'highly',\n",
       " 'dr.',\n",
       " 'front',\n",
       " 'find',\n",
       " 'use',\n",
       " 'ever',\n",
       " 'company',\n",
       " 'many',\n",
       " 'through',\n",
       " 'found',\n",
       " 'feel',\n",
       " 'vegas',\n",
       " 'pretty',\n",
       " 'show',\n",
       " '3',\n",
       " 'down',\n",
       " 'last',\n",
       " 'done',\n",
       " 'clean',\n",
       " 'needed',\n",
       " 'better',\n",
       " 'price',\n",
       " 'lot',\n",
       " 'home',\n",
       " 'food',\n",
       " 'looking',\n",
       " 'again',\n",
       " 'job',\n",
       " 'office',\n",
       " 'think',\n",
       " 'asked',\n",
       " 'free',\n",
       " 'too',\n",
       " \"'restaurantstakeout:\",\n",
       " 'years',\n",
       " \"can't\",\n",
       " '5',\n",
       " 'able',\n",
       " 'rooms',\n",
       " 'gave',\n",
       " 'minutes',\n",
       " 'getting',\n",
       " 'same',\n",
       " 'long',\n",
       " 'look',\n",
       " 'things',\n",
       " 'times',\n",
       " 'used',\n",
       " 'wait',\n",
       " 'should',\n",
       " 'bad',\n",
       " 'wanted',\n",
       " \"wasn't\",\n",
       " 'pay',\n",
       " 'thank',\n",
       " 'business',\n",
       " 'night',\n",
       " 'service.',\n",
       " 'time.',\n",
       " 'happy',\n",
       " 'stayed',\n",
       " 'location',\n",
       " 'old',\n",
       " 'super',\n",
       " 'its',\n",
       " 'me.',\n",
       " 'put',\n",
       " 'left',\n",
       " 'amazing',\n",
       " 'pool',\n",
       " 'here.',\n",
       " 'having',\n",
       " 'both',\n",
       " 'phone',\n",
       " 'hours',\n",
       " 'big',\n",
       " \"you're\",\n",
       " 'area',\n",
       " 'help',\n",
       " '4',\n",
       " 'guys',\n",
       " 'different',\n",
       " 'dog',\n",
       " 'everyone',\n",
       " 'something',\n",
       " 'actually',\n",
       " 'without',\n",
       " 'try',\n",
       " 'someone',\n",
       " 'small',\n",
       " 'hour',\n",
       " 'during',\n",
       " 'money',\n",
       " 'tell',\n",
       " 'extremely',\n",
       " 'again.',\n",
       " 'family',\n",
       " 'worth',\n",
       " 'let',\n",
       " 'nothing',\n",
       " 'thing',\n",
       " 'bit',\n",
       " 'days',\n",
       " 'once',\n",
       " 'enough',\n",
       " 'professional',\n",
       " 'away',\n",
       " 'year',\n",
       " 'house',\n",
       " 'why',\n",
       " 'water',\n",
       " 'anyone',\n",
       " \"couldn't\",\n",
       " 'walk',\n",
       " 'several',\n",
       " 'such',\n",
       " 'appointment',\n",
       " 'easy',\n",
       " 'waiting',\n",
       " \"2'\",\n",
       " 'desk',\n",
       " 'them.',\n",
       " 'parking',\n",
       " \"that's\",\n",
       " 'until',\n",
       " 'far',\n",
       " 'guy',\n",
       " 'each',\n",
       " 'felt',\n",
       " 'thought',\n",
       " 'though',\n",
       " 'does',\n",
       " 'anything',\n",
       " 'less',\n",
       " 'couple',\n",
       " 'las',\n",
       " 'working',\n",
       " 'top',\n",
       " 'coming',\n",
       " 'keep',\n",
       " 'part',\n",
       " '10',\n",
       " 'problem',\n",
       " 'decided',\n",
       " 'excellent',\n",
       " 'thanks',\n",
       " 'within',\n",
       " 'door',\n",
       " 'whole',\n",
       " 'deal',\n",
       " 'helpful',\n",
       " 'ask',\n",
       " 'person',\n",
       " 'kind',\n",
       " 'hard',\n",
       " 'extra',\n",
       " 'full',\n",
       " 'looked',\n",
       " 'awesome',\n",
       " 'shop',\n",
       " 'line',\n",
       " 'there.',\n",
       " 'review',\n",
       " 'close',\n",
       " 'almost',\n",
       " 'later',\n",
       " 'out.',\n",
       " 'paid',\n",
       " 'absolutely',\n",
       " 'place.',\n",
       " 'prices',\n",
       " 'quality',\n",
       " 'tried',\n",
       " 'end',\n",
       " 'those',\n",
       " 'casino',\n",
       " 'doing',\n",
       " 'visit',\n",
       " 'quick',\n",
       " 'charge',\n",
       " 'second',\n",
       " 'week',\n",
       " 'three',\n",
       " 'manager',\n",
       " 'trying',\n",
       " 'well.',\n",
       " \"doesn't\",\n",
       " 'worked',\n",
       " '.',\n",
       " 'seen',\n",
       " \"wouldn't\",\n",
       " 'finally',\n",
       " 'entire',\n",
       " 'fun',\n",
       " 'high',\n",
       " 'taking',\n",
       " 'received',\n",
       " 'room.',\n",
       " 'store',\n",
       " 'loved',\n",
       " 'quite',\n",
       " 'reviews',\n",
       " 'saw',\n",
       " 'months',\n",
       " 'strip',\n",
       " \"i'd\",\n",
       " 'moved',\n",
       " 'probably',\n",
       " 'comfortable',\n",
       " 'great.',\n",
       " 'kids',\n",
       " 'change',\n",
       " 'stars',\n",
       " 'fix',\n",
       " 'experience.',\n",
       " 'pick',\n",
       " 'least',\n",
       " 'own',\n",
       " 'husband',\n",
       " 'open',\n",
       " 'huge',\n",
       " 'helped',\n",
       " 'bring',\n",
       " 'buy',\n",
       " 'worst',\n",
       " 'friends',\n",
       " 'day.',\n",
       " 'beautiful',\n",
       " '1',\n",
       " 'floor',\n",
       " \"won't\",\n",
       " 'oil',\n",
       " 'in.',\n",
       " 'move',\n",
       " 'making',\n",
       " 'started',\n",
       " 'drive',\n",
       " \"there's\",\n",
       " 'back.',\n",
       " 'set',\n",
       " 'may',\n",
       " 'showed',\n",
       " 'makes',\n",
       " 'cost',\n",
       " 'else',\n",
       " 'wonderful',\n",
       " 'arrived',\n",
       " 'walked',\n",
       " 'large',\n",
       " 'taken',\n",
       " 'needs',\n",
       " 'checked',\n",
       " 'half',\n",
       " 'star',\n",
       " '6',\n",
       " 'leave',\n",
       " 'already',\n",
       " 'bed',\n",
       " 'using',\n",
       " 'time,',\n",
       " 'especially',\n",
       " 'brought',\n",
       " 'due',\n",
       " 'repair',\n",
       " \"i'll\",\n",
       " 'up.',\n",
       " 'work.',\n",
       " 'doctor',\n",
       " 'fixed',\n",
       " 'however,',\n",
       " 'places',\n",
       " 'order',\n",
       " 'seemed',\n",
       " 'view',\n",
       " 'hotel.',\n",
       " 'insurance',\n",
       " 'past',\n",
       " 'kept',\n",
       " '30',\n",
       " 'live',\n",
       " 'staying',\n",
       " 'side',\n",
       " 'inside',\n",
       " 'under',\n",
       " 'looks',\n",
       " 'weeks',\n",
       " 'bought',\n",
       " 'car.',\n",
       " 'fast',\n",
       " 'hot',\n",
       " 'knew',\n",
       " 'run',\n",
       " 'cleaning',\n",
       " 'outside',\n",
       " 'morning',\n",
       " 'issues',\n",
       " 'airport',\n",
       " 'team',\n",
       " 'bathroom',\n",
       " 'lots',\n",
       " 'vegas.',\n",
       " 'air',\n",
       " 'issue',\n",
       " 'given',\n",
       " 'usually',\n",
       " 'owner',\n",
       " 'man',\n",
       " 'overall',\n",
       " 'trip',\n",
       " \"isn't\",\n",
       " 'wish',\n",
       " 'ended',\n",
       " 'it,',\n",
       " '20',\n",
       " 'sent',\n",
       " 'maybe',\n",
       " 'completely',\n",
       " '15',\n",
       " 'dogs',\n",
       " 'late',\n",
       " 'start',\n",
       " 'process',\n",
       " 'must',\n",
       " 'dr',\n",
       " 'explained',\n",
       " 'bar',\n",
       " 'friendly.',\n",
       " 'seems',\n",
       " 'walking',\n",
       " 'vehicle',\n",
       " 'services',\n",
       " 'false',\n",
       " 'plus',\n",
       " 'early',\n",
       " 'honest',\n",
       " 'recently',\n",
       " 'return',\n",
       " 'questions',\n",
       " 'today',\n",
       " 'und',\n",
       " 'offer',\n",
       " 'yelp',\n",
       " 'rude',\n",
       " 'real',\n",
       " 'service,',\n",
       " 'nice.',\n",
       " 'reasonable',\n",
       " 'charged',\n",
       " 'friendly,',\n",
       " 'might',\n",
       " 'moving',\n",
       " 'reason',\n",
       " 'too.',\n",
       " 'month',\n",
       " 'you.',\n",
       " 'offered',\n",
       " 'perfect',\n",
       " 'ready',\n",
       " 'truly',\n",
       " 'breakfast',\n",
       " 'me,',\n",
       " 'across',\n",
       " 'friend',\n",
       " \"they're\",\n",
       " \"'wifi:\",\n",
       " 'card',\n",
       " 'seem',\n",
       " 'believe',\n",
       " 'stop',\n",
       " 'instead',\n",
       " \"false'\",\n",
       " 'good.',\n",
       " 'above',\n",
       " 'glad',\n",
       " 'cars',\n",
       " 'name',\n",
       " 'die',\n",
       " 'job.',\n",
       " 'cool',\n",
       " 'wrong',\n",
       " 'spent',\n",
       " 'point',\n",
       " 'booked',\n",
       " 'enjoy',\n",
       " 'comes',\n",
       " 'price.',\n",
       " 'sales',\n",
       " 'takes',\n",
       " ',',\n",
       " 'short',\n",
       " 'enjoyed',\n",
       " 'rental',\n",
       " 'quickly',\n",
       " 'false\\']\"',\n",
       " 'horrible',\n",
       " 'clean,',\n",
       " 'fact',\n",
       " 'waited',\n",
       " 'wife',\n",
       " 'wash',\n",
       " 'lady',\n",
       " 'beyond',\n",
       " 'helpful.',\n",
       " 'expect',\n",
       " 'dentist',\n",
       " 'number',\n",
       " 'although',\n",
       " 'impressed',\n",
       " 'years.',\n",
       " 'talk',\n",
       " 'ago',\n",
       " 'town',\n",
       " 'credit',\n",
       " 'between',\n",
       " 'tire',\n",
       " 'that.',\n",
       " 'room,',\n",
       " 'wedding',\n",
       " 'all.',\n",
       " 'seats',\n",
       " 'park',\n",
       " 'us.',\n",
       " 'center',\n",
       " 'decent',\n",
       " 'hotels',\n",
       " 'recommended',\n",
       " 'patient',\n",
       " 'area.',\n",
       " 'here,',\n",
       " 'spend',\n",
       " 'done.',\n",
       " 'company.',\n",
       " 'pet',\n",
       " 'movie',\n",
       " 'home.',\n",
       " 'truck',\n",
       " 'dental',\n",
       " 'local',\n",
       " 'exactly',\n",
       " 'available',\n",
       " ':)',\n",
       " 'busy',\n",
       " 'guess',\n",
       " 'online',\n",
       " 'living',\n",
       " 'gets',\n",
       " 'options',\n",
       " 'located',\n",
       " 'plenty',\n",
       " 'staff.',\n",
       " 'totally',\n",
       " 'auto',\n",
       " 'employees',\n",
       " 'near',\n",
       " 'course',\n",
       " \"he's\",\n",
       " 'property',\n",
       " 'picked',\n",
       " 'strip.',\n",
       " 'stuff',\n",
       " 'watch',\n",
       " 'also,',\n",
       " 'cheap',\n",
       " 'understand',\n",
       " 'shower',\n",
       " 'street',\n",
       " 'life',\n",
       " 'amazing.',\n",
       " 'paying',\n",
       " 'favorite',\n",
       " '8',\n",
       " 'clean.',\n",
       " 'minute',\n",
       " 'turned',\n",
       " 'cleaned',\n",
       " 'play',\n",
       " 'weekend',\n",
       " 'party',\n",
       " 'fantastic',\n",
       " 'coffee',\n",
       " 'rather',\n",
       " 'in,',\n",
       " 'special',\n",
       " 'giving',\n",
       " 'on.',\n",
       " 'saying',\n",
       " 'mind',\n",
       " 'along',\n",
       " 'seeing',\n",
       " 'with.',\n",
       " 'upon',\n",
       " 'group',\n",
       " 'fair',\n",
       " 'security',\n",
       " 'hear',\n",
       " 'pain',\n",
       " 'read',\n",
       " 'amount',\n",
       " 'yet',\n",
       " 'treated',\n",
       " 'tour',\n",
       " 'however',\n",
       " 'heard',\n",
       " 'myself',\n",
       " 'again,',\n",
       " 'nice,',\n",
       " '2\\']\"',\n",
       " '7',\n",
       " 'light',\n",
       " 'expensive',\n",
       " 'knowledgeable',\n",
       " 'dealership',\n",
       " 'restaurant',\n",
       " 'resort',\n",
       " 'night.',\n",
       " 'professional,',\n",
       " 'cannot',\n",
       " 'show.',\n",
       " 'trust',\n",
       " 'management',\n",
       " 'purchased',\n",
       " 'carpet',\n",
       " 'music',\n",
       " 'tickets',\n",
       " 'vet',\n",
       " 'problems',\n",
       " 'etc.',\n",
       " 'class',\n",
       " 'son',\n",
       " 'gone',\n",
       " 'four',\n",
       " 'per',\n",
       " 'main',\n",
       " 'rent',\n",
       " 'minutes.',\n",
       " 'ordered',\n",
       " 'theater',\n",
       " 'running',\n",
       " 'system',\n",
       " 'professional.',\n",
       " 'bill',\n",
       " 'behind',\n",
       " 'hope',\n",
       " 'plan',\n",
       " 'provided',\n",
       " 'longer',\n",
       " 'tv',\n",
       " 'regular',\n",
       " 'book',\n",
       " 'city',\n",
       " 'buying',\n",
       " 'immediately',\n",
       " 'twice',\n",
       " 'flight',\n",
       " 'sign',\n",
       " 'customers',\n",
       " 'poor',\n",
       " 'sit',\n",
       " 'shows',\n",
       " 'it!',\n",
       " \"you'll\",\n",
       " 'fee',\n",
       " 'restaurants',\n",
       " 'anywhere',\n",
       " 'sell',\n",
       " 'scheduled',\n",
       " 'goes',\n",
       " 'please',\n",
       " 'pleasant',\n",
       " 'schedule',\n",
       " 'either',\n",
       " 'away.',\n",
       " 'others',\n",
       " 'apartment',\n",
       " 'calling',\n",
       " 'met',\n",
       " 'shuttle',\n",
       " 'liked',\n",
       " 'save',\n",
       " 'complete',\n",
       " 'daughter',\n",
       " 'pleased',\n",
       " 'spoke',\n",
       " 'great,',\n",
       " 'tires',\n",
       " 'there,',\n",
       " 'total',\n",
       " 'garage',\n",
       " 'purchase',\n",
       " '(i',\n",
       " 'multiple',\n",
       " 'lost',\n",
       " 'drinks',\n",
       " 'location.',\n",
       " 'forward',\n",
       " 'lobby',\n",
       " 'parts',\n",
       " 'noticed',\n",
       " 'replaced',\n",
       " 'one.',\n",
       " 'window',\n",
       " 'personal',\n",
       " 'driver',\n",
       " 'itself',\n",
       " 'to.',\n",
       " 'five',\n",
       " 'hair',\n",
       " 'maintenance',\n",
       " 'talking',\n",
       " 'including',\n",
       " 'rest',\n",
       " 'well,',\n",
       " \"1'\",\n",
       " 'ride',\n",
       " 'der',\n",
       " 'selection',\n",
       " 'terrible',\n",
       " 'changed',\n",
       " 'him.',\n",
       " 'eat',\n",
       " 'low',\n",
       " 'previous',\n",
       " 'checking',\n",
       " 'soon',\n",
       " 'great!',\n",
       " 'items',\n",
       " 'suite',\n",
       " 'email',\n",
       " 'way.',\n",
       " 'spot',\n",
       " \"haven't\",\n",
       " 'works',\n",
       " 'based',\n",
       " 'send',\n",
       " 'business.',\n",
       " '!',\n",
       " 'information',\n",
       " 'answer',\n",
       " 'fine',\n",
       " 'size',\n",
       " 'oh',\n",
       " 'sitting',\n",
       " 'school',\n",
       " 'out,',\n",
       " 'day,',\n",
       " 'answered',\n",
       " 'ac',\n",
       " 'middle',\n",
       " 'building',\n",
       " \"weren't\",\n",
       " 'type',\n",
       " 'now.',\n",
       " 'that,',\n",
       " 'appreciate',\n",
       " 'unit',\n",
       " 'rate',\n",
       " 'provide',\n",
       " 'future',\n",
       " 'cut',\n",
       " 'stopped',\n",
       " 'drink',\n",
       " 'brand',\n",
       " 'phoenix',\n",
       " 'pictures',\n",
       " 'quote',\n",
       " 'throughout',\n",
       " 'club',\n",
       " 'calls',\n",
       " 'unless',\n",
       " 'level',\n",
       " 'knows',\n",
       " 'hold',\n",
       " 'for.',\n",
       " 'additional',\n",
       " 'feeling',\n",
       " 'continue',\n",
       " 'turn',\n",
       " 'beds',\n",
       " 'warranty',\n",
       " 'replace',\n",
       " 'ok',\n",
       " 'contact',\n",
       " 'space',\n",
       " 'money.',\n",
       " 'avoid',\n",
       " 'overall,',\n",
       " 'screen',\n",
       " 'awesome.',\n",
       " 'saturday',\n",
       " 'crew',\n",
       " 'simply',\n",
       " 'service!',\n",
       " 'else.',\n",
       " 'people.',\n",
       " 'literally',\n",
       " 'broken',\n",
       " 'all,',\n",
       " '\"i',\n",
       " 'waste',\n",
       " 'disappointed',\n",
       " 'leaving',\n",
       " 'tech',\n",
       " 'dirty',\n",
       " 'asking',\n",
       " '(and',\n",
       " 'companies',\n",
       " 'attention',\n",
       " 'bus',\n",
       " 'do.',\n",
       " 'up,',\n",
       " 'buffet',\n",
       " 'table',\n",
       " 'choose',\n",
       " 'car,',\n",
       " '(which',\n",
       " 'das',\n",
       " 'event',\n",
       " 'off.',\n",
       " 'gym',\n",
       " 'speak',\n",
       " 'head',\n",
       " 'hours.',\n",
       " 'mention',\n",
       " 'fan',\n",
       " 'hand',\n",
       " \"we've\",\n",
       " 'driving',\n",
       " 'single',\n",
       " 'negative',\n",
       " 'explain',\n",
       " \"aren't\",\n",
       " 'problem.',\n",
       " 'treat',\n",
       " 'convenient',\n",
       " 'glass',\n",
       " '12',\n",
       " 'surprised',\n",
       " '24',\n",
       " 'girl',\n",
       " 'sometimes',\n",
       " 'doctors',\n",
       " 'needs.',\n",
       " 'idea',\n",
       " 'vegas,',\n",
       " 'often',\n",
       " 'discount',\n",
       " 'better.',\n",
       " 'willing',\n",
       " 'yourself',\n",
       " 'downtown',\n",
       " 'drove',\n",
       " 'internet',\n",
       " 'remember',\n",
       " '9',\n",
       " 'prior',\n",
       " 'again!',\n",
       " 'facility',\n",
       " 'true',\n",
       " 'simple',\n",
       " 'returned',\n",
       " 'positive',\n",
       " 'fresh',\n",
       " 'happened',\n",
       " 'major',\n",
       " 'informed',\n",
       " 'incredibly',\n",
       " 'case',\n",
       " 'somewhere',\n",
       " 'body',\n",
       " 'hit',\n",
       " 'hotel,',\n",
       " 'installed',\n",
       " 'follow',\n",
       " 'ticket',\n",
       " '--',\n",
       " 'says',\n",
       " 'so,',\n",
       " 'fit',\n",
       " 'drop',\n",
       " 'quoted',\n",
       " 'young',\n",
       " '45',\n",
       " 'house.',\n",
       " 'office.',\n",
       " 'im',\n",
       " 'medical',\n",
       " 'de',\n",
       " 'hospital',\n",
       " 'test',\n",
       " 'amazing!',\n",
       " 'comfortable.',\n",
       " 'supposed',\n",
       " 'counter',\n",
       " 'smell',\n",
       " 'write',\n",
       " 'hands',\n",
       " 'lived',\n",
       " 'times.',\n",
       " 'treatment',\n",
       " 'woman',\n",
       " 'seat',\n",
       " 'teeth',\n",
       " 'thorough',\n",
       " 'you,',\n",
       " 'did.',\n",
       " 'dropped',\n",
       " 'them,',\n",
       " 'ich',\n",
       " 'telling',\n",
       " 'lack',\n",
       " 'sweet',\n",
       " 'shopping',\n",
       " 'windows',\n",
       " 'expected',\n",
       " 'nights',\n",
       " 'no\\']\"',\n",
       " 'stay.',\n",
       " 'modern',\n",
       " 'cold',\n",
       " 'add',\n",
       " 'referred',\n",
       " 'gas',\n",
       " 'clear',\n",
       " 'cat',\n",
       " 'talked',\n",
       " 'closed',\n",
       " 'state',\n",
       " 'stand',\n",
       " 'work,',\n",
       " 'ist',\n",
       " ...]"
      ]
     },
     "execution_count": 23,
     "metadata": {},
     "output_type": "execute_result"
    }
   ],
   "source": [
    "count_vectorizer_transformer.vocabulary"
   ]
  },
  {
   "cell_type": "code",
   "execution_count": null,
   "metadata": {
    "collapsed": true
   },
   "outputs": [],
   "source": []
  },
  {
   "cell_type": "code",
   "execution_count": 24,
   "metadata": {
    "collapsed": true
   },
   "outputs": [],
   "source": [
    "from pyspark.ml import Pipeline"
   ]
  },
  {
   "cell_type": "code",
   "execution_count": 25,
   "metadata": {
    "collapsed": true
   },
   "outputs": [],
   "source": [
    "pipeline_cv_estimator = Pipeline(stages=[tokenizer, count_vectorizer_estimator])"
   ]
  },
  {
   "cell_type": "code",
   "execution_count": 26,
   "metadata": {
    "collapsed": true
   },
   "outputs": [],
   "source": [
    "pipeline_cv_transformer = pipeline_cv_estimator.fit(df_all)"
   ]
  },
  {
   "cell_type": "code",
   "execution_count": 27,
   "metadata": {
    "collapsed": false,
    "scrolled": true
   },
   "outputs": [
    {
     "name": "stdout",
     "output_type": "stream",
     "text": [
      "+---+--------------------+----------------+--------------------+--------------------+--------------------+--------------------+---------------+---------------+-------------+----+------------------+-----------------+-------------------+--------------------+--------------------+\n",
      "|_c0|                name|    review_count|         business_id|             user_id|           review_id|                text|business_rating|review_rating_f|review_rating|cool|             funny|           useful| compliment_average|               words|            features|\n",
      "+---+--------------------+----------------+--------------------+--------------------+--------------------+--------------------+---------------+---------------+-------------+----+------------------+-----------------+-------------------+--------------------+--------------------+\n",
      "|  9|Sting Alarm Las V...|              14|XqDeiaPSG0-fBbOXD...|efaUGV60LFI4v6bWP...|xqFpx6FkEpjow6JAh...|John the director...|            3.5|              1|          5.0|   1|                 1|                1|                0.0|[john, the, direc...|(262144,[0,3,7,11...|\n",
      "| 14| Design One Printing|              21|zC7ldegnDoXg-Wln5...|efaUGV60LFI4v6bWP...|fpq7iwxvRdG9vssv0...|Nar and all the p...|            5.0|              1|          5.0|   0|                 0|                0|                0.0|[nar, and, all, t...|(262144,[0,1,3,4,...|\n",
      "| 17|  Oreilys Auto Parts|               3|O7RMINvCcGVNTMlD7...|efaUGV60LFI4v6bWP...|jDOVgU7ICogRtpLrX...|Thanks to Soubi w...|            4.5|              1|          5.0|   0|                 0|                0|                0.0|[thanks, to, soub...|(262144,[1,3,8,10...|\n",
      "| 42|Arizona Strong Be...|              13|oYwLxROH5RihyFxrd...|hPHsKqUwO_RKJNxkB...|NEP1fCrzA7i50c875...|My Wife and I hav...|            4.5|              1|          4.0|   0|                 0|                0|0.09090909090909091|[my, wife, and, i...|(262144,[0,1,2,3,...|\n",
      "| 51|Yelp's Secret Cin...|              38|MCX_cBs_LUqzuUzd-...|YEiJOtOBBRKEpRuvZ...|2bk0aJ_6Tq87K8WaZ...|This was my first...|            5.0|              1|          4.0|   1|                 0|                0| 13.818181818181818|[this, was, my, f...|(262144,[0,1,2,3,...|\n",
      "| 54|Sonoran Wellness ...|               7|zOqJqDlWT0CF986D0...|YEiJOtOBBRKEpRuvZ...|SNSNuk3Wj7YDSXLQi...|I used to visit t...|            4.0|              1|          5.0|   0|                 1|                0| 13.818181818181818|[i, used, to, vis...|(262144,[0,1,2,3,...|\n",
      "| 60|A 1 Minute Key Se...|             238|po-05-AGCVxEme-Sb...|YEiJOtOBBRKEpRuvZ...|u8o4tuv7o7nnrwWyi...|Jeff is a top-not...|            5.0|              1|          5.0|   0|                 1|                1| 13.818181818181818|[jeff, is, a, top...|(262144,[0,1,2,3,...|\n",
      "| 62|Sarang Natural Me...|               5|Lh03t7LM7R8uKpgyv...|YEiJOtOBBRKEpRuvZ...|mry4Y8tz87Guv-M1Y...|Dr. Lee is a wond...|            5.0|              1|          5.0|   1|                 1|                1| 13.818181818181818|[dr., lee, is, a,...|(262144,[1,2,3,5,...|\n",
      "| 86|  'validated': False| 'street': False|0DI8Dt2PJp07XkVvI...| 'DogsAllowed: Fa...| 'RestaurantsPric...| 'WheelchairAcces...|    'lot': True|              1|           17| 4.5| 'valet': False}\"\"|Innovative Vapors|               null|[, 'wheelchairacc...|(262144,[2,68,83]...|\n",
      "| 93|  'validated': False| 'street': False|DlS2X40L4KywtwO4Y...| 'RestaurantsPric...| 'RestaurantsTake...|        'WiFi: no']\"|   'lot': False|              1|           13| 5.0| 'valet': False}\"\"|    Water and Ice|               null|   [, 'wifi:, no']\"]|(262144,[2,534,98...|\n",
      "|103|Michael W Zacher,...|               7|Sbv16xQcM_DFLv3eh...|1-eTooyYzRvnSrfwL...|DVvLxskv7drqo3I1a...|Rewind 7 years ag...|            4.5|              1|          5.0|   0|                 0|                0| 0.2727272727272727|[rewind, 7, years...|(262144,[0,1,2,3,...|\n",
      "|108|    Kosmo's Doghouse|              39|wMsy-LOjrpSg-tbnl...|1-eTooyYzRvnSrfwL...|5vBAkJY8eR5-oZpE6...|Recently returned...|            4.5|              1|          5.0|   0|                 0|                2| 0.2727272727272727|[recently, return...|(262144,[0,1,2,3,...|\n",
      "|117|       Cut and Taste|               9|LTlCaCGZE14GuaUXU...|OELlLQMDC3xk0hw5d...|A8qfpn5a5nPcIuE26...|There aren't enou...|            5.0|              1|          5.0|   0|                 0|                0|                0.0|[there, aren't, e...|(262144,[0,1,3,5,...|\n",
      "|123|Barking Dogs Self...|             185|IVKVk7ZAPdQi6S40U...|OELlLQMDC3xk0hw5d...|tWaJ7k7Zw_mWUUnrg...|I just washed my ...|            4.5|              1|          5.0|   0|                 0|                0|                0.0|[i, just, washed,...|(262144,[0,1,3,4,...|\n",
      "|125|Best In Show Dog ...|             133|HZrvNH7VTHUDcYqwF...|OELlLQMDC3xk0hw5d...|0Xw0xqgYJNBpI9Ln2...|Ive brought my do...|            4.0|              1|          5.0|   1|                 1|                3|                0.0|[ive, brought, my...|(262144,[0,1,3,4,...|\n",
      "|126|       Cut and Taste|               9|LTlCaCGZE14GuaUXU...|lNJaqRXRpHuOHPgPi...|X1SXw2-MFA9rdLVg2...|Cut & Taste cater...|            5.0|              1|          5.0|   0|                 0|                2|                0.0|[cut, &, taste, c...|(262144,[0,1,3,5,...|\n",
      "|127|       Cut and Taste|               9|LTlCaCGZE14GuaUXU...|Nt_jTjBiwf_SzULAl...|7w2wpLM3qb9A2MVl2...|Cut and Taste is ...|            5.0|              1|          5.0|   1|                 0|                0|                0.0|[cut, and, taste,...|(262144,[0,1,2,3,...|\n",
      "|128|      Liquid Courage|               8|RCmF00iDVG2yOOXFe...|Nt_jTjBiwf_SzULAl...|SWz5RI4XaPCYOovc2...|Liquid Courage pr...|            5.0|              1|          5.0|   0|                 0|                0|                0.0|[liquid, courage,...|(262144,[0,1,2,3,...|\n",
      "|129|  RSVP Party Rentals|              22|1uwlVWxwGU248Jayv...|Nt_jTjBiwf_SzULAl...|Vg9eiXqoXQOevMKBM...|We needed to rent...|            4.5|              1|          5.0|   0|                 0|                0|                0.0|[we, needed, to, ...|(262144,[0,1,2,3,...|\n",
      "|130|       Cut and Taste|               9|LTlCaCGZE14GuaUXU...|Aw_UhDd-3IDCPu9yb...|GQ1jLKw8VAoTr5YTE...|Cut and Taste is ...|            5.0|              1|          5.0|   0|                 0|                0|0.36363636363636365|[cut, and, taste,...|(262144,[0,1,2,3,...|\n",
      "+---+--------------------+----------------+--------------------+--------------------+--------------------+--------------------+---------------+---------------+-------------+----+------------------+-----------------+-------------------+--------------------+--------------------+\n",
      "only showing top 20 rows\n",
      "\n"
     ]
    }
   ],
   "source": [
    "pipeline_cv_transformer.transform(df_all).show()"
   ]
  },
  {
   "cell_type": "code",
   "execution_count": 44,
   "metadata": {
    "collapsed": true
   },
   "outputs": [],
   "source": [
    "sentiments_df = spark.read.parquet('/datasets/sentiment_analysis/sentiments.parquet')"
   ]
  },
  {
   "cell_type": "code",
   "execution_count": 45,
   "metadata": {
    "collapsed": false
   },
   "outputs": [
    {
     "name": "stdout",
     "output_type": "stream",
     "text": [
      "root\n",
      " |-- word: string (nullable = true)\n",
      " |-- sentiment: long (nullable = true)\n",
      "\n"
     ]
    }
   ],
   "source": [
    "sentiments_df.printSchema()"
   ]
  },
  {
   "cell_type": "code",
   "execution_count": 46,
   "metadata": {
    "collapsed": false
   },
   "outputs": [
    {
     "name": "stdout",
     "output_type": "stream",
     "text": [
      "+-------------+---------+\n",
      "|         word|sentiment|\n",
      "+-------------+---------+\n",
      "|   gratefully|        1|\n",
      "|gratification|        1|\n",
      "|    gratified|        1|\n",
      "|    gratifies|        1|\n",
      "|      gratify|        1|\n",
      "+-------------+---------+\n",
      "only showing top 5 rows\n",
      "\n"
     ]
    }
   ],
   "source": [
    "sentiments_df.where(fn.col('sentiment') == 1).show(5)"
   ]
  },
  {
   "cell_type": "code",
   "execution_count": 47,
   "metadata": {
    "collapsed": false
   },
   "outputs": [
    {
     "name": "stdout",
     "output_type": "stream",
     "text": [
      "+----------+---------+\n",
      "|      word|sentiment|\n",
      "+----------+---------+\n",
      "|   2-faced|       -1|\n",
      "|   2-faces|       -1|\n",
      "|  abnormal|       -1|\n",
      "|   abolish|       -1|\n",
      "|abominable|       -1|\n",
      "+----------+---------+\n",
      "only showing top 5 rows\n",
      "\n"
     ]
    }
   ],
   "source": [
    "sentiments_df.where(fn.col('sentiment') == -1).show(5)"
   ]
  },
  {
   "cell_type": "code",
   "execution_count": 48,
   "metadata": {
    "collapsed": false
   },
   "outputs": [
    {
     "name": "stdout",
     "output_type": "stream",
     "text": [
      "+----------+---------+\n",
      "|      word|sentiment|\n",
      "+----------+---------+\n",
      "|   2-faced|       -1|\n",
      "|   2-faces|       -1|\n",
      "|  abnormal|       -1|\n",
      "|   abolish|       -1|\n",
      "|abominable|       -1|\n",
      "+----------+---------+\n",
      "only showing top 5 rows\n",
      "\n"
     ]
    }
   ],
   "source": [
    "sentiments_df.where(fn.col('sentiment') == -1).show(5)"
   ]
  },
  {
   "cell_type": "code",
   "execution_count": 49,
   "metadata": {
    "collapsed": true
   },
   "outputs": [],
   "source": [
    "from pyspark.ml.feature import RegexTokenizer"
   ]
  },
  {
   "cell_type": "code",
   "execution_count": 50,
   "metadata": {
    "collapsed": true
   },
   "outputs": [],
   "source": [
    "tokenizer = RegexTokenizer().setGaps(False)\\\n",
    "  .setPattern(\"\\\\p{L}+\")\\\n",
    "  .setInputCol(\"text\")\\\n",
    "  .setOutputCol(\"words\")"
   ]
  },
  {
   "cell_type": "code",
   "execution_count": 51,
   "metadata": {
    "collapsed": true
   },
   "outputs": [],
   "source": [
    "content_words_df = tokenizer.transform(df_all)"
   ]
  },
  {
   "cell_type": "code",
   "execution_count": 52,
   "metadata": {
    "collapsed": false
   },
   "outputs": [
    {
     "name": "stdout",
     "output_type": "stream",
     "text": [
      "+--------------------+----------+\n",
      "|         business_id|      word|\n",
      "+--------------------+----------+\n",
      "|XqDeiaPSG0-fBbOXD...|      john|\n",
      "|XqDeiaPSG0-fBbOXD...|       the|\n",
      "|XqDeiaPSG0-fBbOXD...|  director|\n",
      "|XqDeiaPSG0-fBbOXD...|        of|\n",
      "|XqDeiaPSG0-fBbOXD...|operations|\n",
      "+--------------------+----------+\n",
      "only showing top 5 rows\n",
      "\n"
     ]
    }
   ],
   "source": [
    "content_words_df.select('business_id', fn.explode('words').alias('word')).show(5)"
   ]
  },
  {
   "cell_type": "code",
   "execution_count": 53,
   "metadata": {
    "collapsed": true
   },
   "outputs": [],
   "source": [
    "content_word_sentiment_df = content_words_df.\\\n",
    "    select('business_id', fn.explode('words').alias('word')).\\\n",
    "    join(sentiments_df, 'word')"
   ]
  },
  {
   "cell_type": "code",
   "execution_count": 54,
   "metadata": {
    "collapsed": true
   },
   "outputs": [],
   "source": [
    "simple_sentiment_prediction_df = content_word_sentiment_df.\\\n",
    "    groupBy('business_id').\\\n",
    "    agg(fn.avg('sentiment').alias('avg_sentiment')).\\\n",
    "    withColumn('predicted', fn.when(fn.col('avg_sentiment') > 0, 1.0).otherwise(0.))"
   ]
  },
  {
   "cell_type": "code",
   "execution_count": 55,
   "metadata": {
    "collapsed": false
   },
   "outputs": [
    {
     "name": "stdout",
     "output_type": "stream",
     "text": [
      "+--------------------+-------------------+---------+\n",
      "|         business_id|      avg_sentiment|predicted|\n",
      "+--------------------+-------------------+---------+\n",
      "|zSFutuGG7NcL60-N9...|0.04963041182682154|      1.0|\n",
      "|j0_CApMCHDJBYJg1X...| 0.6011816838995568|      1.0|\n",
      "|o8uCIT_YDDDr9KExf...|                1.0|      1.0|\n",
      "|5HeI2iev-JWFI-S8C...| 0.7185185185185186|      1.0|\n",
      "|35X1ZV9tSEqB__yJE...|0.25396825396825395|      1.0|\n",
      "|aZbbt_RPKV8vUY7GW...|0.01818181818181818|      1.0|\n",
      "|eUa2VP06FTmyWdYzY...| 0.7373737373737373|      1.0|\n",
      "|wwiLGg0Un113ezT75...| 0.6451612903225806|      1.0|\n",
      "|f4mh1Y0rnvbJRfQ3j...|0.44680851063829785|      1.0|\n",
      "|tzRpAi91Rs0-S0Ico...|                1.0|      1.0|\n",
      "|gOCizq2d2ku1LKKX-...| 0.2765957446808511|      1.0|\n",
      "|2ZzThh_QS7JnNApvN...| 0.5384615384615384|      1.0|\n",
      "|TptdGz1YIQby7uvvA...| 0.5076923076923077|      1.0|\n",
      "|5LZhDRyz3q_UNZ29c...| 0.7722095671981777|      1.0|\n",
      "|b-dMCUh7T2Kya1O7Z...| 0.3230769230769231|      1.0|\n",
      "+--------------------+-------------------+---------+\n",
      "only showing top 15 rows\n",
      "\n"
     ]
    }
   ],
   "source": [
    "simple_sentiment_prediction_df.show(15)"
   ]
  },
  {
   "cell_type": "code",
   "execution_count": 56,
   "metadata": {
    "collapsed": false,
    "scrolled": true
   },
   "outputs": [
    {
     "name": "stdout",
     "output_type": "stream",
     "text": [
      "+-----------------+\n",
      "|     avg(correct)|\n",
      "+-----------------+\n",
      "|0.703306924803288|\n",
      "+-----------------+\n",
      "\n"
     ]
    }
   ],
   "source": [
    "df_all.\\\n",
    "    join(simple_sentiment_prediction_df, 'business_id').\\\n",
    "    select(fn.expr('float(review_rating_f = predicted)').alias('correct')).\\\n",
    "    select(fn.avg('correct')).\\\n",
    "    show()"
   ]
  },
  {
   "cell_type": "markdown",
   "metadata": {},
   "source": [
    "## Step: Data-Driven Approach"
   ]
  },
  {
   "cell_type": "code",
   "execution_count": 57,
   "metadata": {
    "collapsed": false
   },
   "outputs": [
    {
     "data": {
      "text/plain": [
       "319"
      ]
     },
     "execution_count": 57,
     "metadata": {},
     "output_type": "execute_result"
    }
   ],
   "source": [
    "# we obtain the stop words from a website\n",
    "import requests\n",
    "stop_words = requests.get('http://ir.dcs.gla.ac.uk/resources/linguistic_utils/stop_words').text.split()\n",
    "len(stop_words)"
   ]
  },
  {
   "cell_type": "code",
   "execution_count": 58,
   "metadata": {
    "collapsed": true
   },
   "outputs": [],
   "source": [
    "from pyspark.ml.feature import StopWordsRemover\n",
    "sw_filter = StopWordsRemover()\\\n",
    "  .setStopWords(stop_words)\\\n",
    "  .setCaseSensitive(False)\\\n",
    "  .setInputCol(\"words\")\\\n",
    "  .setOutputCol(\"filtered\")"
   ]
  },
  {
   "cell_type": "code",
   "execution_count": 59,
   "metadata": {
    "collapsed": true
   },
   "outputs": [],
   "source": [
    "from pyspark.ml.feature import CountVectorizer\n",
    "\n",
    "# we will remove words that appear in 5 docs or less\n",
    "cv = CountVectorizer(minTF=1., minDF=5., vocabSize=2**17)\\\n",
    "  .setInputCol(\"filtered\")\\\n",
    "  .setOutputCol(\"tf\")"
   ]
  },
  {
   "cell_type": "code",
   "execution_count": 60,
   "metadata": {
    "collapsed": true
   },
   "outputs": [],
   "source": [
    "cv_pipeline = Pipeline(stages=[tokenizer, sw_filter, cv]).fit(df_all)"
   ]
  },
  {
   "cell_type": "code",
   "execution_count": 61,
   "metadata": {
    "collapsed": true
   },
   "outputs": [],
   "source": [
    "from pyspark.ml.feature import IDF\n",
    "idf = IDF().\\\n",
    "    setInputCol('tf').\\\n",
    "    setOutputCol('tfidf')"
   ]
  },
  {
   "cell_type": "code",
   "execution_count": 62,
   "metadata": {
    "collapsed": true
   },
   "outputs": [],
   "source": [
    "idf_pipeline = Pipeline(stages=[cv_pipeline, idf]).fit(df_all)"
   ]
  },
  {
   "cell_type": "code",
   "execution_count": 63,
   "metadata": {
    "collapsed": true
   },
   "outputs": [],
   "source": [
    "tfidf_df = idf_pipeline.transform(df_all)"
   ]
  },
  {
   "cell_type": "code",
   "execution_count": 64,
   "metadata": {
    "collapsed": false
   },
   "outputs": [
    {
     "name": "stdout",
     "output_type": "stream",
     "text": [
      "root\n",
      " |-- _c0: string (nullable = true)\n",
      " |-- name: string (nullable = true)\n",
      " |-- review_count: string (nullable = true)\n",
      " |-- business_id: string (nullable = true)\n",
      " |-- user_id: string (nullable = true)\n",
      " |-- review_id: string (nullable = true)\n",
      " |-- text: string (nullable = true)\n",
      " |-- business_rating: string (nullable = true)\n",
      " |-- review_rating_f: integer (nullable = true)\n",
      " |-- review_rating: string (nullable = true)\n",
      " |-- cool: string (nullable = true)\n",
      " |-- funny: string (nullable = true)\n",
      " |-- useful: string (nullable = true)\n",
      " |-- compliment_average: double (nullable = true)\n",
      " |-- words: array (nullable = true)\n",
      " |    |-- element: string (containsNull = true)\n",
      " |-- filtered: array (nullable = true)\n",
      " |    |-- element: string (containsNull = true)\n",
      " |-- tf: vector (nullable = true)\n",
      " |-- tfidf: vector (nullable = true)\n",
      "\n"
     ]
    }
   ],
   "source": [
    "tfidf_df.printSchema()"
   ]
  },
  {
   "cell_type": "code",
   "execution_count": 65,
   "metadata": {
    "collapsed": true
   },
   "outputs": [],
   "source": [
    "training_df, validation_df, testing_df = df_all.randomSplit([0.6, 0.3, 0.1], seed=0)"
   ]
  },
  {
   "cell_type": "code",
   "execution_count": 66,
   "metadata": {
    "collapsed": false
   },
   "outputs": [
    {
     "data": {
      "text/plain": [
       "[706309, 353324, 118045]"
      ]
     },
     "execution_count": 66,
     "metadata": {},
     "output_type": "execute_result"
    }
   ],
   "source": [
    "[training_df.count(), validation_df.count(), testing_df.count()]"
   ]
  },
  {
   "cell_type": "code",
   "execution_count": 67,
   "metadata": {
    "collapsed": true
   },
   "outputs": [],
   "source": [
    "#  Logistic Regression\n",
    "from pyspark.ml.classification import LogisticRegression"
   ]
  },
  {
   "cell_type": "code",
   "execution_count": 68,
   "metadata": {
    "collapsed": false
   },
   "outputs": [
    {
     "name": "stdout",
     "output_type": "stream",
     "text": [
      "+---------------+--------+\n",
      "|review_rating_f|count(1)|\n",
      "+---------------+--------+\n",
      "|              1|  511419|\n",
      "|              0|  666259|\n",
      "+---------------+--------+\n",
      "\n"
     ]
    }
   ],
   "source": [
    "df_all.groupby('review_rating_f').agg(fn.count('*')).show()"
   ]
  },
  {
   "cell_type": "code",
   "execution_count": 69,
   "metadata": {
    "collapsed": true
   },
   "outputs": [],
   "source": [
    "lr = LogisticRegression().\\\n",
    "    setLabelCol('review_rating_f').\\\n",
    "    setFeaturesCol('tfidf').\\\n",
    "    setRegParam(0.0).\\\n",
    "    setMaxIter(100).\\\n",
    "    setElasticNetParam(0.)"
   ]
  },
  {
   "cell_type": "code",
   "execution_count": 70,
   "metadata": {
    "collapsed": false
   },
   "outputs": [],
   "source": [
    "lr_pipeline = Pipeline(stages=[idf_pipeline, lr]).fit(training_df)"
   ]
  },
  {
   "cell_type": "code",
   "execution_count": 71,
   "metadata": {
    "collapsed": false
   },
   "outputs": [
    {
     "name": "stdout",
     "output_type": "stream",
     "text": [
      "+------------------+\n",
      "|      avg(correct)|\n",
      "+------------------+\n",
      "|0.8615435124701407|\n",
      "+------------------+\n",
      "\n"
     ]
    }
   ],
   "source": [
    "lr_pipeline.transform(validation_df).\\\n",
    "    select(fn.expr('float(prediction = review_rating_f)').alias('correct')).\\\n",
    "    select(fn.avg('correct')).show()"
   ]
  },
  {
   "cell_type": "code",
   "execution_count": 72,
   "metadata": {
    "collapsed": true
   },
   "outputs": [],
   "source": [
    "import pandas as pd\n",
    "vocabulary = idf_pipeline.stages[0].stages[-1].vocabulary\n",
    "weights = lr_pipeline.stages[-1].coefficients.toArray()\n",
    "coeffs_df = pd.DataFrame({'word': vocabulary, 'weight': weights})"
   ]
  },
  {
   "cell_type": "code",
   "execution_count": 73,
   "metadata": {
    "collapsed": false
   },
   "outputs": [
    {
     "data": {
      "text/html": [
       "<div>\n",
       "<table border=\"1\" class=\"dataframe\">\n",
       "  <thead>\n",
       "    <tr style=\"text-align: right;\">\n",
       "      <th></th>\n",
       "      <th>weight</th>\n",
       "      <th>word</th>\n",
       "    </tr>\n",
       "  </thead>\n",
       "  <tbody>\n",
       "    <tr>\n",
       "      <th>54396</th>\n",
       "      <td>-5.171028</td>\n",
       "      <td>hedging</td>\n",
       "    </tr>\n",
       "    <tr>\n",
       "      <th>57984</th>\n",
       "      <td>-5.123092</td>\n",
       "      <td>triceratops</td>\n",
       "    </tr>\n",
       "    <tr>\n",
       "      <th>59925</th>\n",
       "      <td>-4.298238</td>\n",
       "      <td>presumption</td>\n",
       "    </tr>\n",
       "    <tr>\n",
       "      <th>45026</th>\n",
       "      <td>-4.213830</td>\n",
       "      <td>enwiller</td>\n",
       "    </tr>\n",
       "    <tr>\n",
       "      <th>54028</th>\n",
       "      <td>-3.991321</td>\n",
       "      <td>terminer</td>\n",
       "    </tr>\n",
       "  </tbody>\n",
       "</table>\n",
       "</div>"
      ],
      "text/plain": [
       "         weight         word\n",
       "54396 -5.171028      hedging\n",
       "57984 -5.123092  triceratops\n",
       "59925 -4.298238  presumption\n",
       "45026 -4.213830     enwiller\n",
       "54028 -3.991321     terminer"
      ]
     },
     "execution_count": 73,
     "metadata": {},
     "output_type": "execute_result"
    }
   ],
   "source": [
    "coeffs_df.sort_values('weight').head(5)"
   ]
  },
  {
   "cell_type": "code",
   "execution_count": 74,
   "metadata": {
    "collapsed": true
   },
   "outputs": [],
   "source": [
    "lambda_par = 0.02\n",
    "alpha_par = 0.3\n",
    "en_lr = LogisticRegression().\\\n",
    "        setLabelCol('review_rating_f').\\\n",
    "        setFeaturesCol('tfidf').\\\n",
    "        setRegParam(lambda_par).\\\n",
    "        setMaxIter(100).\\\n",
    "        setElasticNetParam(alpha_par)"
   ]
  },
  {
   "cell_type": "code",
   "execution_count": 75,
   "metadata": {
    "collapsed": true
   },
   "outputs": [],
   "source": [
    "en_lr_estimator = Pipeline(\n",
    "    stages=[tokenizer, sw_filter, cv, idf, en_lr])"
   ]
  },
  {
   "cell_type": "code",
   "execution_count": 76,
   "metadata": {
    "collapsed": true
   },
   "outputs": [],
   "source": [
    "en_lr_pipeline = en_lr_estimator.fit(training_df)"
   ]
  },
  {
   "cell_type": "code",
   "execution_count": 77,
   "metadata": {
    "collapsed": false
   },
   "outputs": [
    {
     "name": "stdout",
     "output_type": "stream",
     "text": [
      "+------------------------------------------+\n",
      "|avg(float((prediction = review_rating_f)))|\n",
      "+------------------------------------------+\n",
      "|                        0.8513913575075568|\n",
      "+------------------------------------------+\n",
      "\n"
     ]
    }
   ],
   "source": [
    "en_lr_pipeline.transform(validation_df).select(fn.avg(fn.expr('float(prediction = review_rating_f)'))).show()"
   ]
  },
  {
   "cell_type": "code",
   "execution_count": 78,
   "metadata": {
    "collapsed": true
   },
   "outputs": [],
   "source": [
    "en_weights = en_lr_pipeline.stages[-1].coefficients.toArray()\n",
    "en_coeffs_df = pd.DataFrame({'word': en_lr_pipeline.stages[2].vocabulary, 'weight': en_weights})"
   ]
  },
  {
   "cell_type": "code",
   "execution_count": 79,
   "metadata": {
    "collapsed": false
   },
   "outputs": [
    {
     "data": {
      "text/html": [
       "<div>\n",
       "<table border=\"1\" class=\"dataframe\">\n",
       "  <thead>\n",
       "    <tr style=\"text-align: right;\">\n",
       "      <th></th>\n",
       "      <th>weight</th>\n",
       "      <th>word</th>\n",
       "    </tr>\n",
       "  </thead>\n",
       "  <tbody>\n",
       "    <tr>\n",
       "      <th>67</th>\n",
       "      <td>-0.348973</td>\n",
       "      <td>restaurantspricerange</td>\n",
       "    </tr>\n",
       "    <tr>\n",
       "      <th>6</th>\n",
       "      <td>-0.280234</td>\n",
       "      <td>true</td>\n",
       "    </tr>\n",
       "    <tr>\n",
       "      <th>229</th>\n",
       "      <td>-0.256048</td>\n",
       "      <td>worst</td>\n",
       "    </tr>\n",
       "    <tr>\n",
       "      <th>14</th>\n",
       "      <td>-0.245198</td>\n",
       "      <td>wheelchairaccessible</td>\n",
       "    </tr>\n",
       "    <tr>\n",
       "      <th>230</th>\n",
       "      <td>-0.214439</td>\n",
       "      <td>rude</td>\n",
       "    </tr>\n",
       "    <tr>\n",
       "      <th>276</th>\n",
       "      <td>-0.184853</td>\n",
       "      <td>horrible</td>\n",
       "    </tr>\n",
       "    <tr>\n",
       "      <th>397</th>\n",
       "      <td>-0.151311</td>\n",
       "      <td>terrible</td>\n",
       "    </tr>\n",
       "    <tr>\n",
       "      <th>847</th>\n",
       "      <td>-0.145940</td>\n",
       "      <td>unprofessional</td>\n",
       "    </tr>\n",
       "    <tr>\n",
       "      <th>498</th>\n",
       "      <td>-0.134817</td>\n",
       "      <td>poor</td>\n",
       "    </tr>\n",
       "    <tr>\n",
       "      <th>94</th>\n",
       "      <td>-0.132525</td>\n",
       "      <td>false</td>\n",
       "    </tr>\n",
       "    <tr>\n",
       "      <th>1534</th>\n",
       "      <td>-0.115620</td>\n",
       "      <td>disappointing</td>\n",
       "    </tr>\n",
       "    <tr>\n",
       "      <th>34</th>\n",
       "      <td>-0.112680</td>\n",
       "      <td>told</td>\n",
       "    </tr>\n",
       "    <tr>\n",
       "      <th>287</th>\n",
       "      <td>-0.107475</td>\n",
       "      <td>ok</td>\n",
       "    </tr>\n",
       "    <tr>\n",
       "      <th>444</th>\n",
       "      <td>-0.105103</td>\n",
       "      <td>dirty</td>\n",
       "    </tr>\n",
       "    <tr>\n",
       "      <th>790</th>\n",
       "      <td>-0.097349</td>\n",
       "      <td>awful</td>\n",
       "    </tr>\n",
       "    <tr>\n",
       "      <th>702</th>\n",
       "      <td>-0.094820</td>\n",
       "      <td>worse</td>\n",
       "    </tr>\n",
       "    <tr>\n",
       "      <th>840</th>\n",
       "      <td>-0.087947</td>\n",
       "      <td>ridiculous</td>\n",
       "    </tr>\n",
       "    <tr>\n",
       "      <th>1123</th>\n",
       "      <td>-0.087722</td>\n",
       "      <td>beware</td>\n",
       "    </tr>\n",
       "    <tr>\n",
       "      <th>784</th>\n",
       "      <td>-0.083351</td>\n",
       "      <td>lack</td>\n",
       "    </tr>\n",
       "    <tr>\n",
       "      <th>36</th>\n",
       "      <td>-0.082111</td>\n",
       "      <td>said</td>\n",
       "    </tr>\n",
       "    <tr>\n",
       "      <th>655</th>\n",
       "      <td>-0.075878</td>\n",
       "      <td>waste</td>\n",
       "    </tr>\n",
       "    <tr>\n",
       "      <th>2248</th>\n",
       "      <td>-0.072848</td>\n",
       "      <td>mediocre</td>\n",
       "    </tr>\n",
       "    <tr>\n",
       "      <th>423</th>\n",
       "      <td>-0.071939</td>\n",
       "      <td>guess</td>\n",
       "    </tr>\n",
       "    <tr>\n",
       "      <th>2403</th>\n",
       "      <td>-0.065148</td>\n",
       "      <td>unacceptable</td>\n",
       "    </tr>\n",
       "    <tr>\n",
       "      <th>1482</th>\n",
       "      <td>-0.064578</td>\n",
       "      <td>disgusting</td>\n",
       "    </tr>\n",
       "    <tr>\n",
       "      <th>90</th>\n",
       "      <td>-0.064574</td>\n",
       "      <td>money</td>\n",
       "    </tr>\n",
       "    <tr>\n",
       "      <th>208</th>\n",
       "      <td>-0.064081</td>\n",
       "      <td>wifi</td>\n",
       "    </tr>\n",
       "    <tr>\n",
       "      <th>0</th>\n",
       "      <td>-0.061491</td>\n",
       "      <td>t</td>\n",
       "    </tr>\n",
       "    <tr>\n",
       "      <th>112</th>\n",
       "      <td>-0.059624</td>\n",
       "      <td>pay</td>\n",
       "    </tr>\n",
       "    <tr>\n",
       "      <th>1903</th>\n",
       "      <td>-0.058660</td>\n",
       "      <td>poorly</td>\n",
       "    </tr>\n",
       "    <tr>\n",
       "      <th>462</th>\n",
       "      <td>-0.055713</td>\n",
       "      <td>saying</td>\n",
       "    </tr>\n",
       "    <tr>\n",
       "      <th>1059</th>\n",
       "      <td>-0.055572</td>\n",
       "      <td>joke</td>\n",
       "    </tr>\n",
       "    <tr>\n",
       "      <th>109</th>\n",
       "      <td>-0.055455</td>\n",
       "      <td>left</td>\n",
       "    </tr>\n",
       "    <tr>\n",
       "      <th>623</th>\n",
       "      <td>-0.055410</td>\n",
       "      <td>unless</td>\n",
       "    </tr>\n",
       "    <tr>\n",
       "      <th>786</th>\n",
       "      <td>-0.055145</td>\n",
       "      <td>supposed</td>\n",
       "    </tr>\n",
       "    <tr>\n",
       "      <th>195</th>\n",
       "      <td>-0.054593</td>\n",
       "      <td>paid</td>\n",
       "    </tr>\n",
       "    <tr>\n",
       "      <th>82</th>\n",
       "      <td>-0.054089</td>\n",
       "      <td>bad</td>\n",
       "    </tr>\n",
       "    <tr>\n",
       "      <th>626</th>\n",
       "      <td>-0.053849</td>\n",
       "      <td>okay</td>\n",
       "    </tr>\n",
       "    <tr>\n",
       "      <th>570</th>\n",
       "      <td>-0.052994</td>\n",
       "      <td>unfortunately</td>\n",
       "    </tr>\n",
       "    <tr>\n",
       "      <th>1827</th>\n",
       "      <td>-0.052825</td>\n",
       "      <td>restaurantsattire</td>\n",
       "    </tr>\n",
       "    <tr>\n",
       "      <th>213</th>\n",
       "      <td>-0.052527</td>\n",
       "      <td>finally</td>\n",
       "    </tr>\n",
       "    <tr>\n",
       "      <th>1300</th>\n",
       "      <td>-0.052081</td>\n",
       "      <td>sucks</td>\n",
       "    </tr>\n",
       "    <tr>\n",
       "      <th>368</th>\n",
       "      <td>-0.049400</td>\n",
       "      <td>disappointed</td>\n",
       "    </tr>\n",
       "    <tr>\n",
       "      <th>674</th>\n",
       "      <td>-0.049031</td>\n",
       "      <td>slow</td>\n",
       "    </tr>\n",
       "    <tr>\n",
       "      <th>91</th>\n",
       "      <td>-0.046886</td>\n",
       "      <td>asked</td>\n",
       "    </tr>\n",
       "    <tr>\n",
       "      <th>2240</th>\n",
       "      <td>-0.046372</td>\n",
       "      <td>lacking</td>\n",
       "    </tr>\n",
       "    <tr>\n",
       "      <th>610</th>\n",
       "      <td>-0.045716</td>\n",
       "      <td>avoid</td>\n",
       "    </tr>\n",
       "    <tr>\n",
       "      <th>2250</th>\n",
       "      <td>-0.045353</td>\n",
       "      <td>disappointment</td>\n",
       "    </tr>\n",
       "    <tr>\n",
       "      <th>873</th>\n",
       "      <td>-0.044759</td>\n",
       "      <td>zero</td>\n",
       "    </tr>\n",
       "    <tr>\n",
       "      <th>1655</th>\n",
       "      <td>-0.043184</td>\n",
       "      <td>dated</td>\n",
       "    </tr>\n",
       "    <tr>\n",
       "      <th>9</th>\n",
       "      <td>-0.042392</td>\n",
       "      <td>room</td>\n",
       "    </tr>\n",
       "    <tr>\n",
       "      <th>3458</th>\n",
       "      <td>-0.041106</td>\n",
       "      <td>meh</td>\n",
       "    </tr>\n",
       "    <tr>\n",
       "      <th>1039</th>\n",
       "      <td>-0.041097</td>\n",
       "      <td>refused</td>\n",
       "    </tr>\n",
       "    <tr>\n",
       "      <th>1384</th>\n",
       "      <td>-0.040667</td>\n",
       "      <td>overpriced</td>\n",
       "    </tr>\n",
       "    <tr>\n",
       "      <th>1859</th>\n",
       "      <td>-0.040285</td>\n",
       "      <td>outdated</td>\n",
       "    </tr>\n",
       "    <tr>\n",
       "      <th>98</th>\n",
       "      <td>-0.040220</td>\n",
       "      <td>restaurantstakeout</td>\n",
       "    </tr>\n",
       "    <tr>\n",
       "      <th>235</th>\n",
       "      <td>-0.039870</td>\n",
       "      <td>trying</td>\n",
       "    </tr>\n",
       "    <tr>\n",
       "      <th>135</th>\n",
       "      <td>-0.038627</td>\n",
       "      <td>desk</td>\n",
       "    </tr>\n",
       "    <tr>\n",
       "      <th>364</th>\n",
       "      <td>-0.038199</td>\n",
       "      <td>charged</td>\n",
       "    </tr>\n",
       "    <tr>\n",
       "      <th>414</th>\n",
       "      <td>-0.038114</td>\n",
       "      <td>management</td>\n",
       "    </tr>\n",
       "  </tbody>\n",
       "</table>\n",
       "</div>"
      ],
      "text/plain": [
       "        weight                   word\n",
       "67   -0.348973  restaurantspricerange\n",
       "6    -0.280234                   true\n",
       "229  -0.256048                  worst\n",
       "14   -0.245198   wheelchairaccessible\n",
       "230  -0.214439                   rude\n",
       "276  -0.184853               horrible\n",
       "397  -0.151311               terrible\n",
       "847  -0.145940         unprofessional\n",
       "498  -0.134817                   poor\n",
       "94   -0.132525                  false\n",
       "1534 -0.115620          disappointing\n",
       "34   -0.112680                   told\n",
       "287  -0.107475                     ok\n",
       "444  -0.105103                  dirty\n",
       "790  -0.097349                  awful\n",
       "702  -0.094820                  worse\n",
       "840  -0.087947             ridiculous\n",
       "1123 -0.087722                 beware\n",
       "784  -0.083351                   lack\n",
       "36   -0.082111                   said\n",
       "655  -0.075878                  waste\n",
       "2248 -0.072848               mediocre\n",
       "423  -0.071939                  guess\n",
       "2403 -0.065148           unacceptable\n",
       "1482 -0.064578             disgusting\n",
       "90   -0.064574                  money\n",
       "208  -0.064081                   wifi\n",
       "0    -0.061491                      t\n",
       "112  -0.059624                    pay\n",
       "1903 -0.058660                 poorly\n",
       "462  -0.055713                 saying\n",
       "1059 -0.055572                   joke\n",
       "109  -0.055455                   left\n",
       "623  -0.055410                 unless\n",
       "786  -0.055145               supposed\n",
       "195  -0.054593                   paid\n",
       "82   -0.054089                    bad\n",
       "626  -0.053849                   okay\n",
       "570  -0.052994          unfortunately\n",
       "1827 -0.052825      restaurantsattire\n",
       "213  -0.052527                finally\n",
       "1300 -0.052081                  sucks\n",
       "368  -0.049400           disappointed\n",
       "674  -0.049031                   slow\n",
       "91   -0.046886                  asked\n",
       "2240 -0.046372                lacking\n",
       "610  -0.045716                  avoid\n",
       "2250 -0.045353         disappointment\n",
       "873  -0.044759                   zero\n",
       "1655 -0.043184                  dated\n",
       "9    -0.042392                   room\n",
       "3458 -0.041106                    meh\n",
       "1039 -0.041097                refused\n",
       "1384 -0.040667             overpriced\n",
       "1859 -0.040285               outdated\n",
       "98   -0.040220     restaurantstakeout\n",
       "235  -0.039870                 trying\n",
       "135  -0.038627                   desk\n",
       "364  -0.038199                charged\n",
       "414  -0.038114             management"
      ]
     },
     "execution_count": 79,
     "metadata": {},
     "output_type": "execute_result"
    }
   ],
   "source": [
    "en_coeffs_df.sort_values('weight').head(60)"
   ]
  },
  {
   "cell_type": "code",
   "execution_count": 80,
   "metadata": {
    "collapsed": false
   },
   "outputs": [
    {
     "data": {
      "text/html": [
       "<div>\n",
       "<table border=\"1\" class=\"dataframe\">\n",
       "  <thead>\n",
       "    <tr style=\"text-align: right;\">\n",
       "      <th></th>\n",
       "      <th>weight</th>\n",
       "      <th>word</th>\n",
       "    </tr>\n",
       "  </thead>\n",
       "  <tbody>\n",
       "    <tr>\n",
       "      <th>2</th>\n",
       "      <td>0.455462</td>\n",
       "      <td>great</td>\n",
       "    </tr>\n",
       "    <tr>\n",
       "      <th>61</th>\n",
       "      <td>0.309306</td>\n",
       "      <td>amazing</td>\n",
       "    </tr>\n",
       "    <tr>\n",
       "      <th>76</th>\n",
       "      <td>0.302821</td>\n",
       "      <td>highly</td>\n",
       "    </tr>\n",
       "    <tr>\n",
       "      <th>23</th>\n",
       "      <td>0.281265</td>\n",
       "      <td>recommend</td>\n",
       "    </tr>\n",
       "    <tr>\n",
       "      <th>31</th>\n",
       "      <td>0.277850</td>\n",
       "      <td>best</td>\n",
       "    </tr>\n",
       "    <tr>\n",
       "      <th>77</th>\n",
       "      <td>0.274903</td>\n",
       "      <td>professional</td>\n",
       "    </tr>\n",
       "    <tr>\n",
       "      <th>120</th>\n",
       "      <td>0.268551</td>\n",
       "      <td>thank</td>\n",
       "    </tr>\n",
       "    <tr>\n",
       "      <th>95</th>\n",
       "      <td>0.268484</td>\n",
       "      <td>awesome</td>\n",
       "    </tr>\n",
       "    <tr>\n",
       "      <th>151</th>\n",
       "      <td>0.261727</td>\n",
       "      <td>excellent</td>\n",
       "    </tr>\n",
       "    <tr>\n",
       "      <th>27</th>\n",
       "      <td>0.256317</td>\n",
       "      <td>friendly</td>\n",
       "    </tr>\n",
       "    <tr>\n",
       "      <th>51</th>\n",
       "      <td>0.243332</td>\n",
       "      <td>love</td>\n",
       "    </tr>\n",
       "    <tr>\n",
       "      <th>166</th>\n",
       "      <td>0.223140</td>\n",
       "      <td>thanks</td>\n",
       "    </tr>\n",
       "    <tr>\n",
       "      <th>55</th>\n",
       "      <td>0.219397</td>\n",
       "      <td>definitely</td>\n",
       "    </tr>\n",
       "    <tr>\n",
       "      <th>217</th>\n",
       "      <td>0.196247</td>\n",
       "      <td>honest</td>\n",
       "    </tr>\n",
       "    <tr>\n",
       "      <th>93</th>\n",
       "      <td>0.191240</td>\n",
       "      <td>helpful</td>\n",
       "    </tr>\n",
       "    <tr>\n",
       "      <th>190</th>\n",
       "      <td>0.181844</td>\n",
       "      <td>wonderful</td>\n",
       "    </tr>\n",
       "    <tr>\n",
       "      <th>293</th>\n",
       "      <td>0.177842</td>\n",
       "      <td>fantastic</td>\n",
       "    </tr>\n",
       "    <tr>\n",
       "      <th>311</th>\n",
       "      <td>0.175552</td>\n",
       "      <td>knowledgeable</td>\n",
       "    </tr>\n",
       "    <tr>\n",
       "      <th>263</th>\n",
       "      <td>0.161316</td>\n",
       "      <td>reasonable</td>\n",
       "    </tr>\n",
       "    <tr>\n",
       "      <th>99</th>\n",
       "      <td>0.160452</td>\n",
       "      <td>happy</td>\n",
       "    </tr>\n",
       "    <tr>\n",
       "      <th>482</th>\n",
       "      <td>0.150661</td>\n",
       "      <td>pleased</td>\n",
       "    </tr>\n",
       "    <tr>\n",
       "      <th>131</th>\n",
       "      <td>0.143784</td>\n",
       "      <td>easy</td>\n",
       "    </tr>\n",
       "    <tr>\n",
       "      <th>267</th>\n",
       "      <td>0.129804</td>\n",
       "      <td>helped</td>\n",
       "    </tr>\n",
       "    <tr>\n",
       "      <th>177</th>\n",
       "      <td>0.126669</td>\n",
       "      <td>beautiful</td>\n",
       "    </tr>\n",
       "    <tr>\n",
       "      <th>260</th>\n",
       "      <td>0.123471</td>\n",
       "      <td>perfect</td>\n",
       "    </tr>\n",
       "    <tr>\n",
       "      <th>240</th>\n",
       "      <td>0.120540</td>\n",
       "      <td>loved</td>\n",
       "    </tr>\n",
       "    <tr>\n",
       "      <th>992</th>\n",
       "      <td>0.117574</td>\n",
       "      <td>happier</td>\n",
       "    </tr>\n",
       "    <tr>\n",
       "      <th>830</th>\n",
       "      <td>0.114822</td>\n",
       "      <td>notch</td>\n",
       "    </tr>\n",
       "    <tr>\n",
       "      <th>439</th>\n",
       "      <td>0.111214</td>\n",
       "      <td>efficient</td>\n",
       "    </tr>\n",
       "    <tr>\n",
       "      <th>186</th>\n",
       "      <td>0.110297</td>\n",
       "      <td>fast</td>\n",
       "    </tr>\n",
       "    <tr>\n",
       "      <th>530</th>\n",
       "      <td>0.103110</td>\n",
       "      <td>thorough</td>\n",
       "    </tr>\n",
       "    <tr>\n",
       "      <th>436</th>\n",
       "      <td>0.102399</td>\n",
       "      <td>favorite</td>\n",
       "    </tr>\n",
       "    <tr>\n",
       "      <th>167</th>\n",
       "      <td>0.102368</td>\n",
       "      <td>quick</td>\n",
       "    </tr>\n",
       "    <tr>\n",
       "      <th>777</th>\n",
       "      <td>0.100975</td>\n",
       "      <td>outstanding</td>\n",
       "    </tr>\n",
       "    <tr>\n",
       "      <th>485</th>\n",
       "      <td>0.100965</td>\n",
       "      <td>courteous</td>\n",
       "    </tr>\n",
       "    <tr>\n",
       "      <th>839</th>\n",
       "      <td>0.093184</td>\n",
       "      <td>incredible</td>\n",
       "    </tr>\n",
       "    <tr>\n",
       "      <th>404</th>\n",
       "      <td>0.090880</td>\n",
       "      <td>glad</td>\n",
       "    </tr>\n",
       "    <tr>\n",
       "      <th>318</th>\n",
       "      <td>0.090034</td>\n",
       "      <td>impressed</td>\n",
       "    </tr>\n",
       "    <tr>\n",
       "      <th>727</th>\n",
       "      <td>0.087547</td>\n",
       "      <td>satisfied</td>\n",
       "    </tr>\n",
       "    <tr>\n",
       "      <th>153</th>\n",
       "      <td>0.087461</td>\n",
       "      <td>comfortable</td>\n",
       "    </tr>\n",
       "    <tr>\n",
       "      <th>152</th>\n",
       "      <td>0.086501</td>\n",
       "      <td>fun</td>\n",
       "    </tr>\n",
       "    <tr>\n",
       "      <th>16</th>\n",
       "      <td>0.081422</td>\n",
       "      <td>nice</td>\n",
       "    </tr>\n",
       "    <tr>\n",
       "      <th>100</th>\n",
       "      <td>0.081301</td>\n",
       "      <td>guys</td>\n",
       "    </tr>\n",
       "    <tr>\n",
       "      <th>402</th>\n",
       "      <td>0.080283</td>\n",
       "      <td>enjoyed</td>\n",
       "    </tr>\n",
       "    <tr>\n",
       "      <th>348</th>\n",
       "      <td>0.080071</td>\n",
       "      <td>future</td>\n",
       "    </tr>\n",
       "    <tr>\n",
       "      <th>41</th>\n",
       "      <td>0.077167</td>\n",
       "      <td>clean</td>\n",
       "    </tr>\n",
       "    <tr>\n",
       "      <th>271</th>\n",
       "      <td>0.075494</td>\n",
       "      <td>quickly</td>\n",
       "    </tr>\n",
       "    <tr>\n",
       "      <th>124</th>\n",
       "      <td>0.075406</td>\n",
       "      <td>super</td>\n",
       "    </tr>\n",
       "    <tr>\n",
       "      <th>1126</th>\n",
       "      <td>0.073147</td>\n",
       "      <td>knowledgable</td>\n",
       "    </tr>\n",
       "    <tr>\n",
       "      <th>578</th>\n",
       "      <td>0.071676</td>\n",
       "      <td>caring</td>\n",
       "    </tr>\n",
       "  </tbody>\n",
       "</table>\n",
       "</div>"
      ],
      "text/plain": [
       "        weight           word\n",
       "2     0.455462          great\n",
       "61    0.309306        amazing\n",
       "76    0.302821         highly\n",
       "23    0.281265      recommend\n",
       "31    0.277850           best\n",
       "77    0.274903   professional\n",
       "120   0.268551          thank\n",
       "95    0.268484        awesome\n",
       "151   0.261727      excellent\n",
       "27    0.256317       friendly\n",
       "51    0.243332           love\n",
       "166   0.223140         thanks\n",
       "55    0.219397     definitely\n",
       "217   0.196247         honest\n",
       "93    0.191240        helpful\n",
       "190   0.181844      wonderful\n",
       "293   0.177842      fantastic\n",
       "311   0.175552  knowledgeable\n",
       "263   0.161316     reasonable\n",
       "99    0.160452          happy\n",
       "482   0.150661        pleased\n",
       "131   0.143784           easy\n",
       "267   0.129804         helped\n",
       "177   0.126669      beautiful\n",
       "260   0.123471        perfect\n",
       "240   0.120540          loved\n",
       "992   0.117574        happier\n",
       "830   0.114822          notch\n",
       "439   0.111214      efficient\n",
       "186   0.110297           fast\n",
       "530   0.103110       thorough\n",
       "436   0.102399       favorite\n",
       "167   0.102368          quick\n",
       "777   0.100975    outstanding\n",
       "485   0.100965      courteous\n",
       "839   0.093184     incredible\n",
       "404   0.090880           glad\n",
       "318   0.090034      impressed\n",
       "727   0.087547      satisfied\n",
       "153   0.087461    comfortable\n",
       "152   0.086501            fun\n",
       "16    0.081422           nice\n",
       "100   0.081301           guys\n",
       "402   0.080283        enjoyed\n",
       "348   0.080071         future\n",
       "41    0.077167          clean\n",
       "271   0.075494        quickly\n",
       "124   0.075406          super\n",
       "1126  0.073147   knowledgable\n",
       "578   0.071676         caring"
      ]
     },
     "execution_count": 80,
     "metadata": {},
     "output_type": "execute_result"
    }
   ],
   "source": [
    "en_coeffs_df.sort_values('weight', ascending=False).head(50)"
   ]
  },
  {
   "cell_type": "code",
   "execution_count": 81,
   "metadata": {
    "collapsed": false
   },
   "outputs": [
    {
     "data": {
      "text/plain": [
       "(47665, 2)"
      ]
     },
     "execution_count": 81,
     "metadata": {},
     "output_type": "execute_result"
    }
   ],
   "source": [
    "en_coeffs_df.query('weight == 0.0').shape"
   ]
  },
  {
   "cell_type": "code",
   "execution_count": 82,
   "metadata": {
    "collapsed": false
   },
   "outputs": [
    {
     "data": {
      "text/plain": [
       "0.9940355779858606"
      ]
     },
     "execution_count": 82,
     "metadata": {},
     "output_type": "execute_result"
    }
   ],
   "source": [
    "en_coeffs_df.query('weight == 0.0').shape[0]/en_coeffs_df.shape[0]"
   ]
  },
  {
   "cell_type": "code",
   "execution_count": 83,
   "metadata": {
    "collapsed": false
   },
   "outputs": [
    {
     "data": {
      "text/html": [
       "<div>\n",
       "<table border=\"1\" class=\"dataframe\">\n",
       "  <thead>\n",
       "    <tr style=\"text-align: right;\">\n",
       "      <th></th>\n",
       "      <th>weight</th>\n",
       "      <th>word</th>\n",
       "    </tr>\n",
       "  </thead>\n",
       "  <tbody>\n",
       "    <tr>\n",
       "      <th>1</th>\n",
       "      <td>0.0</td>\n",
       "      <td>s</td>\n",
       "    </tr>\n",
       "    <tr>\n",
       "      <th>7</th>\n",
       "      <td>0.0</td>\n",
       "      <td>place</td>\n",
       "    </tr>\n",
       "    <tr>\n",
       "      <th>8</th>\n",
       "      <td>0.0</td>\n",
       "      <td>like</td>\n",
       "    </tr>\n",
       "    <tr>\n",
       "      <th>10</th>\n",
       "      <td>0.0</td>\n",
       "      <td>car</td>\n",
       "    </tr>\n",
       "    <tr>\n",
       "      <th>12</th>\n",
       "      <td>0.0</td>\n",
       "      <td>did</td>\n",
       "    </tr>\n",
       "    <tr>\n",
       "      <th>19</th>\n",
       "      <td>0.0</td>\n",
       "      <td>got</td>\n",
       "    </tr>\n",
       "    <tr>\n",
       "      <th>21</th>\n",
       "      <td>0.0</td>\n",
       "      <td>day</td>\n",
       "    </tr>\n",
       "    <tr>\n",
       "      <th>24</th>\n",
       "      <td>0.0</td>\n",
       "      <td>didn</td>\n",
       "    </tr>\n",
       "    <tr>\n",
       "      <th>28</th>\n",
       "      <td>0.0</td>\n",
       "      <td>went</td>\n",
       "    </tr>\n",
       "    <tr>\n",
       "      <th>29</th>\n",
       "      <td>0.0</td>\n",
       "      <td>m</td>\n",
       "    </tr>\n",
       "    <tr>\n",
       "      <th>32</th>\n",
       "      <td>0.0</td>\n",
       "      <td>called</td>\n",
       "    </tr>\n",
       "    <tr>\n",
       "      <th>33</th>\n",
       "      <td>0.0</td>\n",
       "      <td>going</td>\n",
       "    </tr>\n",
       "    <tr>\n",
       "      <th>37</th>\n",
       "      <td>0.0</td>\n",
       "      <td>know</td>\n",
       "    </tr>\n",
       "    <tr>\n",
       "      <th>38</th>\n",
       "      <td>0.0</td>\n",
       "      <td>make</td>\n",
       "    </tr>\n",
       "    <tr>\n",
       "      <th>39</th>\n",
       "      <td>0.0</td>\n",
       "      <td>took</td>\n",
       "    </tr>\n",
       "  </tbody>\n",
       "</table>\n",
       "</div>"
      ],
      "text/plain": [
       "    weight    word\n",
       "1      0.0       s\n",
       "7      0.0   place\n",
       "8      0.0    like\n",
       "10     0.0     car\n",
       "12     0.0     did\n",
       "19     0.0     got\n",
       "21     0.0     day\n",
       "24     0.0    didn\n",
       "28     0.0    went\n",
       "29     0.0       m\n",
       "32     0.0  called\n",
       "33     0.0   going\n",
       "37     0.0    know\n",
       "38     0.0    make\n",
       "39     0.0    took"
      ]
     },
     "execution_count": 83,
     "metadata": {},
     "output_type": "execute_result"
    }
   ],
   "source": [
    "en_coeffs_df.query('weight == 0.0').head(15)"
   ]
  },
  {
   "cell_type": "code",
   "execution_count": 84,
   "metadata": {
    "collapsed": true
   },
   "outputs": [],
   "source": [
    "from pyspark.ml.tuning import ParamGridBuilder, TrainValidationSplit"
   ]
  },
  {
   "cell_type": "code",
   "execution_count": 85,
   "metadata": {
    "collapsed": false
   },
   "outputs": [
    {
     "data": {
      "text/plain": [
       "[RegexTokenizer_42fdb348b4e82308477d,\n",
       " StopWordsRemover_4d1f8fa26085b3e88eec,\n",
       " CountVectorizer_46489a9b70dee41d1a37,\n",
       " IDF_434fb949b0e40f8933f8,\n",
       " LogisticRegression_44a6bddbfa35cbc604a2]"
      ]
     },
     "execution_count": 85,
     "metadata": {},
     "output_type": "execute_result"
    }
   ],
   "source": [
    "en_lr_estimator.getStages()"
   ]
  },
  {
   "cell_type": "code",
   "execution_count": 86,
   "metadata": {
    "collapsed": true
   },
   "outputs": [],
   "source": [
    "grid = ParamGridBuilder().\\\n",
    "    addGrid(en_lr.regParam, [0., 0.01, 0.02]).\\\n",
    "    addGrid(en_lr.elasticNetParam, [0., 0.2, 0.4]).\\\n",
    "    build()"
   ]
  },
  {
   "cell_type": "code",
   "execution_count": 87,
   "metadata": {
    "collapsed": false
   },
   "outputs": [
    {
     "data": {
      "text/plain": [
       "[{Param(parent='LogisticRegression_44a6bddbfa35cbc604a2', name='regParam', doc='regularization parameter (>= 0).'): 0.0,\n",
       "  Param(parent='LogisticRegression_44a6bddbfa35cbc604a2', name='elasticNetParam', doc='the ElasticNet mixing parameter, in range [0, 1]. For alpha = 0, the penalty is an L2 penalty. For alpha = 1, it is an L1 penalty.'): 0.0},\n",
       " {Param(parent='LogisticRegression_44a6bddbfa35cbc604a2', name='regParam', doc='regularization parameter (>= 0).'): 0.0,\n",
       "  Param(parent='LogisticRegression_44a6bddbfa35cbc604a2', name='elasticNetParam', doc='the ElasticNet mixing parameter, in range [0, 1]. For alpha = 0, the penalty is an L2 penalty. For alpha = 1, it is an L1 penalty.'): 0.2},\n",
       " {Param(parent='LogisticRegression_44a6bddbfa35cbc604a2', name='regParam', doc='regularization parameter (>= 0).'): 0.0,\n",
       "  Param(parent='LogisticRegression_44a6bddbfa35cbc604a2', name='elasticNetParam', doc='the ElasticNet mixing parameter, in range [0, 1]. For alpha = 0, the penalty is an L2 penalty. For alpha = 1, it is an L1 penalty.'): 0.4},\n",
       " {Param(parent='LogisticRegression_44a6bddbfa35cbc604a2', name='regParam', doc='regularization parameter (>= 0).'): 0.01,\n",
       "  Param(parent='LogisticRegression_44a6bddbfa35cbc604a2', name='elasticNetParam', doc='the ElasticNet mixing parameter, in range [0, 1]. For alpha = 0, the penalty is an L2 penalty. For alpha = 1, it is an L1 penalty.'): 0.0},\n",
       " {Param(parent='LogisticRegression_44a6bddbfa35cbc604a2', name='regParam', doc='regularization parameter (>= 0).'): 0.01,\n",
       "  Param(parent='LogisticRegression_44a6bddbfa35cbc604a2', name='elasticNetParam', doc='the ElasticNet mixing parameter, in range [0, 1]. For alpha = 0, the penalty is an L2 penalty. For alpha = 1, it is an L1 penalty.'): 0.2},\n",
       " {Param(parent='LogisticRegression_44a6bddbfa35cbc604a2', name='regParam', doc='regularization parameter (>= 0).'): 0.01,\n",
       "  Param(parent='LogisticRegression_44a6bddbfa35cbc604a2', name='elasticNetParam', doc='the ElasticNet mixing parameter, in range [0, 1]. For alpha = 0, the penalty is an L2 penalty. For alpha = 1, it is an L1 penalty.'): 0.4},\n",
       " {Param(parent='LogisticRegression_44a6bddbfa35cbc604a2', name='regParam', doc='regularization parameter (>= 0).'): 0.02,\n",
       "  Param(parent='LogisticRegression_44a6bddbfa35cbc604a2', name='elasticNetParam', doc='the ElasticNet mixing parameter, in range [0, 1]. For alpha = 0, the penalty is an L2 penalty. For alpha = 1, it is an L1 penalty.'): 0.0},\n",
       " {Param(parent='LogisticRegression_44a6bddbfa35cbc604a2', name='regParam', doc='regularization parameter (>= 0).'): 0.02,\n",
       "  Param(parent='LogisticRegression_44a6bddbfa35cbc604a2', name='elasticNetParam', doc='the ElasticNet mixing parameter, in range [0, 1]. For alpha = 0, the penalty is an L2 penalty. For alpha = 1, it is an L1 penalty.'): 0.2},\n",
       " {Param(parent='LogisticRegression_44a6bddbfa35cbc604a2', name='regParam', doc='regularization parameter (>= 0).'): 0.02,\n",
       "  Param(parent='LogisticRegression_44a6bddbfa35cbc604a2', name='elasticNetParam', doc='the ElasticNet mixing parameter, in range [0, 1]. For alpha = 0, the penalty is an L2 penalty. For alpha = 1, it is an L1 penalty.'): 0.4}]"
      ]
     },
     "execution_count": 87,
     "metadata": {},
     "output_type": "execute_result"
    }
   ],
   "source": [
    "grid"
   ]
  },
  {
   "cell_type": "code",
   "execution_count": 88,
   "metadata": {
    "collapsed": false
   },
   "outputs": [
    {
     "name": "stdout",
     "output_type": "stream",
     "text": [
      "Fitting model 1\n",
      "Fitting model 2\n",
      "Fitting model 3\n",
      "Fitting model 4\n",
      "Fitting model 5\n",
      "Fitting model 6\n",
      "Fitting model 7\n",
      "Fitting model 8\n",
      "Fitting model 9\n"
     ]
    }
   ],
   "source": [
    "all_models = []\n",
    "for j in range(len(grid)):\n",
    "    print(\"Fitting model {}\".format(j+1))\n",
    "    model = en_lr_estimator.fit(training_df, grid[j])\n",
    "    all_models.append(model)"
   ]
  },
  {
   "cell_type": "code",
   "execution_count": 89,
   "metadata": {
    "collapsed": true
   },
   "outputs": [],
   "source": [
    "# estimate the accuracy of each of them:\n",
    "accuracies = [m.\\\n",
    "    transform(validation_df).\\\n",
    "    select(fn.avg(fn.expr('float(review_rating_f = prediction)')).alias('accuracy')).\\\n",
    "    first().\\\n",
    "    accuracy for m in all_models]"
   ]
  },
  {
   "cell_type": "code",
   "execution_count": 90,
   "metadata": {
    "collapsed": false
   },
   "outputs": [
    {
     "data": {
      "text/plain": [
       "[0.8671955485616601,\n",
       " 0.8671955485616601,\n",
       " 0.8671955485616601,\n",
       " 0.8749617914435476,\n",
       " 0.8689757842659995,\n",
       " 0.8589679727389026,\n",
       " 0.8757825678414147,\n",
       " 0.8587528727173925,\n",
       " 0.8452581766310808]"
      ]
     },
     "execution_count": 90,
     "metadata": {},
     "output_type": "execute_result"
    }
   ],
   "source": [
    "accuracies"
   ]
  },
  {
   "cell_type": "code",
   "execution_count": 91,
   "metadata": {
    "collapsed": true
   },
   "outputs": [],
   "source": [
    "import numpy as np"
   ]
  },
  {
   "cell_type": "code",
   "execution_count": 92,
   "metadata": {
    "collapsed": true
   },
   "outputs": [],
   "source": [
    "best_model_idx = np.argmax(accuracies)"
   ]
  },
  {
   "cell_type": "code",
   "execution_count": 93,
   "metadata": {
    "collapsed": false
   },
   "outputs": [
    {
     "data": {
      "text/plain": [
       "{Param(parent='LogisticRegression_44a6bddbfa35cbc604a2', name='regParam', doc='regularization parameter (>= 0).'): 0.02,\n",
       " Param(parent='LogisticRegression_44a6bddbfa35cbc604a2', name='elasticNetParam', doc='the ElasticNet mixing parameter, in range [0, 1]. For alpha = 0, the penalty is an L2 penalty. For alpha = 1, it is an L1 penalty.'): 0.0}"
      ]
     },
     "execution_count": 93,
     "metadata": {},
     "output_type": "execute_result"
    }
   ],
   "source": [
    "grid[best_model_idx]"
   ]
  },
  {
   "cell_type": "code",
   "execution_count": 94,
   "metadata": {
    "collapsed": true
   },
   "outputs": [],
   "source": [
    "best_model = all_models[best_model_idx]"
   ]
  },
  {
   "cell_type": "code",
   "execution_count": 95,
   "metadata": {
    "collapsed": false
   },
   "outputs": [
    {
     "data": {
      "text/plain": [
       "0.8757825678414147"
      ]
     },
     "execution_count": 95,
     "metadata": {},
     "output_type": "execute_result"
    }
   ],
   "source": [
    "accuracies[best_model_idx]"
   ]
  },
  {
   "cell_type": "code",
   "execution_count": 96,
   "metadata": {
    "collapsed": true
   },
   "outputs": [],
   "source": [
    "bestModelDF = best_model.transform(df_all)"
   ]
  },
  {
   "cell_type": "code",
   "execution_count": 97,
   "metadata": {
    "collapsed": false
   },
   "outputs": [
    {
     "name": "stdout",
     "output_type": "stream",
     "text": [
      "root\n",
      " |-- _c0: string (nullable = true)\n",
      " |-- name: string (nullable = true)\n",
      " |-- review_count: string (nullable = true)\n",
      " |-- business_id: string (nullable = true)\n",
      " |-- user_id: string (nullable = true)\n",
      " |-- review_id: string (nullable = true)\n",
      " |-- text: string (nullable = true)\n",
      " |-- business_rating: string (nullable = true)\n",
      " |-- review_rating_f: integer (nullable = true)\n",
      " |-- review_rating: string (nullable = true)\n",
      " |-- cool: string (nullable = true)\n",
      " |-- funny: string (nullable = true)\n",
      " |-- useful: string (nullable = true)\n",
      " |-- compliment_average: double (nullable = true)\n",
      " |-- words: array (nullable = true)\n",
      " |    |-- element: string (containsNull = true)\n",
      " |-- filtered: array (nullable = true)\n",
      " |    |-- element: string (containsNull = true)\n",
      " |-- tf: vector (nullable = true)\n",
      " |-- tfidf: vector (nullable = true)\n",
      " |-- rawPrediction: vector (nullable = true)\n",
      " |-- probability: vector (nullable = true)\n",
      " |-- prediction: double (nullable = true)\n",
      "\n"
     ]
    }
   ],
   "source": [
    "bestModelDF.printSchema()"
   ]
  },
  {
   "cell_type": "code",
   "execution_count": 98,
   "metadata": {
    "collapsed": false
   },
   "outputs": [
    {
     "name": "stdout",
     "output_type": "stream",
     "text": [
      "+--------------------+--------------------+----------+\n",
      "|         business_id|                text|prediction|\n",
      "+--------------------+--------------------+----------+\n",
      "|XqDeiaPSG0-fBbOXD...|John the director...|       1.0|\n",
      "|zC7ldegnDoXg-Wln5...|Nar and all the p...|       1.0|\n",
      "|O7RMINvCcGVNTMlD7...|Thanks to Soubi w...|       1.0|\n",
      "|oYwLxROH5RihyFxrd...|My Wife and I hav...|       1.0|\n",
      "|MCX_cBs_LUqzuUzd-...|This was my first...|       1.0|\n",
      "|zOqJqDlWT0CF986D0...|I used to visit t...|       1.0|\n",
      "|po-05-AGCVxEme-Sb...|Jeff is a top-not...|       1.0|\n",
      "|Lh03t7LM7R8uKpgyv...|Dr. Lee is a wond...|       1.0|\n",
      "|0DI8Dt2PJp07XkVvI...| 'WheelchairAcces...|       0.0|\n",
      "|DlS2X40L4KywtwO4Y...|        'WiFi: no']\"|       0.0|\n",
      "|Sbv16xQcM_DFLv3eh...|Rewind 7 years ag...|       1.0|\n",
      "|wMsy-LOjrpSg-tbnl...|Recently returned...|       1.0|\n",
      "|LTlCaCGZE14GuaUXU...|There aren't enou...|       1.0|\n",
      "|IVKVk7ZAPdQi6S40U...|I just washed my ...|       1.0|\n",
      "|HZrvNH7VTHUDcYqwF...|Ive brought my do...|       1.0|\n",
      "|LTlCaCGZE14GuaUXU...|Cut & Taste cater...|       1.0|\n",
      "|LTlCaCGZE14GuaUXU...|Cut and Taste is ...|       1.0|\n",
      "|RCmF00iDVG2yOOXFe...|Liquid Courage pr...|       1.0|\n",
      "|1uwlVWxwGU248Jayv...|We needed to rent...|       1.0|\n",
      "|LTlCaCGZE14GuaUXU...|Cut and Taste is ...|       1.0|\n",
      "|2PA6vbWPOdKyBvz8U...|I ordered a desse...|       1.0|\n",
      "|LTlCaCGZE14GuaUXU...|First Class!  Cut...|       1.0|\n",
      "|LTlCaCGZE14GuaUXU...|Cut & Taste provi...|       1.0|\n",
      "|LTlCaCGZE14GuaUXU...|I cannot speak hi...|       1.0|\n",
      "|zoODlH40edpJYLPLk...|OMG... Once you g...|       1.0|\n",
      "|jt9O4tqBb-a7encP9...|Just moved here s...|       1.0|\n",
      "|5LNZ67Yw9RD6nf4_U...|This is my favori...|       1.0|\n",
      "|LTlCaCGZE14GuaUXU...|We hired Jeremy a...|       1.0|\n",
      "|qh5dTNXritViyuqd_...|I recently reloca...|       1.0|\n",
      "|LTlCaCGZE14GuaUXU...|We recently had t...|       1.0|\n",
      "+--------------------+--------------------+----------+\n",
      "only showing top 30 rows\n",
      "\n"
     ]
    }
   ],
   "source": [
    "bestModelDF.select('business_id', 'text', 'prediction').show(30)"
   ]
  },
  {
   "cell_type": "code",
   "execution_count": 100,
   "metadata": {
    "collapsed": false
   },
   "outputs": [
    {
     "name": "stdout",
     "output_type": "stream",
     "text": [
      "+------------------------------------------+------------+\n",
      "|name                                      |Review_count|\n",
      "+------------------------------------------+------------+\n",
      "| 'validated': False                       |475601      |\n",
      "| 'lunch': False                           |9127        |\n",
      "| 'lot': False                             |4608        |\n",
      "| 'classy': False                          |3373        |\n",
      "|The Cosmopolitan of Las Vegas             |2854        |\n",
      "|ARIA Resort & Casino                      |2784        |\n",
      "|Luxor Hotel and Casino Las Vegas          |2638        |\n",
      "|McCarran International Airport            |2577        |\n",
      "| 'validated': True                        |2534        |\n",
      "|MGM Grand Hotel                           |2514        |\n",
      "|The Venetian Las Vegas                    |2427        |\n",
      "|Enterprise Rent-A-Car                     |2179        |\n",
      "|Bellagio Hotel                            |2081        |\n",
      "|Flamingo Las Vegas Hotel & Casino         |2047        |\n",
      "|Planet Hollywood Las Vegas Resort & Casino|2011        |\n",
      "|Mandalay Bay Resort & Casino              |1919        |\n",
      "|Excalibur Hotel                           |1830        |\n",
      "|Wynn Las Vegas                            |1822        |\n",
      "|Caesars Palace Las Vegas Hotel & Casino   |1782        |\n",
      "|Phoenix Sky Harbor International Airport  |1752        |\n",
      "+------------------------------------------+------------+\n",
      "only showing top 20 rows\n",
      "\n"
     ]
    }
   ],
   "source": [
    "bestModelDF.groupBy('name').\\\n",
    "    agg(fn.count('name').alias('Review_count')).\\\n",
    "    where(fn.col('Review_count')>500).\\\n",
    "    orderBy(fn.desc('Review_count')).show(20,False)"
   ]
  },
  {
   "cell_type": "code",
   "execution_count": 101,
   "metadata": {
    "collapsed": true
   },
   "outputs": [],
   "source": [
    "%matplotlib inline"
   ]
  },
  {
   "cell_type": "code",
   "execution_count": 102,
   "metadata": {
    "collapsed": true
   },
   "outputs": [],
   "source": [
    "import seaborn"
   ]
  },
  {
   "cell_type": "code",
   "execution_count": 103,
   "metadata": {
    "collapsed": true
   },
   "outputs": [],
   "source": [
    "sentiment_pd = best_model.\\\n",
    "    transform(df_all).\\\n",
    "    groupby('name').\\\n",
    "    agg(fn.avg('prediction').alias('prediction'), \n",
    "        (2*fn.stddev('prediction')/fn.sqrt(fn.count('*'))).alias('err')).\\\n",
    "    toPandas()"
   ]
  },
  {
   "cell_type": "code",
   "execution_count": 104,
   "metadata": {
    "collapsed": true
   },
   "outputs": [],
   "source": [
    "arr = [\"The Cosmopolitan of Las Vegas\", \"ARIA Resort & Casino\", \"Luxor Hotel and Casino Las Vegas\", \"McCarran International Airport\", \"MGM Grand Hotel\", \"The Venetian Las Vegas\", \"Enterprise Rent-A-Car\", \"Bellagio Hotel\", \"Flamingo Las Vegas Hotel & Casino\", \"Planet Hollywood Las Vegas Resort & Casino\", \"Mandalay Bay Resort & Casino\", \"Excalibur Hotel\", \"Wynn Las Vegas\", \"Caesars Palace Las Vegas Hotel & Casino\", \"Phoenix Sky Harbor International Airport\"]\n"
   ]
  },
  {
   "cell_type": "code",
   "execution_count": 105,
   "metadata": {
    "collapsed": true
   },
   "outputs": [],
   "source": [
    "bestModelPD500 = sentiment_pd.loc[sentiment_pd['name'].isin(arr)]"
   ]
  },
  {
   "cell_type": "code",
   "execution_count": 106,
   "metadata": {
    "collapsed": false
   },
   "outputs": [
    {
     "data": {
      "text/html": [
       "<div>\n",
       "<table border=\"1\" class=\"dataframe\">\n",
       "  <thead>\n",
       "    <tr style=\"text-align: right;\">\n",
       "      <th></th>\n",
       "      <th>name</th>\n",
       "      <th>prediction</th>\n",
       "      <th>err</th>\n",
       "    </tr>\n",
       "  </thead>\n",
       "  <tbody>\n",
       "    <tr>\n",
       "      <th>1702</th>\n",
       "      <td>Excalibur Hotel</td>\n",
       "      <td>0.308743</td>\n",
       "      <td>0.021604</td>\n",
       "    </tr>\n",
       "    <tr>\n",
       "      <th>9243</th>\n",
       "      <td>Mandalay Bay Resort &amp; Casino</td>\n",
       "      <td>0.549766</td>\n",
       "      <td>0.022720</td>\n",
       "    </tr>\n",
       "    <tr>\n",
       "      <th>11890</th>\n",
       "      <td>Phoenix Sky Harbor International Airport</td>\n",
       "      <td>0.426941</td>\n",
       "      <td>0.023641</td>\n",
       "    </tr>\n",
       "    <tr>\n",
       "      <th>18490</th>\n",
       "      <td>McCarran International Airport</td>\n",
       "      <td>0.390376</td>\n",
       "      <td>0.019223</td>\n",
       "    </tr>\n",
       "    <tr>\n",
       "      <th>18496</th>\n",
       "      <td>Flamingo Las Vegas Hotel &amp; Casino</td>\n",
       "      <td>0.316072</td>\n",
       "      <td>0.020558</td>\n",
       "    </tr>\n",
       "    <tr>\n",
       "      <th>20397</th>\n",
       "      <td>Caesars Palace Las Vegas Hotel &amp; Casino</td>\n",
       "      <td>0.515713</td>\n",
       "      <td>0.023684</td>\n",
       "    </tr>\n",
       "    <tr>\n",
       "      <th>20883</th>\n",
       "      <td>The Venetian Las Vegas</td>\n",
       "      <td>0.727235</td>\n",
       "      <td>0.018085</td>\n",
       "    </tr>\n",
       "    <tr>\n",
       "      <th>25845</th>\n",
       "      <td>Enterprise Rent-A-Car</td>\n",
       "      <td>0.643873</td>\n",
       "      <td>0.020521</td>\n",
       "    </tr>\n",
       "    <tr>\n",
       "      <th>32383</th>\n",
       "      <td>Bellagio Hotel</td>\n",
       "      <td>0.653532</td>\n",
       "      <td>0.020867</td>\n",
       "    </tr>\n",
       "    <tr>\n",
       "      <th>35598</th>\n",
       "      <td>Luxor Hotel and Casino Las Vegas</td>\n",
       "      <td>0.301744</td>\n",
       "      <td>0.017877</td>\n",
       "    </tr>\n",
       "    <tr>\n",
       "      <th>39766</th>\n",
       "      <td>ARIA Resort &amp; Casino</td>\n",
       "      <td>0.618175</td>\n",
       "      <td>0.018419</td>\n",
       "    </tr>\n",
       "    <tr>\n",
       "      <th>40476</th>\n",
       "      <td>Planet Hollywood Las Vegas Resort &amp; Casino</td>\n",
       "      <td>0.452014</td>\n",
       "      <td>0.022202</td>\n",
       "    </tr>\n",
       "    <tr>\n",
       "      <th>41477</th>\n",
       "      <td>The Cosmopolitan of Las Vegas</td>\n",
       "      <td>0.720743</td>\n",
       "      <td>0.016799</td>\n",
       "    </tr>\n",
       "    <tr>\n",
       "      <th>42641</th>\n",
       "      <td>Wynn Las Vegas</td>\n",
       "      <td>0.727223</td>\n",
       "      <td>0.020874</td>\n",
       "    </tr>\n",
       "    <tr>\n",
       "      <th>45628</th>\n",
       "      <td>MGM Grand Hotel</td>\n",
       "      <td>0.443914</td>\n",
       "      <td>0.019822</td>\n",
       "    </tr>\n",
       "  </tbody>\n",
       "</table>\n",
       "</div>"
      ],
      "text/plain": [
       "                                             name  prediction       err\n",
       "1702                              Excalibur Hotel    0.308743  0.021604\n",
       "9243                 Mandalay Bay Resort & Casino    0.549766  0.022720\n",
       "11890    Phoenix Sky Harbor International Airport    0.426941  0.023641\n",
       "18490              McCarran International Airport    0.390376  0.019223\n",
       "18496           Flamingo Las Vegas Hotel & Casino    0.316072  0.020558\n",
       "20397     Caesars Palace Las Vegas Hotel & Casino    0.515713  0.023684\n",
       "20883                      The Venetian Las Vegas    0.727235  0.018085\n",
       "25845                       Enterprise Rent-A-Car    0.643873  0.020521\n",
       "32383                              Bellagio Hotel    0.653532  0.020867\n",
       "35598            Luxor Hotel and Casino Las Vegas    0.301744  0.017877\n",
       "39766                        ARIA Resort & Casino    0.618175  0.018419\n",
       "40476  Planet Hollywood Las Vegas Resort & Casino    0.452014  0.022202\n",
       "41477               The Cosmopolitan of Las Vegas    0.720743  0.016799\n",
       "42641                              Wynn Las Vegas    0.727223  0.020874\n",
       "45628                             MGM Grand Hotel    0.443914  0.019822"
      ]
     },
     "execution_count": 106,
     "metadata": {},
     "output_type": "execute_result"
    }
   ],
   "source": [
    "bestModelPD500"
   ]
  },
  {
   "cell_type": "code",
   "execution_count": 107,
   "metadata": {
    "collapsed": false
   },
   "outputs": [
    {
     "data": {
      "image/png": "[encoded data removed]",
      "text/plain": [
       "<matplotlib.figure.Figure at 0x7fc2f2f48550>"
      ]
     },
     "metadata": {},
     "output_type": "display_data"
    }
   ],
   "source": [
    "bestModelPD500.plot(x='name', y='prediction', xerr='err', kind='barh');"
   ]
  },
  {
   "cell_type": "code",
   "execution_count": 123,
   "metadata": {
    "collapsed": true
   },
   "outputs": [],
   "source": [
    "# Bar Plot showing a list of businesses with most number of reviews"
   ]
  }
 ],
 "metadata": {
  "anaconda-cloud": {},
  "kernelspec": {
   "display_name": "Python 3",
   "language": "python",
   "name": "python3"
  },
  "language_info": {
   "codemirror_mode": {
    "name": "ipython",
    "version": 3
   },
   "file_extension": ".py",
   "mimetype": "text/x-python",
   "name": "python",
   "nbconvert_exporter": "python",
   "pygments_lexer": "ipython3",
   "version": "3.5.2"
  }
 },
 "nbformat": 4,
 "nbformat_minor": 2
}
