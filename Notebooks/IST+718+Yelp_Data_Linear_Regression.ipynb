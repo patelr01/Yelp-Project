{
 "cells": [
  {
   "cell_type": "markdown",
   "metadata": {},
   "source": [
    "# Yelp Data set Linear Regression Analysis"
   ]
  },
  {
   "cell_type": "markdown",
   "metadata": {},
   "source": [
    "## Step: Loading packages and connecting to Spark cluster"
   ]
  },
  {
   "cell_type": "code",
   "execution_count": 6,
   "metadata": {
    "collapsed": false
   },
   "outputs": [],
   "source": [
    "#importing spark session\n",
    "import findspark\n",
    "\n",
    "findspark.init()"
   ]
  },
  {
   "cell_type": "code",
   "execution_count": 3,
   "metadata": {
    "collapsed": true
   },
   "outputs": [],
   "source": [
    "#importing library\n",
    "import pyspark\n",
    "from pyspark.sql import SparkSession"
   ]
  },
  {
   "cell_type": "code",
   "execution_count": 7,
   "metadata": {
    "collapsed": true
   },
   "outputs": [],
   "source": [
    "#unified entry point to the cluster\n",
    "spark = SparkSession.builder.\\\n",
    "    getOrCreate()"
   ]
  },
  {
   "cell_type": "code",
   "execution_count": 8,
   "metadata": {
    "collapsed": false
   },
   "outputs": [],
   "source": [
    "#SparkContext and SQLContext\n",
    "sc = spark.sparkContext\n",
    "sqlContext = spark"
   ]
  },
  {
   "cell_type": "code",
   "execution_count": 9,
   "metadata": {
    "collapsed": false
   },
   "outputs": [
    {
     "data": {
      "text/plain": [
       "'http://ist-s-718-01.syr.edu:8088/proxy/application_1490645795897_0598'"
      ]
     },
     "execution_count": 9,
     "metadata": {},
     "output_type": "execute_result"
    }
   ],
   "source": [
    "# Display information about current execution\n",
    "spark.conf.get('spark.org.apache.hadoop.yarn.server.webproxy.amfilter.AmIpFilter.param.PROXY_URI_BASES')"
   ]
  },
  {
   "cell_type": "code",
   "execution_count": 10,
   "metadata": {
    "collapsed": true
   },
   "outputs": [],
   "source": [
    "#importing functions\n",
    "from pyspark.sql import functions as fn"
   ]
  },
  {
   "cell_type": "code",
   "execution_count": 11,
   "metadata": {
    "collapsed": true
   },
   "outputs": [],
   "source": [
    "#importing models\n",
    "from pyspark.ml import feature\n",
    "from pyspark.ml import regression\n",
    "from pyspark.ml import Pipeline, PipelineModel"
   ]
  },
  {
   "cell_type": "markdown",
   "metadata": {},
   "source": [
    "## Step: Convert the dataset into Spark dataframe and perform data cleaning operations"
   ]
  },
  {
   "cell_type": "code",
   "execution_count": 14,
   "metadata": {
    "collapsed": false
   },
   "outputs": [],
   "source": [
    "#Loading user reviews data\n",
    "df_all = spark.read\\\n",
    "    .format('com.databricks.spark.csv')\\\n",
    "    .option('header','true')\\\n",
    "    .option('charset', 'UTF-8')\\\n",
    "    .csv('df_all.csv')"
   ]
  },
  {
   "cell_type": "code",
   "execution_count": 19,
   "metadata": {
    "collapsed": false
   },
   "outputs": [
    {
     "name": "stdout",
     "output_type": "stream",
     "text": [
      "root\n",
      " |-- _c0: string (nullable = true)\n",
      " |-- Unnamed: 0: string (nullable = true)\n",
      " |-- business_id: string (nullable = true)\n",
      " |-- attributes: string (nullable = true)\n",
      " |-- review_count: string (nullable = true)\n",
      " |-- name: string (nullable = true)\n",
      " |-- business_rating: string (nullable = true)\n",
      " |-- funny: string (nullable = true)\n",
      " |-- user_id: string (nullable = true)\n",
      " |-- review_id: string (nullable = true)\n",
      " |-- text: string (nullable = true)\n",
      " |-- review_rating: string (nullable = true)\n",
      " |-- useful: string (nullable = true)\n",
      " |-- cool: string (nullable = true)\n",
      " |-- compliment_list: string (nullable = true)\n",
      " |-- compliment_hot: string (nullable = true)\n",
      " |-- compliment_cute: string (nullable = true)\n",
      " |-- compliment_note: string (nullable = true)\n",
      " |-- compliment_photos: string (nullable = true)\n",
      " |-- compliment_more: string (nullable = true)\n",
      " |-- compliment_writer: string (nullable = true)\n",
      " |-- compliment_plain: string (nullable = true)\n",
      " |-- user_avg_rating: string (nullable = true)\n",
      " |-- compliment_profile: string (nullable = true)\n",
      " |-- compliment_cool: string (nullable = true)\n",
      " |-- compliment_funny: string (nullable = true)\n",
      " |-- review_rating_f: string (nullable = true)\n",
      "\n"
     ]
    }
   ],
   "source": [
    "df_all.printSchema()"
   ]
  },
  {
   "cell_type": "code",
   "execution_count": 23,
   "metadata": {
    "collapsed": false,
    "scrolled": true
   },
   "outputs": [
    {
     "name": "stdout",
     "output_type": "stream",
     "text": [
      "+---+----------+--------------------+--------------------+------------------+-------------------+-----------------+------------------+--------------------+--------------------+--------------------+--------------------+--------------------+--------------------+--------------------+--------------------+--------------------+--------------------+--------------------+--------------------+--------------------+--------------------+--------------------+--------------------+--------------------+-------------------+------------------+\n",
      "|_c0|Unnamed: 0|         business_id|          attributes|      review_count|               name|  business_rating|             funny|             user_id|           review_id|                text|       review_rating|              useful|                cool|     compliment_list|      compliment_hot|     compliment_cute|     compliment_note|   compliment_photos|     compliment_more|   compliment_writer|    compliment_plain|     user_avg_rating|  compliment_profile|     compliment_cool|   compliment_funny|   review_rating_f|\n",
      "+---+----------+--------------------+--------------------+------------------+-------------------+-----------------+------------------+--------------------+--------------------+--------------------+--------------------+--------------------+--------------------+--------------------+--------------------+--------------------+--------------------+--------------------+--------------------+--------------------+--------------------+--------------------+--------------------+--------------------+-------------------+------------------+\n",
      "|  0|         0|0DI8Dt2PJp07XkVvI...|\"['BikeParking: T...|   'street': False| 'validated': False|      'lot': True| 'valet': False}\"\"| 'DogsAllowed: Fa...| 'RestaurantsPric...| 'WheelchairAcces...|                  17|   Innovative Vapors|                 4.5|                   2|F6IBEdAVAFBCBDe9q...|syCN0Ph-62tUZTLK-...|Finally a quality...|                 5.0|                   1|                   1|                 0.0|                 1.0|                 0.0|                 1.0|                0.0|               0.0|\n",
      "|  1|         1|FXPJSDOEu-AbyQOui...|\"['BusinessAccept...|   'street': False| 'validated': False|      'lot': True| 'valet': False}\"\"| 'ByAppointmentOn...| 'GoodForKids: True'| 'WheelchairAcces...| 'BikeParking: Tr...|                  28|    Escape Adventure|                 5.0|                   0|F6IBEdAVAFBCBDe9q...|K_33LdXUfNAzruzxe...|Went for my son's...|                 5.0|                   1|                   0|                 0.0|                 1.0|                 0.0|                1.0|               0.0|\n",
      "|  2|         2|B7lWxgPmJPJJ7Mz2O...|\"['Alcohol: full_...| 'intimate': False|    'classy': False| 'hipster': False|    'divey': False|   'touristy': False|     'trendy': False|    'upscale': False|   'casual': True}\"\"| 'BYOBCorkage: ye...| \"\"BestNights: {'...|     'tuesday': True|      'friday': True|  'wednesday': False|    'thursday': True|     'sunday': False| 'saturday': Fals...| 'BikeParking: True'| 'BusinessAccepts...| \"\"BusinessParkin...|     'street': False|  'validated': False|        'lot': True| 'valet': False}\"\"|\n",
      "|  3|         3|oi_jhCtPLj6NULrCe...|\"['Alcohol: none'...| 'intimate': False|    'classy': False| 'hipster': False|    'divey': False|   'touristy': False|     'trendy': False|    'upscale': False|   'casual': True}\"\"|   'BYOBCorkage: no'| 'BikeParking: True'| 'BusinessAccepts...| 'BusinessAccepts...| \"\"BusinessParkin...|      'street': True|  'validated': False|         'lot': True|   'valet': False}\"\"|      'Caters: True'| 'DogsAllowed: Fa...| 'GoodForKids: True'| \"\"GoodForMeal: {...| 'latenight': False|     'lunch': True|\n",
      "|  4|         4|Nw96innm3adw0prGQ...|\"['BikeParking: T...|   'street': False| 'validated': False|      'lot': True| 'valet': False}\"\"| 'RestaurantsPric...| 'WheelchairAcces...|                  39|        Vapor Vortex|                 3.5|                   2|F6IBEdAVAFBCBDe9q...|0CzVyH9MdfznFzp-y...|Good assortment o...|                 5.0|                   3|                   2|                 0.0|                 1.0|                 0.0|                 1.0|                 0.0|                0.0|               0.0|\n",
      "+---+----------+--------------------+--------------------+------------------+-------------------+-----------------+------------------+--------------------+--------------------+--------------------+--------------------+--------------------+--------------------+--------------------+--------------------+--------------------+--------------------+--------------------+--------------------+--------------------+--------------------+--------------------+--------------------+--------------------+-------------------+------------------+\n",
      "only showing top 5 rows\n",
      "\n"
     ]
    }
   ],
   "source": [
    "df_all.show(5)"
   ]
  },
  {
   "cell_type": "code",
   "execution_count": 46,
   "metadata": {
    "collapsed": false
   },
   "outputs": [],
   "source": [
    "df_all = df_all.na.drop(subset=['review_id','business_id','user_id','review_rating','user_avg_rating','business_rating','useful','cool','funny','compliment_profile','compliment_cool','compliment_funny','compliment_plain','compliment_writer','compliment_more','compliment_photos','compliment_note','compliment_cute','compliment_list','compliment_hot']) \n",
    "# Remove rows with NULL in column 'content\n",
    "                                \n",
    "df_ratings = df_all.select('review_id','business_id','user_id','review_rating','user_avg_rating',\\\n",
    "              'business_rating','useful','cool','funny',\\\n",
    "             ((fn.col('compliment_profile')+fn.col('compliment_cool')+fn.col('compliment_funny')+fn.col('compliment_plain')+\\\n",
    "               fn.col('compliment_writer')+fn.col('compliment_more')+fn.col('compliment_photos')+fn.col('compliment_note')+\\\n",
    "               fn.col('compliment_cute')+fn.col('compliment_list')+fn.col('compliment_hot'))/11).alias('compliment_average'))"
   ]
  },
  {
   "cell_type": "code",
   "execution_count": 47,
   "metadata": {
    "collapsed": false
   },
   "outputs": [
    {
     "name": "stdout",
     "output_type": "stream",
     "text": [
      "root\n",
      " |-- review_id: string (nullable = true)\n",
      " |-- business_id: string (nullable = true)\n",
      " |-- user_id: string (nullable = true)\n",
      " |-- review_rating: string (nullable = true)\n",
      " |-- user_avg_rating: string (nullable = true)\n",
      " |-- business_rating: string (nullable = true)\n",
      " |-- useful: string (nullable = true)\n",
      " |-- cool: string (nullable = true)\n",
      " |-- funny: string (nullable = true)\n",
      " |-- compliment_average: double (nullable = true)\n",
      "\n"
     ]
    }
   ],
   "source": [
    "df_ratings.printSchema()\n",
    "df_ratings = df_ratings.na.drop(subset=['review_id','business_id','user_id','review_rating','user_avg_rating','business_rating','useful','cool','funny','compliment_average']) \n"
   ]
  },
  {
   "cell_type": "code",
   "execution_count": 48,
   "metadata": {
    "collapsed": true
   },
   "outputs": [],
   "source": [
    "df_ratings = df_ratings.withColumn('review_rating',fn.col('review_rating').cast('double'))\n",
    "df_ratings = df_ratings.withColumn('user_avg_rating',fn.col('user_avg_rating').cast('double'))\n",
    "df_ratings = df_ratings.withColumn('business_rating',fn.col('business_rating').cast('double'))\n",
    "df_ratings = df_ratings.withColumn('useful',fn.col('useful').cast('double'))\n",
    "df_ratings = df_ratings.withColumn('cool',fn.col('cool').cast('double'))\n",
    "df_ratings = df_ratings.withColumn('funny',fn.col('funny').cast('double'))"
   ]
  },
  {
   "cell_type": "code",
   "execution_count": 56,
   "metadata": {
    "collapsed": false
   },
   "outputs": [
    {
     "name": "stdout",
     "output_type": "stream",
     "text": [
      "root\n",
      " |-- review_id: string (nullable = true)\n",
      " |-- business_id: string (nullable = true)\n",
      " |-- user_id: string (nullable = true)\n",
      " |-- review_rating: double (nullable = true)\n",
      " |-- user_avg_rating: double (nullable = true)\n",
      " |-- business_rating: double (nullable = true)\n",
      " |-- useful: double (nullable = true)\n",
      " |-- cool: double (nullable = true)\n",
      " |-- funny: double (nullable = true)\n",
      " |-- compliment_average: double (nullable = true)\n",
      "\n"
     ]
    }
   ],
   "source": [
    "df_ratings = df_ratings.na.drop(subset=['review_id','business_id','user_id','review_rating','user_avg_rating','business_rating','useful','cool','funny','compliment_average']) \n",
    "df_ratings.printSchema()"
   ]
  },
  {
   "cell_type": "code",
   "execution_count": 57,
   "metadata": {
    "collapsed": false,
    "scrolled": true
   },
   "outputs": [
    {
     "name": "stdout",
     "output_type": "stream",
     "text": [
      "+--------------------+--------------------+--------------------+-------------+---------------+---------------+------+----+-----+-------------------+\n",
      "|           review_id|         business_id|             user_id|review_rating|user_avg_rating|business_rating|useful|cool|funny| compliment_average|\n",
      "+--------------------+--------------------+--------------------+-------------+---------------+---------------+------+----+-----+-------------------+\n",
      "|xqFpx6FkEpjow6JAh...|XqDeiaPSG0-fBbOXD...|efaUGV60LFI4v6bWP...|          5.0|           4.08|            3.5|   1.0| 1.0|  1.0|                0.0|\n",
      "|fpq7iwxvRdG9vssv0...|zC7ldegnDoXg-Wln5...|efaUGV60LFI4v6bWP...|          5.0|           4.08|            5.0|   0.0| 0.0|  0.0|                0.0|\n",
      "|jDOVgU7ICogRtpLrX...|O7RMINvCcGVNTMlD7...|efaUGV60LFI4v6bWP...|          5.0|           4.08|            4.5|   0.0| 0.0|  0.0|                0.0|\n",
      "|NEP1fCrzA7i50c875...|oYwLxROH5RihyFxrd...|hPHsKqUwO_RKJNxkB...|          4.0|           3.33|            4.5|   0.0| 0.0|  0.0|0.09090909090909091|\n",
      "|2bk0aJ_6Tq87K8WaZ...|MCX_cBs_LUqzuUzd-...|YEiJOtOBBRKEpRuvZ...|          4.0|           4.22|            5.0|   0.0| 1.0|  0.0| 13.818181818181818|\n",
      "|SNSNuk3Wj7YDSXLQi...|zOqJqDlWT0CF986D0...|YEiJOtOBBRKEpRuvZ...|          5.0|           4.22|            4.0|   0.0| 0.0|  1.0| 13.818181818181818|\n",
      "|u8o4tuv7o7nnrwWyi...|po-05-AGCVxEme-Sb...|YEiJOtOBBRKEpRuvZ...|          5.0|           4.22|            5.0|   1.0| 0.0|  1.0| 13.818181818181818|\n",
      "|mry4Y8tz87Guv-M1Y...|Lh03t7LM7R8uKpgyv...|YEiJOtOBBRKEpRuvZ...|          5.0|           4.22|            5.0|   1.0| 1.0|  1.0| 13.818181818181818|\n",
      "|Pb_Nlwj5syGswT1Yf...|PycR_Mr5jA9jB4Xg3...|QtXXRBbj3TfTzAR5d...|          1.0|            3.0|            1.0|   0.0| 0.0|  0.0|0.09090909090909091|\n",
      "|tkNIA7b2dctAdqIMZ...|_V6HvKxaFcOF5BpVC...|QtXXRBbj3TfTzAR5d...|          1.0|            3.0|            1.0|   1.0| 0.0|  0.0|0.09090909090909091|\n",
      "|DVvLxskv7drqo3I1a...|Sbv16xQcM_DFLv3eh...|1-eTooyYzRvnSrfwL...|          5.0|            4.0|            4.5|   0.0| 0.0|  0.0| 0.2727272727272727|\n",
      "|5vBAkJY8eR5-oZpE6...|wMsy-LOjrpSg-tbnl...|1-eTooyYzRvnSrfwL...|          5.0|            4.0|            4.5|   2.0| 0.0|  0.0| 0.2727272727272727|\n",
      "|ruRxwd4Eojt_pmj3z...|px2ZZOPzA8-xG_VhE...|e3fjKwDvt7Owq4neD...|          1.0|           3.25|            1.5|   0.0| 0.0|  0.0|0.18181818181818182|\n",
      "|A8qfpn5a5nPcIuE26...|LTlCaCGZE14GuaUXU...|OELlLQMDC3xk0hw5d...|          5.0|            4.2|            5.0|   0.0| 0.0|  0.0|                0.0|\n",
      "|ASoPsQffOVdEoXOgd...|nCrAPCA_8T82iKgIW...|OELlLQMDC3xk0hw5d...|          1.0|            4.2|            4.5|   1.0| 0.0|  0.0|                0.0|\n",
      "|7q7_bruxMeP4fhNOx...|3SYfJHV7EEY1BYJtp...|OELlLQMDC3xk0hw5d...|          1.0|            4.2|            1.5|   1.0| 0.0|  0.0|                0.0|\n",
      "|tWaJ7k7Zw_mWUUnrg...|IVKVk7ZAPdQi6S40U...|OELlLQMDC3xk0hw5d...|          5.0|            4.2|            4.5|   0.0| 0.0|  0.0|                0.0|\n",
      "|0Xw0xqgYJNBpI9Ln2...|HZrvNH7VTHUDcYqwF...|OELlLQMDC3xk0hw5d...|          5.0|            4.2|            4.0|   3.0| 1.0|  1.0|                0.0|\n",
      "|X1SXw2-MFA9rdLVg2...|LTlCaCGZE14GuaUXU...|lNJaqRXRpHuOHPgPi...|          5.0|            5.0|            5.0|   2.0| 0.0|  0.0|                0.0|\n",
      "|7w2wpLM3qb9A2MVl2...|LTlCaCGZE14GuaUXU...|Nt_jTjBiwf_SzULAl...|          5.0|            5.0|            5.0|   0.0| 1.0|  0.0|                0.0|\n",
      "|SWz5RI4XaPCYOovc2...|RCmF00iDVG2yOOXFe...|Nt_jTjBiwf_SzULAl...|          5.0|            5.0|            5.0|   0.0| 0.0|  0.0|                0.0|\n",
      "|Vg9eiXqoXQOevMKBM...|1uwlVWxwGU248Jayv...|Nt_jTjBiwf_SzULAl...|          5.0|            5.0|            4.5|   0.0| 0.0|  0.0|                0.0|\n",
      "|GQ1jLKw8VAoTr5YTE...|LTlCaCGZE14GuaUXU...|Aw_UhDd-3IDCPu9yb...|          5.0|            5.0|            5.0|   0.0| 0.0|  0.0|0.36363636363636365|\n",
      "|XdVCSC7u-ySsUl4JQ...|2PA6vbWPOdKyBvz8U...|Aw_UhDd-3IDCPu9yb...|          5.0|            5.0|            5.0|   0.0| 0.0|  0.0|0.36363636363636365|\n",
      "|XxxJ7_ksL1FxcAIkE...|LTlCaCGZE14GuaUXU...|PlMY05d3AGDb42qar...|          5.0|            5.0|            5.0|   1.0| 0.0|  0.0|                0.0|\n",
      "|TSLP7yh_laNyIsNBB...|LTlCaCGZE14GuaUXU...|Cq0FaaEEIJgPjKbGd...|          5.0|            5.0|            5.0|   0.0| 0.0|  0.0|                0.0|\n",
      "|llnSTHnXQ-qGpnUuX...|LTlCaCGZE14GuaUXU...|XnuuGtEl7E8syck0Q...|          5.0|           4.52|            5.0|   3.0| 2.0|  2.0|               10.0|\n",
      "|b1IoFNSsHrwCyGESS...|zoODlH40edpJYLPLk...|XnuuGtEl7E8syck0Q...|          5.0|           4.52|            4.5|   1.0| 1.0|  0.0|               10.0|\n",
      "|mx4ZhbccKNdAluev8...|jt9O4tqBb-a7encP9...|XnuuGtEl7E8syck0Q...|          5.0|           4.52|            5.0|   2.0| 1.0|  0.0|               10.0|\n",
      "|zAc3osvGWdMxxwzoh...|5LNZ67Yw9RD6nf4_U...|XnuuGtEl7E8syck0Q...|          5.0|           4.52|            4.0|   8.0| 6.0|  5.0|               10.0|\n",
      "|blSnU7Ov-Zj4MwBzP...|LTlCaCGZE14GuaUXU...|NZBNE3pjlJDibe_LJ...|          5.0|           3.58|            5.0|   0.0| 0.0|  0.0| 0.2727272727272727|\n",
      "|sVilaekark0_jlT75...|qh5dTNXritViyuqd_...|NZBNE3pjlJDibe_LJ...|          5.0|           3.58|            5.0|   5.0| 0.0|  0.0| 0.2727272727272727|\n",
      "|ooVqZTbrD_BOuOZxL...|LTlCaCGZE14GuaUXU...|WKzh-RxI1wdZX-Nuf...|          5.0|           4.27|            5.0|   1.0| 0.0|  0.0|0.09090909090909091|\n",
      "|st5nk11UD4M_YyY7x...|FTRuQkWwQqtf9J_TT...|8bKpyXdiYF3ZKIB3Q...|          4.0|           3.49|            3.0|   1.0| 1.0|  1.0| 17.181818181818183|\n",
      "|IkL85pSR8FsZ86mGB...|TDtggQc6j_HjmQXS5...|lnFEQ0QNucQEd1n76...|          4.0|           3.68|            3.5|   0.0| 0.0|  1.0|0.18181818181818182|\n",
      "|vv0oXYlKAZRVFyMCO...|3HVxkz03TS_ssJ7j3...|Q9mA60HnY87C1TW5k...|          5.0|           4.02|            4.0|   1.0| 3.0|  4.0| 424.72727272727275|\n",
      "|DfB8wKX6gO_gpQLrc...|98YzjvO45DRRvqrNv...|Q9mA60HnY87C1TW5k...|          3.0|           4.02|            2.5|   1.0| 1.0|  0.0| 424.72727272727275|\n",
      "|jW-pcPmYu4q-SFs2z...|4vHm-szf4WUn77MbJ...|Q9mA60HnY87C1TW5k...|          5.0|           4.02|            3.5|   8.0| 4.0|  2.0| 424.72727272727275|\n",
      "|4dWUkdEYotjAbR1IQ...|TKJkLEWe53iNYwl-B...|Q9mA60HnY87C1TW5k...|          4.0|           4.02|            3.5|   6.0| 9.0|  5.0| 424.72727272727275|\n",
      "|6bk48m8wQCwZvAq2d...|whF3fiWey-GJLzmX3...|Q9mA60HnY87C1TW5k...|          5.0|           4.02|            4.5|   2.0| 3.0|  7.0| 424.72727272727275|\n",
      "|9u_itIe877VSNO-89...|Y7oOB-c1CpgaN_3vY...|Q9mA60HnY87C1TW5k...|          5.0|           4.02|            5.0|   5.0| 5.0|  1.0| 424.72727272727275|\n",
      "|W8dhwaWzulRmOJfSj...|J0O7KtzHsEiApzXBQ...|Q9mA60HnY87C1TW5k...|          3.0|           4.02|            3.0|   6.0| 5.0|  5.0| 424.72727272727275|\n",
      "|kQ5qY6GzLgaIHDXNx...|C-JdFdmF130R53GOJ...|Q9mA60HnY87C1TW5k...|          4.0|           4.02|            4.0|   7.0| 8.0|  1.0| 424.72727272727275|\n",
      "|-HIM6nPD8EW20fJhi...|druYY2REuf5_0Rd82...|Q9mA60HnY87C1TW5k...|          5.0|           4.02|            4.5|   5.0| 5.0|  2.0| 424.72727272727275|\n",
      "|ZHLEJt-H2sYO7FI4u...|f_rkKVZAGBLp5zYl2...|Q9mA60HnY87C1TW5k...|          2.0|           4.02|            2.5|   3.0| 2.0|  5.0| 424.72727272727275|\n",
      "|vZ83BaBWji3YodUZW...|imhibWA4C4M7drQSe...|Q9mA60HnY87C1TW5k...|          5.0|           4.02|            4.0|   4.0| 7.0|  2.0| 424.72727272727275|\n",
      "|Izz62hGbRx7FsTJ7u...|iOER_Xnsz_X3WWRd0...|Q9mA60HnY87C1TW5k...|          3.0|           4.02|            1.5|   1.0| 2.0|  3.0| 424.72727272727275|\n",
      "|K_ifHNdDOFw34Qjk5...|ZgGg7frEjgmNMdIrR...|Q9mA60HnY87C1TW5k...|          4.0|           4.02|            3.5|  14.0|18.0|  5.0| 424.72727272727275|\n",
      "|0JnpbdEBQQBsmiSow...|9NSu4CVgcE7CStD57...|Q9mA60HnY87C1TW5k...|          3.0|           4.02|            3.5|   1.0| 1.0|  3.0| 424.72727272727275|\n",
      "|_Hs5-gaQ9kyPiNcxy...|qjR2GVxWnRAHcam6D...|Q9mA60HnY87C1TW5k...|          3.0|           4.02|            3.0|   3.0| 6.0|  4.0| 424.72727272727275|\n",
      "|n_Z6jf4m33XU1An1p...|QJ89UIx2lhDiiEz7R...|Q9mA60HnY87C1TW5k...|          2.0|           4.02|            1.5|   3.0| 0.0|  3.0| 424.72727272727275|\n",
      "|_PNfczihPJnZI6s96...|c0mqmFUNQKE0APAF1...|Q9mA60HnY87C1TW5k...|          5.0|           4.02|            3.5|   2.0| 2.0|  5.0| 424.72727272727275|\n",
      "|HUsE8uJh6x6fOnhbU...|bxwZrJ58a0NoNI4ch...|Q9mA60HnY87C1TW5k...|          3.0|           4.02|            3.0|   4.0| 5.0|  1.0| 424.72727272727275|\n",
      "|h4TAD6XdMezDg0jQO...|C46F7dUN4V8ihdlSO...|Q9mA60HnY87C1TW5k...|          5.0|           4.02|            4.5|   9.0|11.0|  3.0| 424.72727272727275|\n",
      "|AcUn6QvV3QnqO9ond...|KEY-gRZBoj8eO9jPY...|Q9mA60HnY87C1TW5k...|          5.0|           4.02|            4.0|   3.0| 2.0|  2.0| 424.72727272727275|\n",
      "|yArjfzDd55xO0vTwJ...|xLifcMUnjA8cVB8AN...|Q9mA60HnY87C1TW5k...|          4.0|           4.02|            3.5|   5.0| 4.0|  4.0| 424.72727272727275|\n",
      "|0PiwfyWN5WODpgQuk...|LYuY6kXhZzFtxR51e...|Q9mA60HnY87C1TW5k...|          5.0|           4.02|            4.5|   5.0| 6.0|  0.0| 424.72727272727275|\n",
      "|B8_IXOMexkbdyIF7J...|zsDR8jQrBFonhXPYa...|Q9mA60HnY87C1TW5k...|          5.0|           4.02|            4.5|   0.0| 2.0|  0.0| 424.72727272727275|\n",
      "|xY1VJaXhiObbFcRRR...|M7FOXsuEuRbwEfxUr...|Q9mA60HnY87C1TW5k...|          3.0|           4.02|            3.0|   2.0| 3.0|  0.0| 424.72727272727275|\n",
      "|lv5wOd59CjaiToWKJ...|VgBaojouH9sJThnyy...|Q9mA60HnY87C1TW5k...|          5.0|           4.02|            5.0|   0.0| 1.0|  1.0| 424.72727272727275|\n",
      "|XyO_NNWlnJINaK2fs...|0c7p8fyiZP31gJJgd...|Q9mA60HnY87C1TW5k...|          5.0|           4.02|            4.0|   6.0| 3.0|  5.0| 424.72727272727275|\n",
      "|dnp3V7ARnB9B8iHlX...|oPkfgVr_gNczmZMFr...|Q9mA60HnY87C1TW5k...|          5.0|           4.02|            4.5|  11.0|10.0|  4.0| 424.72727272727275|\n",
      "|htI0U7c5T_jLtvkX7...|KMRN-gUi2A42GHvsF...|Q9mA60HnY87C1TW5k...|          5.0|           4.02|            3.0|   7.0|12.0|  5.0| 424.72727272727275|\n",
      "|bOmxZtQNPoeZi34Gl...|9fIGm1QupHl2NdekQ...|Q9mA60HnY87C1TW5k...|          4.0|           4.02|            4.0|  11.0|15.0|  7.0| 424.72727272727275|\n",
      "|T2bEd5OxxTGNR9p5G...|1tZzp8_UcB-h38RtG...|Q9mA60HnY87C1TW5k...|          5.0|           4.02|            3.0|   0.0| 0.0|  0.0| 424.72727272727275|\n",
      "|4OrTslmClsUsQ8Psv...|HToSpEtu0pxzcRuaI...|Q9mA60HnY87C1TW5k...|          5.0|           4.02|            4.5|  10.0| 8.0|  2.0| 424.72727272727275|\n",
      "|HYIp9ZQ5vOl3VlM3r...|d1NqodSwHT9loXeS7...|Q9mA60HnY87C1TW5k...|          3.0|           4.02|            4.0|   2.0| 2.0|  2.0| 424.72727272727275|\n",
      "|KOJX6EcnxMw_emNCb...|lR048uWXUYOhk2iPe...|Q9mA60HnY87C1TW5k...|          2.0|           4.02|            2.5|   3.0| 3.0|  7.0| 424.72727272727275|\n",
      "|XBRuQstX7FPbhvddO...|UIwXivZKMxdQwG7l_...|Q9mA60HnY87C1TW5k...|          1.0|           4.02|            2.0|   0.0| 0.0|  9.0| 424.72727272727275|\n",
      "|lgzxdXThcSxlH5UVa...|l9ABoPi9j_pH9588t...|Q9mA60HnY87C1TW5k...|          5.0|           4.02|            4.0|   5.0| 5.0|  3.0| 424.72727272727275|\n",
      "|QiQlUN1Y51aG_gtuI...|5ZQmIhBVOelUScK9U...|Q9mA60HnY87C1TW5k...|          4.0|           4.02|            2.5|   0.0| 0.0|  3.0| 424.72727272727275|\n",
      "|Jl7jutZuj7l4HRvWo...|ZjivUlBDO-LblMIdQ...|Q9mA60HnY87C1TW5k...|          4.0|           4.02|            3.5|   5.0| 3.0|  1.0| 424.72727272727275|\n",
      "|mCFuZ744BUVe0vbre...|WdkbR9X-xWX3e1COX...|Q9mA60HnY87C1TW5k...|          5.0|           4.02|            4.5|   6.0| 6.0|  4.0| 424.72727272727275|\n",
      "|x7np-6-5rBEPr7Ifx...|PNiH-BJRo2STl6bd5...|Q9mA60HnY87C1TW5k...|          4.0|           4.02|            3.0|   5.0| 4.0|  4.0| 424.72727272727275|\n",
      "|9_lq1_Z9cmc37YuZq...|ZVSGswtLoZLAH9gzR...|Q9mA60HnY87C1TW5k...|          3.0|           4.02|            3.0|   8.0| 3.0|  1.0| 424.72727272727275|\n",
      "|m8Eucy3ZZH-MpKvuW...|7PHMqeH3ypMtmYVV9...|Q9mA60HnY87C1TW5k...|          2.0|           4.02|            1.5|   5.0| 5.0|  4.0| 424.72727272727275|\n",
      "|4eo56QQIWOmqxbZZQ...|B7crzLt3Cmq2Uy3JO...|Q9mA60HnY87C1TW5k...|          4.0|           4.02|            3.5|  12.0|13.0|  6.0| 424.72727272727275|\n",
      "|JaM7PFYOCd8EgeiTP...|4nct8XhcC1Px7En-O...|Q9mA60HnY87C1TW5k...|          4.0|           4.02|            2.5|   1.0| 0.0|  0.0| 424.72727272727275|\n",
      "|wev7tyn6K_GC4I50Y...|OFJssYP5-HpAfujsS...|Q9mA60HnY87C1TW5k...|          1.0|           4.02|            2.5|   6.0| 6.0|  7.0| 424.72727272727275|\n",
      "|Ixf13Kl3P3VHvR_cs...|QV-01NzTQk3LfI2tP...|Q9mA60HnY87C1TW5k...|          5.0|           4.02|            5.0|   2.0| 6.0|  0.0| 424.72727272727275|\n",
      "|pXSRLuedT7lZHVIh5...|jSm10odmxWoEs0l2C...|Q9mA60HnY87C1TW5k...|          5.0|           4.02|            2.5|   1.0| 2.0|  4.0| 424.72727272727275|\n",
      "|Xfl_KpAKtvbWSXPb3...|nKcBd-ninGXMDCBQ3...|Q9mA60HnY87C1TW5k...|          3.0|           4.02|            3.5|   2.0| 2.0|  0.0| 424.72727272727275|\n",
      "|jybPDIrV6qPw-C6iq...|-9dmhyBvepc08KPEH...|Q9mA60HnY87C1TW5k...|          4.0|           4.02|            4.0|   6.0| 6.0|  5.0| 424.72727272727275|\n",
      "|ayZwzkM13ow6ogl_6...|7jEs2CVAKu6AhTGi0...|Q9mA60HnY87C1TW5k...|          5.0|           4.02|            3.5|   2.0| 2.0|  0.0| 424.72727272727275|\n",
      "|CTxaQ2-84H94F3BjW...|maS4-kCcNIhBG3EZc...|Q9mA60HnY87C1TW5k...|          5.0|           4.02|            4.0|   4.0| 3.0|  1.0| 424.72727272727275|\n",
      "|9XeO4-lBcZIvFYw5h...|15tpk1N3mU9iyjsFp...|Q9mA60HnY87C1TW5k...|          5.0|           4.02|            4.0|   6.0| 4.0|  2.0| 424.72727272727275|\n",
      "|iUqaGHj7qmqwPYvnK...|Sg2l7S_huzkRLmk2N...|Q9mA60HnY87C1TW5k...|          4.0|           4.02|            3.5|   4.0| 0.0|  2.0| 424.72727272727275|\n",
      "|Rm73LnqqzECdKw56Q...|IIzeaav_cM8wivult...|Q9mA60HnY87C1TW5k...|          3.0|           4.02|            2.5|   2.0| 0.0|  4.0| 424.72727272727275|\n",
      "|-QmuIQAr1gMgWIiCX...|e2r5_zNwNu4kVBnpF...|Q9mA60HnY87C1TW5k...|          4.0|           4.02|            3.5|   8.0| 8.0|  3.0| 424.72727272727275|\n",
      "|u-xcFpdqQ2GB2fB6H...|0C2rCyby1NpNVyhTV...|Q9mA60HnY87C1TW5k...|          4.0|           4.02|            2.5|   1.0| 1.0|  1.0| 424.72727272727275|\n",
      "|s62lQ91qIrOfC-VRX...|2sslQMFDlzk2yMcRG...|Q9mA60HnY87C1TW5k...|          5.0|           4.02|            3.0|   7.0| 7.0|  2.0| 424.72727272727275|\n",
      "|sDAD-Hg59iGCXEjyX...|vaA4LvE8N18KLYLag...|Q9mA60HnY87C1TW5k...|          4.0|           4.02|            3.5|   2.0| 1.0|  1.0| 424.72727272727275|\n",
      "|B42DLushwdPckYGaq...|0cG8w7jxNAnkX8duZ...|Q9mA60HnY87C1TW5k...|          4.0|           4.02|            4.0|   4.0| 4.0|  1.0| 424.72727272727275|\n",
      "|HsEmefIJoZsBr0AAF...|-SlPWO0rh7mOUtAWo...|Q9mA60HnY87C1TW5k...|          4.0|           4.02|            4.5|   7.0| 8.0|  3.0| 424.72727272727275|\n",
      "|gj-eBYpqFfSBoVTnP...|-kG0N8sBhBotMbu0K...|Q9mA60HnY87C1TW5k...|          3.0|           4.02|            3.0|   5.0| 5.0|  6.0| 424.72727272727275|\n",
      "|gev3kbl5sHUIJjF-s...|I6suYpV7mM39v_M65...|Q9mA60HnY87C1TW5k...|          5.0|           4.02|            4.5|   8.0| 3.0|  3.0| 424.72727272727275|\n",
      "|fX0GTrpzNhE_1G8BS...|yGgpH8mY8INpGLq9a...|Q9mA60HnY87C1TW5k...|          4.0|           4.02|            4.0|   0.0| 1.0|  4.0| 424.72727272727275|\n",
      "|Ops9fIMy7_0q5yL82...|EwjOe8ITjL71_xG6v...|Q9mA60HnY87C1TW5k...|          5.0|           4.02|            4.5|   3.0| 4.0|  3.0| 424.72727272727275|\n",
      "|i0z7CZmQ6Xb4ub176...|1L_bnL4xm-Z05k_kx...|Q9mA60HnY87C1TW5k...|          5.0|           4.02|            4.5|   9.0| 5.0|  1.0| 424.72727272727275|\n",
      "|E-4NB2G0f1JpMVBPu...|a5MPO6tqRSynOgbNK...|Q9mA60HnY87C1TW5k...|          3.0|           4.02|            3.5|   2.0| 3.0|  3.0| 424.72727272727275|\n",
      "+--------------------+--------------------+--------------------+-------------+---------------+---------------+------+----+-----+-------------------+\n",
      "only showing top 100 rows\n",
      "\n"
     ]
    }
   ],
   "source": [
    "df_ratings.show(100)"
   ]
  },
  {
   "cell_type": "markdown",
   "metadata": {},
   "source": [
    "## Step: Split the dataframe into train, validate and test. Apply Linear Regression model"
   ]
  },
  {
   "cell_type": "code",
   "execution_count": 58,
   "metadata": {
    "collapsed": true
   },
   "outputs": [],
   "source": [
    "#Creating training,validation and test datasets\n",
    "data_training, data_validation, data_testing = df_ratings.randomSplit([0.6, 0.3, 0.1], seed=0)"
   ]
  },
  {
   "cell_type": "code",
   "execution_count": 59,
   "metadata": {
    "collapsed": false
   },
   "outputs": [],
   "source": [
    "#Vectorizing different variables\n",
    "va_1 = feature.VectorAssembler(inputCols=[], outputCol = 'features')\n",
    "va_2 = feature.VectorAssembler(inputCols=['user_avg_rating','business_rating'], outputCol = 'features')\n",
    "va_3 = feature.VectorAssembler(inputCols=['useful','funny','cool','compliment_average'], outputCol = 'features')\n",
    "va_4 = feature.VectorAssembler(inputCols=['user_avg_rating','cool','funny','useful','compliment_average'],\\\n",
    "                               outputCol = 'features')\n",
    "va_5 = feature.VectorAssembler(inputCols=['business_rating','cool','funny','useful','compliment_average'],\\\n",
    "                               outputCol = 'features')\n",
    "va_6 = feature.VectorAssembler(inputCols=['user_avg_rating'],\\\n",
    "                               outputCol = 'features')\n",
    "va_7 = feature.VectorAssembler(inputCols=['business_rating'],\\\n",
    "                               outputCol = 'features')\n",
    "va_8 = feature.VectorAssembler(inputCols=['compliment_average'],\\\n",
    "                               outputCol = 'features')\n",
    "va_9 = feature.VectorAssembler(inputCols=['user_avg_rating','business_rating','cool','funny','useful','compliment_average'],\\\n",
    "                               outputCol = 'features')"
   ]
  },
  {
   "cell_type": "code",
   "execution_count": 60,
   "metadata": {
    "collapsed": true
   },
   "outputs": [],
   "source": [
    "#defining linear regression model\n",
    "lr = regression.LinearRegression(featuresCol='features', labelCol='review_rating')"
   ]
  },
  {
   "cell_type": "code",
   "execution_count": 62,
   "metadata": {
    "collapsed": false,
    "scrolled": false
   },
   "outputs": [],
   "source": [
    "#fitting the pipeline on trained dataset\n",
    "p_1 = Pipeline(stages=[va_1, lr]).fit(data_training)\n",
    "p_2 = Pipeline(stages=[va_2, lr]).fit(data_training)\n",
    "p_3 = Pipeline(stages=[va_3, lr]).fit(data_training)\n",
    "p_4 = Pipeline(stages=[va_4, lr]).fit(data_training)\n",
    "p_5 = Pipeline(stages=[va_5, lr]).fit(data_training)\n",
    "p_6 = Pipeline(stages=[va_6, lr]).fit(data_training)\n",
    "p_7 = Pipeline(stages=[va_7, lr]).fit(data_training)\n",
    "p_8 = Pipeline(stages=[va_8, lr]).fit(data_training)\n",
    "p_9 = Pipeline(stages=[va_9, lr]).fit(data_training)"
   ]
  },
  {
   "cell_type": "code",
   "execution_count": 63,
   "metadata": {
    "collapsed": true
   },
   "outputs": [],
   "source": [
    "#Defning Mean Square Error varible\n",
    "MSE = fn.avg((fn.col('prediction') - fn.col('review_rating'))**2)"
   ]
  },
  {
   "cell_type": "code",
   "execution_count": 64,
   "metadata": {
    "collapsed": false
   },
   "outputs": [],
   "source": [
    "#checking MSE for each model\n",
    "#p_1.transform(data_train).select(MSE.alias('p1_train_MSE')).show()\n",
    "#p_2.transform(data_train).select(MSE.alias('p2_train_MSE')).show()\n",
    "#p_3.transform(data_train).select(MSE.alias('p3_train_MSE')).show()\n",
    "#p_4.transform(data_train).select(MSE.alias('p4_train_MSE')).show()\n",
    "#p_5.transform(data_train).select(MSE.alias('p5_train_MSE')).show()\n",
    "#p_6.transform(data_train).select(MSE.alias('p6_train_MSE')).show()"
   ]
  },
  {
   "cell_type": "code",
   "execution_count": 65,
   "metadata": {
    "collapsed": false,
    "scrolled": false
   },
   "outputs": [
    {
     "name": "stdout",
     "output_type": "stream",
     "text": [
      "+------------------+\n",
      "|        p1_val_MSE|\n",
      "+------------------+\n",
      "|2.4798126440505888|\n",
      "+------------------+\n",
      "\n",
      "+------------------+\n",
      "|        p2_val_MSE|\n",
      "+------------------+\n",
      "|1.1929917803273309|\n",
      "+------------------+\n",
      "\n",
      "+------------------+\n",
      "|        p3_val_MSE|\n",
      "+------------------+\n",
      "|2.3059850572461795|\n",
      "+------------------+\n",
      "\n",
      "+------------------+\n",
      "|        p4_val_MSE|\n",
      "+------------------+\n",
      "|1.5551060127323897|\n",
      "+------------------+\n",
      "\n",
      "+-----------------+\n",
      "|       p5_val_MSE|\n",
      "+-----------------+\n",
      "|1.479598526857732|\n",
      "+-----------------+\n",
      "\n",
      "+-----------------+\n",
      "|       p6_val_MSE|\n",
      "+-----------------+\n",
      "|1.650384943139921|\n",
      "+-----------------+\n",
      "\n",
      "+------------------+\n",
      "|        p7_val_MSE|\n",
      "+------------------+\n",
      "|1.5474097536441018|\n",
      "+------------------+\n",
      "\n",
      "+-----------------+\n",
      "|       p8_val_MSE|\n",
      "+-----------------+\n",
      "|2.479770187407096|\n",
      "+-----------------+\n",
      "\n",
      "+-----------------+\n",
      "|       p9_val_MSE|\n",
      "+-----------------+\n",
      "|1.143876636061509|\n",
      "+-----------------+\n",
      "\n"
     ]
    }
   ],
   "source": [
    "#calculating MSE for each model on Validation dataset\n",
    "p_1.transform(data_validation).select(MSE.alias('p1_val_MSE')).show()\n",
    "p_2.transform(data_validation).select(MSE.alias('p2_val_MSE')).show()\n",
    "p_3.transform(data_validation).select(MSE.alias('p3_val_MSE')).show()\n",
    "p_4.transform(data_validation).select(MSE.alias('p4_val_MSE')).show()\n",
    "p_5.transform(data_validation).select(MSE.alias('p5_val_MSE')).show()\n",
    "p_6.transform(data_validation).select(MSE.alias('p6_val_MSE')).show()\n",
    "p_7.transform(data_validation).select(MSE.alias('p7_val_MSE')).show()\n",
    "p_8.transform(data_validation).select(MSE.alias('p8_val_MSE')).show()\n",
    "p_9.transform(data_validation).select(MSE.alias('p9_val_MSE')).show()\n",
    "\n",
    "#print('p1_val_MSE = ' + str(p1_val_MSE))\n",
    "#print('p2_val_MSE = ' + str(p2_val_MSE))\n",
    "#print('p3_val_MSE = ' + str(p3_val_MSE))\n",
    "#print('p4_val_MSE = ' + str(p4_val_MSE))\n",
    "#print('p5_val_MSE = ' + str(p5_val_MSE))\n",
    "#print('p6_val_MSE = ' + str(p6_val_MSE))"
   ]
  },
  {
   "cell_type": "code",
   "execution_count": 23,
   "metadata": {
    "collapsed": false
   },
   "outputs": [],
   "source": [
    "#Model 9 gas the lowest MSE in validation dataset\n",
    "#Therefore we will be using model 9 in the testing dataset to fetch the RMSE"
   ]
  },
  {
   "cell_type": "code",
   "execution_count": 66,
   "metadata": {
    "collapsed": false
   },
   "outputs": [
    {
     "name": "stdout",
     "output_type": "stream",
     "text": [
      "RMSE = 1.5690181398723912\n"
     ]
    }
   ],
   "source": [
    "RMSE = p_1.transform(data_testing).select(fn.sqrt(MSE).alias('RMSE')).first().RMSE\n",
    "print('RMSE = ' + str(RMSE))"
   ]
  },
  {
   "cell_type": "code",
   "execution_count": 67,
   "metadata": {
    "collapsed": false
   },
   "outputs": [
    {
     "name": "stdout",
     "output_type": "stream",
     "text": [
      "RMSE = 1.0641402017437442\n"
     ]
    }
   ],
   "source": [
    "RMSE = p_9.transform(data_testing).select(fn.sqrt(MSE).alias('RMSE')).first().RMSE\n",
    "print('RMSE = ' + str(RMSE))"
   ]
  },
  {
   "cell_type": "code",
   "execution_count": null,
   "metadata": {
    "collapsed": true
   },
   "outputs": [],
   "source": [
    "#Now, we predict the value of RMSE on the whole dataset"
   ]
  },
  {
   "cell_type": "code",
   "execution_count": 117,
   "metadata": {
    "collapsed": false
   },
   "outputs": [
    {
     "name": "stdout",
     "output_type": "stream",
     "text": [
      "+--------------------+--------------------+--------------------+-------------+------------------+\n",
      "|           review_id|         business_id|             user_id|review_rating|        prediction|\n",
      "+--------------------+--------------------+--------------------+-------------+------------------+\n",
      "|xqFpx6FkEpjow6JAh...|XqDeiaPSG0-fBbOXD...|efaUGV60LFI4v6bWP...|          5.0|3.9390636747457615|\n",
      "|fpq7iwxvRdG9vssv0...|zC7ldegnDoXg-Wln5...|efaUGV60LFI4v6bWP...|          5.0| 4.977184823738148|\n",
      "|jDOVgU7ICogRtpLrX...|O7RMINvCcGVNTMlD7...|efaUGV60LFI4v6bWP...|          5.0| 4.633710670291957|\n",
      "|NEP1fCrzA7i50c875...|oYwLxROH5RihyFxrd...|hPHsKqUwO_RKJNxkB...|          4.0| 4.115774135614004|\n",
      "|2bk0aJ_6Tq87K8WaZ...|MCX_cBs_LUqzuUzd-...|YEiJOtOBBRKEpRuvZ...|          4.0| 5.315453188076173|\n",
      "|SNSNuk3Wj7YDSXLQi...|zOqJqDlWT0CF986D0...|YEiJOtOBBRKEpRuvZ...|          5.0| 4.291093736251701|\n",
      "|u8o4tuv7o7nnrwWyi...|po-05-AGCVxEme-Sb...|YEiJOtOBBRKEpRuvZ...|          5.0|4.8279471786462995|\n",
      "|mry4Y8tz87Guv-M1Y...|Lh03t7LM7R8uKpgyv...|YEiJOtOBBRKEpRuvZ...|          5.0|  5.06785083903433|\n",
      "|Pb_Nlwj5syGswT1Yf...|PycR_Mr5jA9jB4Xg3...|QtXXRBbj3TfTzAR5d...|          1.0|  1.48355811973712|\n",
      "|tkNIA7b2dctAdqIMZ...|_V6HvKxaFcOF5BpVC...|QtXXRBbj3TfTzAR5d...|          1.0|1.3334632552393353|\n",
      "|DVvLxskv7drqo3I1a...|Sbv16xQcM_DFLv3eh...|1-eTooyYzRvnSrfwL...|          5.0| 4.578496107485955|\n",
      "|5vBAkJY8eR5-oZpE6...|wMsy-LOjrpSg-tbnl...|1-eTooyYzRvnSrfwL...|          5.0| 4.278306378490385|\n",
      "|ruRxwd4Eojt_pmj3z...|px2ZZOPzA8-xG_VhE...|e3fjKwDvt7Owq4neD...|          1.0|1.9996925316979188|\n",
      "|A8qfpn5a5nPcIuE26...|LTlCaCGZE14GuaUXU...|OELlLQMDC3xk0hw5d...|          5.0| 5.060056438921256|\n",
      "|ASoPsQffOVdEoXOgd...|nCrAPCA_8T82iKgIW...|OELlLQMDC3xk0hw5d...|          1.0|  4.56648742097728|\n",
      "|7q7_bruxMeP4fhNOx...|3SYfJHV7EEY1BYJtp...|OELlLQMDC3xk0hw5d...|          1.0| 2.505642500300132|\n",
      "|tWaJ7k7Zw_mWUUnrg...|IVKVk7ZAPdQi6S40U...|OELlLQMDC3xk0hw5d...|          5.0| 4.716582285475065|\n",
      "|0Xw0xqgYJNBpI9Ln2...|HZrvNH7VTHUDcYqwF...|OELlLQMDC3xk0hw5d...|          5.0|4.0652197143794915|\n",
      "|X1SXw2-MFA9rdLVg2...|LTlCaCGZE14GuaUXU...|lNJaqRXRpHuOHPgPi...|          5.0| 5.312344144479734|\n",
      "|7w2wpLM3qb9A2MVl2...|LTlCaCGZE14GuaUXU...|Nt_jTjBiwf_SzULAl...|          5.0| 5.852437533863334|\n",
      "|SWz5RI4XaPCYOovc2...|RCmF00iDVG2yOOXFe...|Nt_jTjBiwf_SzULAl...|          5.0| 5.612533873475304|\n",
      "|Vg9eiXqoXQOevMKBM...|1uwlVWxwGU248Jayv...|Nt_jTjBiwf_SzULAl...|          5.0| 5.269059720029112|\n",
      "|GQ1jLKw8VAoTr5YTE...|LTlCaCGZE14GuaUXU...|Aw_UhDd-3IDCPu9yb...|          5.0| 5.612578114341173|\n",
      "|XdVCSC7u-ySsUl4JQ...|2PA6vbWPOdKyBvz8U...|Aw_UhDd-3IDCPu9yb...|          5.0| 5.612578114341173|\n",
      "|XxxJ7_ksL1FxcAIkE...|LTlCaCGZE14GuaUXU...|PlMY05d3AGDb42qar...|          5.0| 5.462439008977519|\n",
      "|TSLP7yh_laNyIsNBB...|LTlCaCGZE14GuaUXU...|Cq0FaaEEIJgPjKbGd...|          5.0| 5.612533873475304|\n",
      "|llnSTHnXQ-qGpnUuX...|LTlCaCGZE14GuaUXU...|XnuuGtEl7E8syck0Q...|          5.0|  5.11677179474887|\n",
      "|b1IoFNSsHrwCyGESS...|zoODlH40edpJYLPLk...|XnuuGtEl7E8syck0Q...|          5.0|5.0285986789983355|\n",
      "|mx4ZhbccKNdAluev8...|jt9O4tqBb-a7encP9...|XnuuGtEl7E8syck0Q...|          5.0| 5.221977967946742|\n",
      "|zAc3osvGWdMxxwzoh...|5LNZ67Yw9RD6nf4_U...|XnuuGtEl7E8syck0Q...|          5.0|  4.34644135328751|\n",
      "|blSnU7Ov-Zj4MwBzP...|LTlCaCGZE14GuaUXU...|NZBNE3pjlJDibe_LJ...|          5.0|4.6319196077912705|\n",
      "|sVilaekark0_jlT75...|qh5dTNXritViyuqd_...|NZBNE3pjlJDibe_LJ...|          5.0|3.8814452853023482|\n",
      "|ooVqZTbrD_BOuOZxL...|LTlCaCGZE14GuaUXU...|WKzh-RxI1wdZX-Nuf...|          5.0| 4.958314410163417|\n",
      "|st5nk11UD4M_YyY7x...|FTRuQkWwQqtf9J_TT...|8bKpyXdiYF3ZKIB3Q...|          4.0|3.1902277942282877|\n",
      "|IkL85pSR8FsZ86mGB...|TDtggQc6j_HjmQXS5...|lnFEQ0QNucQEd1n76...|          4.0| 3.573038282011426|\n",
      "|vv0oXYlKAZRVFyMCO...|3HVxkz03TS_ssJ7j3...|Q9mA60HnY87C1TW5k...|          5.0| 4.480060219079695|\n",
      "|DfB8wKX6gO_gpQLrc...|98YzjvO45DRRvqrNv...|Q9mA60HnY87C1TW5k...|          3.0|3.3598603761412953|\n",
      "|jW-pcPmYu4q-SFs2z...|4vHm-szf4WUn77MbJ...|Q9mA60HnY87C1TW5k...|          5.0|  3.52084064362516|\n",
      "|4dWUkdEYotjAbR1IQ...|TKJkLEWe53iNYwl-B...|Q9mA60HnY87C1TW5k...|          4.0| 4.728026220928704|\n",
      "|6bk48m8wQCwZvAq2d...|whF3fiWey-GJLzmX3...|Q9mA60HnY87C1TW5k...|          5.0| 4.380917054395926|\n",
      "|9u_itIe877VSNO-89...|Y7oOB-c1CpgaN_3vY...|Q9mA60HnY87C1TW5k...|          5.0| 5.338958842389176|\n",
      "|W8dhwaWzulRmOJfSj...|J0O7KtzHsEiApzXBQ...|Q9mA60HnY87C1TW5k...|          3.0|3.4249374259303913|\n",
      "|kQ5qY6GzLgaIHDXNx...|C-JdFdmF130R53GOJ...|Q9mA60HnY87C1TW5k...|          4.0|5.0715317876653145|\n",
      "|-HIM6nPD8EW20fJhi...|druYY2REuf5_0Rd82...|Q9mA60HnY87C1TW5k...|          5.0| 4.897977204398926|\n",
      "|ZHLEJt-H2sYO7FI4u...|f_rkKVZAGBLp5zYl2...|Q9mA60HnY87C1TW5k...|          2.0|2.8120368848134625|\n",
      "|vZ83BaBWji3YodUZW...|imhibWA4C4M7drQSe...|Q9mA60HnY87C1TW5k...|          5.0|  5.18440523622658|\n",
      "|Izz62hGbRx7FsTJ7u...|iOER_Xnsz_X3WWRd0...|Q9mA60HnY87C1TW5k...|          3.0| 2.620293276004766|\n",
      "|K_ifHNdDOFw34Qjk5...|ZgGg7frEjgmNMdIrR...|Q9mA60HnY87C1TW5k...|          4.0| 5.686400248438698|\n",
      "|0JnpbdEBQQBsmiSow...|9NSu4CVgcE7CStD57...|Q9mA60HnY87C1TW5k...|          3.0| 3.754286229401502|\n",
      "|_Hs5-gaQ9kyPiNcxy...|qjR2GVxWnRAHcam6D...|Q9mA60HnY87C1TW5k...|          3.0| 4.212633164355833|\n",
      "|n_Z6jf4m33XU1An1p...|QJ89UIx2lhDiiEz7R...|Q9mA60HnY87C1TW5k...|          2.0|1.8402962262331368|\n",
      "|_PNfczihPJnZI6s96...|c0mqmFUNQKE0APAF1...|Q9mA60HnY87C1TW5k...|          5.0|  3.64908005620363|\n",
      "|HUsE8uJh6x6fOnhbU...|bxwZrJ58a0NoNI4ch...|Q9mA60HnY87C1TW5k...|          3.0| 4.115157093102194|\n",
      "|h4TAD6XdMezDg0jQO...|C46F7dUN4V8ihdlSO...|Q9mA60HnY87C1TW5k...|          5.0|  5.63951222419191|\n",
      "|AcUn6QvV3QnqO9ond...|KEY-gRZBoj8eO9jPY...|Q9mA60HnY87C1TW5k...|          5.0| 4.134981798784213|\n",
      "|yArjfzDd55xO0vTwJ...|xLifcMUnjA8cVB8AN...|Q9mA60HnY87C1TW5k...|          4.0| 3.776110268030396|\n",
      "|0PiwfyWN5WODpgQuk...|LYuY6kXhZzFtxR51e...|Q9mA60HnY87C1TW5k...|          5.0| 5.332895833875074|\n",
      "|B8_IXOMexkbdyIF7J...|zsDR8jQrBFonhXPYa...|Q9mA60HnY87C1TW5k...|          5.0| 5.123755514811875|\n",
      "|xY1VJaXhiObbFcRRR...|M7FOXsuEuRbwEfxUr...|Q9mA60HnY87C1TW5k...|          3.0| 4.033046985865762|\n",
      "|lv5wOd59CjaiToWKJ...|VgBaojouH9sJThnyy...|Q9mA60HnY87C1TW5k...|          5.0| 5.129818523325978|\n",
      "|XyO_NNWlnJINaK2fs...|0c7p8fyiZP31gJJgd...|Q9mA60HnY87C1TW5k...|          5.0| 3.632078412046714|\n",
      "|dnp3V7ARnB9B8iHlX...|oPkfgVr_gNczmZMFr...|Q9mA60HnY87C1TW5k...|          5.0| 5.001911350264251|\n",
      "|htI0U7c5T_jLtvkX7...|KMRN-gUi2A42GHvsF...|Q9mA60HnY87C1TW5k...|          5.0| 4.954168184148818|\n",
      "|bOmxZtQNPoeZi34Gl...|9fIGm1QupHl2NdekQ...|Q9mA60HnY87C1TW5k...|          4.0| 5.565433045126035|\n",
      "|T2bEd5OxxTGNR9p5G...|1tZzp8_UcB-h38RtG...|Q9mA60HnY87C1TW5k...|          5.0| 3.613525733697241|\n",
      "|4OrTslmClsUsQ8Psv...|HToSpEtu0pxzcRuaI...|Q9mA60HnY87C1TW5k...|          5.0|4.8672138630740935|\n",
      "|HYIp9ZQ5vOl3VlM3r...|d1NqodSwHT9loXeS7...|Q9mA60HnY87C1TW5k...|          3.0| 4.285076663281997|\n",
      "|KOJX6EcnxMw_emNCb...|lR048uWXUYOhk2iPe...|Q9mA60HnY87C1TW5k...|          2.0| 2.856925576113376|\n",
      "|XBRuQstX7FPbhvddO...|UIwXivZKMxdQwG7l_...|Q9mA60HnY87C1TW5k...|          1.0|2.0490100659083295|\n",
      "|lgzxdXThcSxlH5UVa...|l9ABoPi9j_pH9588t...|Q9mA60HnY87C1TW5k...|          5.0| 4.456995566408676|\n",
      "|QiQlUN1Y51aG_gtuI...|5ZQmIhBVOelUScK9U...|Q9mA60HnY87C1TW5k...|          4.0|2.9775291266188733|\n",
      "|Jl7jutZuj7l4HRvWo...|ZjivUlBDO-LblMIdQ...|Q9mA60HnY87C1TW5k...|          4.0| 3.828729061274542|\n",
      "|mCFuZ744BUVe0vbre...|WdkbR9X-xWX3e1COX...|Q9mA60HnY87C1TW5k...|          5.0| 4.792771031201054|\n",
      "|x7np-6-5rBEPr7Ifx...|PNiH-BJRo2STl6bd5...|Q9mA60HnY87C1TW5k...|          4.0| 3.432636114584205|\n",
      "|9_lq1_Z9cmc37YuZq...|ZVSGswtLoZLAH9gzR...|Q9mA60HnY87C1TW5k...|          3.0|3.0349703143349966|\n",
      "|m8Eucy3ZZH-MpKvuW...|7PHMqeH3ypMtmYVV9...|Q9mA60HnY87C1TW5k...|          2.0|2.6421173146336594|\n",
      "|4eo56QQIWOmqxbZZQ...|B7crzLt3Cmq2Uy3JO...|Q9mA60HnY87C1TW5k...|          4.0| 4.689564190950058|\n",
      "|JaM7PFYOCd8EgeiTP...|4nct8XhcC1Px7En-O...|Q9mA60HnY87C1TW5k...|          4.0| 3.119956715753265|\n",
      "|wev7tyn6K_GC4I50Y...|OFJssYP5-HpAfujsS...|Q9mA60HnY87C1TW5k...|          1.0|3.1263519637841126|\n",
      "|Ixf13Kl3P3VHvR_cs...|QV-01NzTQk3LfI2tP...|Q9mA60HnY87C1TW5k...|          5.0| 6.126654580814618|\n",
      "|pXSRLuedT7lZHVIh5...|jSm10odmxWoEs0l2C...|Q9mA60HnY87C1TW5k...|          5.0|  3.20973409835309|\n",
      "|Xfl_KpAKtvbWSXPb3...|nKcBd-ninGXMDCBQ3...|Q9mA60HnY87C1TW5k...|          3.0| 4.136617478923923|\n",
      "|jybPDIrV6qPw-C6iq...|-9dmhyBvepc08KPEH...|Q9mA60HnY87C1TW5k...|          4.0|4.3517893932108045|\n",
      "|ayZwzkM13ow6ogl_6...|7jEs2CVAKu6AhTGi0...|Q9mA60HnY87C1TW5k...|          5.0| 4.136617478923923|\n",
      "|CTxaQ2-84H94F3BjW...|maS4-kCcNIhBG3EZc...|Q9mA60HnY87C1TW5k...|          5.0| 4.322298079218518|\n",
      "|9XeO4-lBcZIvFYw5h...|15tpk1N3mU9iyjsFp...|Q9mA60HnY87C1TW5k...|          5.0| 4.164504526066921|\n",
      "|iUqaGHj7qmqwPYvnK...|Sg2l7S_huzkRLmk2N...|Q9mA60HnY87C1TW5k...|          4.0|3.1616054600641768|\n",
      "|Rm73LnqqzECdKw56Q...|IIzeaav_cM8wivult...|Q9mA60HnY87C1TW5k...|          3.0|2.5798319130792446|\n",
      "|-QmuIQAr1gMgWIiCX...|e2r5_zNwNu4kVBnpF...|Q9mA60HnY87C1TW5k...|          4.0| 4.382947800633221|\n",
      "|u-xcFpdqQ2GB2fB6H...|0C2rCyby1NpNVyhTV...|Q9mA60HnY87C1TW5k...|          4.0| 3.262352891597237|\n",
      "|s62lQ91qIrOfC-VRX...|2sslQMFDlzk2yMcRG...|Q9mA60HnY87C1TW5k...|          5.0| 4.047172335840844|\n",
      "|sDAD-Hg59iGCXEjyX...|vaA4LvE8N18KLYLag...|Q9mA60HnY87C1TW5k...|          4.0| 3.799206333991835|\n",
      "|B42DLushwdPckYGaq...|0cG8w7jxNAnkX8duZ...|Q9mA60HnY87C1TW5k...|          4.0| 4.562201739606548|\n",
      "|HsEmefIJoZsBr0AAF...|-SlPWO0rh7mOUtAWo...|Q9mA60HnY87C1TW5k...|          4.0| 5.219990972023388|\n",
      "|gj-eBYpqFfSBoVTnP...|-kG0N8sBhBotMbu0K...|Q9mA60HnY87C1TW5k...|          3.0|3.4775248058841175|\n",
      "|gev3kbl5sHUIJjF-s...|I6suYpV7mM39v_M65...|Q9mA60HnY87C1TW5k...|          5.0| 3.870377805585453|\n",
      "|fX0GTrpzNhE_1G8BS...|yGgpH8mY8INpGLq9a...|Q9mA60HnY87C1TW5k...|          4.0| 4.150347762801419|\n",
      "|Ops9fIMy7_0q5yL82...|EwjOe8ITjL71_xG6v...|Q9mA60HnY87C1TW5k...|          5.0| 4.860755788462406|\n",
      "|i0z7CZmQ6Xb4ub176...|1L_bnL4xm-Z05k_kx...|Q9mA60HnY87C1TW5k...|          5.0| 4.395105230951846|\n",
      "|E-4NB2G0f1JpMVBPu...|a5MPO6tqRSynOgbNK...|Q9mA60HnY87C1TW5k...|          3.0| 4.083998685679777|\n",
      "|42neF2DgOU19I8Kmd...|OIKp-6ObAd-yW-32U...|Q9mA60HnY87C1TW5k...|          4.0| 4.757185295404244|\n",
      "|bzxxt0Mun4wJbsdTE...|adhkOgwEuG_FYctq5...|Q9mA60HnY87C1TW5k...|          5.0| 3.895078138396183|\n",
      "|OGFfV6gR2-B2sNF3a...|asetoBy9YP86ZWAcD...|Q9mA60HnY87C1TW5k...|          5.0| 3.067337922509119|\n",
      "|4lsdNZoRmGmhF9vSZ...|KmSuAocxakOl-zkkD...|Q9mA60HnY87C1TW5k...|          4.0| 4.373249779032532|\n",
      "|mY0LlpDcHLbJdIcbY...|V7Mq8nnbVybdjjlNb...|Q9mA60HnY87C1TW5k...|          3.0|3.8534293940852713|\n",
      "|-nCNLWepIKV7yELs7...|rhdMlNeDd5BN1Ou2E...|Q9mA60HnY87C1TW5k...|          5.0| 4.407648133443951|\n",
      "|m3nPuEG4Nu2FYyQ7Y...|kVEQoRHbbmcUb0FMt...|Q9mA60HnY87C1TW5k...|          4.0|3.4852549078283506|\n",
      "|bTt7px7iJNv7Q6xgQ...|spfVKWaZYdJkwHXSw...|Q9mA60HnY87C1TW5k...|          5.0| 5.715195670107075|\n",
      "|E-mtJDuDztdDwniQC...|daIxv4XqdmUW6SeJO...|Q9mA60HnY87C1TW5k...|          5.0| 5.251117966155386|\n",
      "|ctJsGVtX1XidJGKZh...|eEp7GR7EcUt6XCs8K...|Q9mA60HnY87C1TW5k...|          4.0|3.9958255699292424|\n",
      "|qXHthXeq5dTlniKXa...|p_KC8_d_MQnfJwgzm...|Q9mA60HnY87C1TW5k...|          4.0|   4.0900931074843|\n",
      "|bJNOzE1wpe26mPmtK...|fJO7rAAd_81a6LAqj...|Q9mA60HnY87C1TW5k...|          4.0| 3.366255624172143|\n",
      "|KPsa80PiA-lKaTyEZ...|TAB_NFD7pjjouJUlC...|Q9mA60HnY87C1TW5k...|          4.0|3.9476655183499085|\n",
      "|zveIFDUwZy4FdezIt...|tj5U7HPhndTKMvHbb...|Q9mA60HnY87C1TW5k...|          4.0| 4.292775351935811|\n",
      "|X1uTogM6lwbK4_RGv...|PV1oXOI6U30D0DRaD...|Q9mA60HnY87C1TW5k...|          5.0| 4.382584147826056|\n",
      "|1LhdFwRUAKDMM2zZT...|vgVQFufjuqDaHj19n...|Q9mA60HnY87C1TW5k...|          4.0| 5.116056826158062|\n",
      "|QQpd3g11v4vuhnEUm...|nkfOu2xOnhqHOsW0y...|MbBhClrXyu8-Mk5wW...|          3.0| 3.787265795408029|\n",
      "|h3ICCn3vvv8J-P_ap...|BtG1Zsv2MpEZDEbfX...|MbBhClrXyu8-Mk5wW...|          3.0|3.4437916419618375|\n",
      "|UsOnw2jh-p5ymm4w6...|MuDmP50gdV_NYSP2T...|MbBhClrXyu8-Mk5wW...|          4.0| 3.541299126505896|\n",
      "|l99Kiaa6v9oJM0BCc...|NgkIOCNwgEuF740lf...|MbBhClrXyu8-Mk5wW...|          4.0|2.7491446464156413|\n",
      "|r8NtFAMzpK56rHL9U...|4RNBXjX2kTwpawbmD...|MbBhClrXyu8-Mk5wW...|          5.0| 4.228247433398279|\n",
      "|FZ4rOGUGv2PoWM7Hf...|XlhTovG_AP59XLGBm...|Zk95TMXDx0zMUhYq5...|          4.0|3.3828734940260876|\n",
      "|e34fPgXQjRsgkRY13...|imhibWA4C4M7drQSe...|Zk95TMXDx0zMUhYq5...|          3.0|3.8764425119700636|\n",
      "|Mn68rl3o_4IE-UvXM...|OGRj55hvDgwU7CiTe...|Zk95TMXDx0zMUhYq5...|          3.0| 3.189494205077681|\n",
      "|gx6J75UmmhdQsJQcN...|5IEmInzR6tlsyAuOP...|Zk95TMXDx0zMUhYq5...|          3.0|2.1125159600090635|\n",
      "|iGkavx4c-48pTgfFZ...|1370lq78GpaSd3P-Q...|dyJeQm97lEZ1LgrUF...|          1.0|2.1668468801128578|\n",
      "|j-yH9jC5b_jd97eQp...|cdk-qqJ71q6P7TJTw...|-9SoHrhiiUVmx6-Mk...|          3.0| 2.802395013746425|\n",
      "|Omg8uIVMReSqy4rPy...|ZjivUlBDO-LblMIdQ...|-9SoHrhiiUVmx6-Mk...|          2.0|3.1458691671926164|\n",
      "|xiyOdMVylloR6pVQ4...|A5VKj3IaxdCDR9tXc...|-9SoHrhiiUVmx6-Mk...|          1.0| 2.802395013746425|\n",
      "|FPgVgzsSIeXEltN6e...|_uDkdt4ThY7PtS8Lz...|-9SoHrhiiUVmx6-Mk...|          3.0|3.1458691671926164|\n",
      "|aKOkk9mUiqO-hNndw...|P76JDkYzSswHkC3FB...|-9SoHrhiiUVmx6-Mk...|          4.0| 3.832817474084999|\n",
      "|l41xGe8TgZX6Xmrl9...|lCZQuid0eBe_5ZHOW...|-9SoHrhiiUVmx6-Mk...|          3.0| 2.502205284750856|\n",
      "|Do67io0wovCQn9oAk...|-kG0N8sBhBotMbu0K...|-9SoHrhiiUVmx6-Mk...|          1.0| 2.802395013746425|\n",
      "|pOOc6U05Pj46FtzvY...|cmzL5S9QOjeiU3Yzo...|-9SoHrhiiUVmx6-Mk...|          2.0| 3.489343320638808|\n",
      "|JhZeRvgdfU9Ty7sKI...|1cLeX8ze098iVv_YF...|-9SoHrhiiUVmx6-Mk...|          1.0|2.1154467068540432|\n",
      "|UO9XHYfbN-0SpfJwV...|7Qv-Sm_BXpgM0G_pD...|-9SoHrhiiUVmx6-Mk...|          5.0| 2.933852553947583|\n",
      "|zNIiw2UOfX40J1x7u...|hQDjd2FmjmiHwaUyt...|-9SoHrhiiUVmx6-Mk...|          4.0| 3.339248456141023|\n",
      "|IVf5u1wtoNZ_gTqMi...|p_KC8_d_MQnfJwgzm...|-9SoHrhiiUVmx6-Mk...|          2.0| 3.489343320638808|\n",
      "|ODtTzAZt4Jx5K8JhV...|i6hWP3si97eKQl_Jy...|-9SoHrhiiUVmx6-Mk...|          4.0|3.1458691671926164|\n",
      "|BGGGvxWeMuLcCj2B4...|cdk-qqJ71q6P7TJTw...|AQ7ngJEEsAfLWAYar...|          3.0|3.1010332217932612|\n",
      "|tQysCIGKX3g5QPtIe...|cdk-qqJ71q6P7TJTw...|CSyVOWq1i6unqVIF6...|          1.0|3.2097143991324275|\n",
      "|wPEQjOYj17jyDLUkD...|avtIaGynSxenL8Y-O...|CSyVOWq1i6unqVIF6...|          4.0|2.4685430321466084|\n",
      "|fVnbDWCpA0dmgwojz...|AY97dZLFOzhXyAKsQ...|CSyVOWq1i6unqVIF6...|          4.0|3.2097143991324275|\n",
      "|y5vclPFwMIZ1EBJly...|7OY9MhDtZO-_Z3GYG...|CSyVOWq1i6unqVIF6...|          1.0| 2.618637896644393|\n",
      "|gdbMPiv0tobqDAEAb...|-kG0N8sBhBotMbu0K...|CSyVOWq1i6unqVIF6...|          2.0|2.9095246701368582|\n",
      "|5vfjdRURAif8DbPU2...|cdk-qqJ71q6P7TJTw...|0l3x4EgoWVYdla3CP...|          4.0| 3.348585852490719|\n",
      "|OQ8jI4PATjd-aGxUy...|VsPRkZb_-boEXg8Ug...|0l3x4EgoWVYdla3CP...|          5.0| 4.515341480159162|\n",
      "|YMkTd4Hofmd5gFowt...|7ahUyPUwmlP6Gx0_4...|0l3x4EgoWVYdla3CP...|          1.0|3.2510783679466604|\n",
      "|rxsjHxE_VXtNZTttk...|IA3vdSR9MrjXR2oUf...|0l3x4EgoWVYdla3CP...|          4.0|3.9319636663249407|\n",
      "|4P6nx3XWFAEY2OcKM...|yzzhyJJgtzxvTD8T5...|0l3x4EgoWVYdla3CP...|          3.0|2.5115426811005515|\n",
      "|AkmNqTCTMFA3VdfZ4...|JEXPWCc4DHM7m2ACy...|0l3x4EgoWVYdla3CP...|          2.0|2.5115426811005515|\n",
      "|cJ3mR-RW0YNRSQ2vV...|ppwOn-VQmB0NDew2Y...|0l3x4EgoWVYdla3CP...|          1.0|1.9669905500521405|\n",
      "|-knojma3PFSvM63Pq...|p8H1RF75ByAEoGnzf...|0l3x4EgoWVYdla3CP...|          3.0| 4.411770987101001|\n",
      "|S7tOj8OV13FrBStea...|j3ulZ7hPuRbeL8wp7...|0l3x4EgoWVYdla3CP...|          1.0| 2.748206394499581|\n",
      "|G1AiTxY4PqodxIveJ...|ni_aJXlKu1RYZwzgz...|0l3x4EgoWVYdla3CP...|          5.0| 3.348585852490719|\n",
      "|9lYV9AuI1YBGtsy7B...|hNKjadzvQ8Gzh5ZIi...|0l3x4EgoWVYdla3CP...|          4.0|  4.17186732671297|\n",
      "|8zdXW4L6XfX2KMcnS...|nDmiX5v02FN0Gfam5...|0l3x4EgoWVYdla3CP...|          3.0|  3.69206000593691|\n",
      "|a1S2KrBcvNKyriOZe...|0DCMSaBACyudY-QSK...|0l3x4EgoWVYdla3CP...|          3.0|3.0051116990445284|\n",
      "|dMm_9KEByYTCDFmvd...|fXNea6ST3FlFpA9qm...|0l3x4EgoWVYdla3CP...|          4.0|3.9319636663249407|\n",
      "|B2wNmsNme93dN7T32...|-kG0N8sBhBotMbu0K...|0l3x4EgoWVYdla3CP...|          3.0|3.4383946483809646|\n",
      "|jqp6BSE3pF_5o147g...|mF1mrvJBI-CqeYWF6...|0l3x4EgoWVYdla3CP...|          4.0|3.5419651414391256|\n",
      "|ie-JlMFc85lHVJFWC...|JXSWuEmgwFDbRgniP...|0l3x4EgoWVYdla3CP...|          4.0|  4.17186732671297|\n",
      "|r_zGQzuM4TUOiL87k...|yJ2dxCoBWUyWOUUDv...|0l3x4EgoWVYdla3CP...|          4.0|3.4383946483809646|\n",
      "|T4ZlrVt68QMqBbHv5...|UQbUE9pewUFD9YcpY...|0l3x4EgoWVYdla3CP...|          4.0|  3.69206000593691|\n",
      "|GAiEm-H1NvEBB8Xtn...|cCcIatBxeo09xKEgm...|0l3x4EgoWVYdla3CP...|          1.0|2.3181633921521447|\n",
      "|QSftxVxeF_PenhB9n...|cdk-qqJ71q6P7TJTw...|ObBjCIJn23tWF1Rz1...|          3.0|2.4430966576063486|\n",
      "|UvP_wQjrohYaE7TUV...|cdk-qqJ71q6P7TJTw...|Rdfmaec2thHq7oZqb...|          3.0|3.5204940162855465|\n",
      "|IMVQYDNfQb5i6A4kG...|SGb2Z3iJzpYF0d8QG...|Rdfmaec2thHq7oZqb...|          4.0| 4.207442323177929|\n",
      "|u8I4KIwaxNEaiYspX...|JmI9nslLD7KZqRr__...|Rdfmaec2thHq7oZqb...|          4.0|3.5204940162855465|\n",
      "|BAtxh2r4VngJ4RXLS...|cdk-qqJ71q6P7TJTw...|d1LU2oIXZ3QaU5fZ3...|          3.0|2.9283729632786546|\n",
      "|u1HWRi-AxbyeDFZWR...|cdk-qqJ71q6P7TJTw...|pxgXiW6BjsbYYe6nU...|          2.0|3.6931210941507517|\n",
      "|uc5vd2sPDpuR9YKm3...|Q9rsaUiQ-A3NdEAlo...|0UXrhkKa7bdbZXSPV...|          5.0| 2.750619919765743|\n",
      "|WCD77ZLjkkDsdDuFL...|Q9rsaUiQ-A3NdEAlo...|B2nMsevJ5aejVo-j-...|          1.0|2.7142425898850693|\n",
      "|Wr4OBkmZYXkh8wmc0...|XO2hZb0xC8jTexSHG...|JesJ-LaNfr3pKhL7g...|          2.0|2.5736852737517264|\n",
      "|CGivhR9EgKqJ5WU6J...|E91Yw0c91fKuIPbxA...|JesJ-LaNfr3pKhL7g...|          4.0|3.7032194854836504|\n",
      "|zAZ513YXZkXIukZzk...|h89GPp6sqm9VocQmH...|JesJ-LaNfr3pKhL7g...|          4.0|3.5313005823569714|\n",
      "|yHCEyL3G7OmkzU1Mn...|8JuW3Rf8TVUivb8zi...|JesJ-LaNfr3pKhL7g...|          1.0|1.8466392567409884|\n",
      "|fpvQlkvD1lPGgAhOp...|p8H1RF75ByAEoGnzf...|JesJ-LaNfr3pKhL7g...|          3.0|3.2699365361472124|\n",
      "|smq1ZDAqT9KhzMfbO...|SZapETdWet_A8W_J6...|JesJ-LaNfr3pKhL7g...|          3.0| 2.494815113504295|\n",
      "|X-EpWge3EVeQz6gqu...|vvho7_ZaJ0X6hf9ai...|JesJ-LaNfr3pKhL7g...|          4.0|  3.98031314851778|\n",
      "|nxFHZeb7BZoY38mt1...|jLm8aqadiTN_k98lV...|JesJ-LaNfr3pKhL7g...|          4.0|3.9075374100748705|\n",
      "|mm53MzwfnawRI1E4y...|QB0yBWP-fpwBhNoWy...|JesJ-LaNfr3pKhL7g...|          4.0|  3.60571200093959|\n",
      "|IYTkOyC1VPUKIzlY5...|ZjivUlBDO-LblMIdQ...|JesJ-LaNfr3pKhL7g...|          2.0|2.9992381211439305|\n",
      "|Bgf5eDzNZHpDOxMj-...|R32-b4JdKlifG15DG...|JesJ-LaNfr3pKhL7g...|          2.0|2.7484804710602413|\n",
      "|bGeBqEjEpdJOpTZz4...|AlN1hJXQL84ZZkoMd...|JesJ-LaNfr3pKhL7g...|          2.0|3.2250478448472997|\n",
      "|_JTzpGYm91ImHwRk0...|TutiDI3FwPv7BcBtV...|JesJ-LaNfr3pKhL7g...|          3.0| 3.174064731742864|\n",
      "|WRQNlO_fK7Zzpu-py...|hrhtWc8UcoZqYr2d7...|JesJ-LaNfr3pKhL7g...|          3.0|2.4389563732711474|\n",
      "|rNoWEUMwMbeMIPlj9...|TDtggQc6j_HjmQXS5...|JesJ-LaNfr3pKhL7g...|          3.0|3.2545705721300067|\n",
      "|fotswtZkMF-DTC8dF...|dwogRZ8Vdu7Pd4qSN...|JesJ-LaNfr3pKhL7g...|          4.0| 3.239141781531961|\n",
      "|wiqPvU5mxzptMU00W...|pAB2p0SieP4R_sGMZ...|JesJ-LaNfr3pKhL7g...|          3.0|3.3318582848944622|\n",
      "|9kIIT8rV46SjKZVaG...|c_ag5NCkotE_r-a3f...|JesJ-LaNfr3pKhL7g...|          5.0|3.8221873558494366|\n",
      "|nJFQQZLXbtcCXPQZb...|5O2Gk2Kg3QpKHmcNT...|JesJ-LaNfr3pKhL7g...|          2.0| 3.223380751417169|\n",
      "|kjJz6Oc4Vo-9m33Jl...|zSkdFkXfhLU8AV3PC...|JesJ-LaNfr3pKhL7g...|          3.0|3.5021415078814293|\n",
      "|gDuH-BvvEJ1NY3Ofj...|_nsL3sRM1IWIPLSOc...|JesJ-LaNfr3pKhL7g...|          4.0|3.4277300892988105|\n",
      "|k9ogqXldJnmNdSB6l...|TsnkcamfyUSfJTPWG...|JesJ-LaNfr3pKhL7g...|          4.0| 4.391803472515742|\n",
      "|OP04dZ7rE8T4Rx9L0...|FaHADZARwnY4yvlvp...|JesJ-LaNfr3pKhL7g...|          4.0| 3.937028724067157|\n",
      "|9FqxOg7bsUrMS-ina...|lVWb-UqgBGJ6IgZOU...|QyvBN9fVBf5J0VRYO...|          1.0|1.9767846641069047|\n",
      "|ayq971YzLbIoQwU7u...|Yde8uVFdspPPGwRED...|QyvBN9fVBf5J0VRYO...|          4.0|3.0817031889752524|\n",
      "|-xcC3rJi97gj7hNTK...|3OPItIE_tgKbqQvuT...|8MXElUBd8tR8sevhk...|          5.0|2.8988985068176945|\n",
      "|u0kQFtAQVxN6NajkT...|43E9jkoUbQ6hWyZ2N...|8MXElUBd8tR8sevhk...|          2.0|1.9720465395372815|\n",
      "+--------------------+--------------------+--------------------+-------------+------------------+\n",
      "only showing top 200 rows\n",
      "\n"
     ]
    }
   ],
   "source": [
    "predicted=p_9.transform(df_ratings).select('review_id','business_id','user_id','review_rating','prediction').show(200)"
   ]
  }
 ],
 "metadata": {
  "anaconda-cloud": {},
  "kernelspec": {
   "display_name": "Python 3",
   "language": "python",
   "name": "python3"
  },
  "language_info": {
   "codemirror_mode": {
    "name": "ipython",
    "version": 3
   },
   "file_extension": ".py",
   "mimetype": "text/x-python",
   "name": "python",
   "nbconvert_exporter": "python",
   "pygments_lexer": "ipython3",
   "version": "3.5.2"
  }
 },
 "nbformat": 4,
 "nbformat_minor": 2
}
